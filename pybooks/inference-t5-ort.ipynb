{
 "cells": [
  {
   "cell_type": "code",
   "execution_count": null,
   "metadata": {},
   "outputs": [],
   "source": [
    "%load_ext autoreload\n",
    "%autoreload 2"
   ]
  },
  {
   "cell_type": "code",
   "execution_count": null,
   "metadata": {},
   "outputs": [],
   "source": [
    "import sys\n",
    "\n",
    "sys.path.append(\"../\")"
   ]
  },
  {
   "cell_type": "code",
   "execution_count": null,
   "metadata": {},
   "outputs": [],
   "source": [
    "import os\n",
    "\n",
    "os.environ[\"CUDA_VISIBLE_DEVICES\"] = \"0\"\n",
    "os.environ[\"CUDA_DEVICE_ORDER\"] = \"PCI_BUS_ID\""
   ]
  },
  {
   "cell_type": "code",
   "execution_count": null,
   "metadata": {},
   "outputs": [],
   "source": [
    "import pandas as pd\n",
    "from sklearn.model_selection import train_test_split\n",
    "from transformers import T5Tokenizer"
   ]
  },
  {
   "cell_type": "code",
   "execution_count": null,
   "metadata": {},
   "outputs": [
    {
     "data": {
      "text/html": [
       "<div>\n",
       "<style scoped>\n",
       "    .dataframe tbody tr th:only-of-type {\n",
       "        vertical-align: middle;\n",
       "    }\n",
       "\n",
       "    .dataframe tbody tr th {\n",
       "        vertical-align: top;\n",
       "    }\n",
       "\n",
       "    .dataframe thead th {\n",
       "        text-align: right;\n",
       "    }\n",
       "</style>\n",
       "<table border=\"1\" class=\"dataframe\">\n",
       "  <thead>\n",
       "    <tr style=\"text-align: right;\">\n",
       "      <th></th>\n",
       "      <th>input_text</th>\n",
       "      <th>target_text</th>\n",
       "      <th>prefix</th>\n",
       "    </tr>\n",
       "  </thead>\n",
       "  <tbody>\n",
       "    <tr>\n",
       "      <th>4233</th>\n",
       "      <td>⚠️🇷🇺#RASP  акции «Распадской» снизились после ...</td>\n",
       "      <td>129-2</td>\n",
       "      <td>clsorg</td>\n",
       "    </tr>\n",
       "    <tr>\n",
       "      <th>3743</th>\n",
       "      <td>​​Падение цен на сталь на фоне замедления Кита...</td>\n",
       "      <td>90-2;116-2;152-2</td>\n",
       "      <td>clsorg</td>\n",
       "    </tr>\n",
       "    <tr>\n",
       "      <th>6468</th>\n",
       "      <td>📣 Полюс завершил свой выкуп  Сегодня объявили ...</td>\n",
       "      <td>127-4</td>\n",
       "      <td>clsorg</td>\n",
       "    </tr>\n",
       "    <tr>\n",
       "      <th>912</th>\n",
       "      <td>\"🇷🇺#YNDX  \"\"Яндекс\"\" заявил, что утечка части ...</td>\n",
       "      <td>236-4</td>\n",
       "      <td>clsorg</td>\n",
       "    </tr>\n",
       "    <tr>\n",
       "      <th>5824</th>\n",
       "      <td>💥🇷🇺#ETLN = +7%</td>\n",
       "      <td>218-3</td>\n",
       "      <td>clsorg</td>\n",
       "    </tr>\n",
       "    <tr>\n",
       "      <th>4575</th>\n",
       "      <td>❗️🇷🇺#торги #россия  СПБ Биржа с 13 марта измен...</td>\n",
       "      <td>225-3;230-3;251-3</td>\n",
       "      <td>clsorg</td>\n",
       "    </tr>\n",
       "    <tr>\n",
       "      <th>999</th>\n",
       "      <td>\"🏁 Итоги дня, 23.01   🍗 Группа \"\"Черкизово\"\" п...</td>\n",
       "      <td>58-4;236-4</td>\n",
       "      <td>clsorg</td>\n",
       "    </tr>\n",
       "    <tr>\n",
       "      <th>4463</th>\n",
       "      <td>❗️ Мосбиржа (MOEX): справедливая цена 95 рубле...</td>\n",
       "      <td>103-1</td>\n",
       "      <td>clsorg</td>\n",
       "    </tr>\n",
       "    <tr>\n",
       "      <th>2812</th>\n",
       "      <td>Ожидаемые события на 31 января  🇷🇺 В России  Р...</td>\n",
       "      <td>258-3</td>\n",
       "      <td>clsorg</td>\n",
       "    </tr>\n",
       "    <tr>\n",
       "      <th>2092</th>\n",
       "      <td>Акционеры Фосагро (PHOR) утвердили 465 руб./ак...</td>\n",
       "      <td>187-4</td>\n",
       "      <td>clsorg</td>\n",
       "    </tr>\n",
       "    <tr>\n",
       "      <th>5952</th>\n",
       "      <td>💥🇷🇺#NVTK #дивиденд сд НОВАТЭК -  определить ра...</td>\n",
       "      <td>115-4</td>\n",
       "      <td>clsorg</td>\n",
       "    </tr>\n",
       "    <tr>\n",
       "      <th>6245</th>\n",
       "      <td>📅 Как работают биржи в праздники?  На носу чер...</td>\n",
       "      <td>230-3</td>\n",
       "      <td>clsorg</td>\n",
       "    </tr>\n",
       "    <tr>\n",
       "      <th>5126</th>\n",
       "      <td>🇷🇺#RUAL Нигерия обсудила с “Русалом” возможнос...</td>\n",
       "      <td>11-4</td>\n",
       "      <td>clsorg</td>\n",
       "    </tr>\n",
       "    <tr>\n",
       "      <th>6777</th>\n",
       "      <td>🛢🇷🇺#GAZP #спг Газпром вложит до 4 млрд руб. в ...</td>\n",
       "      <td>48-4</td>\n",
       "      <td>clsorg</td>\n",
       "    </tr>\n",
       "    <tr>\n",
       "      <th>3325</th>\n",
       "      <td>Топ-5 акций по потенциалу роста, по расчётам и...</td>\n",
       "      <td>56-5;112-5;160-5</td>\n",
       "      <td>clsorg</td>\n",
       "    </tr>\n",
       "    <tr>\n",
       "      <th>2349</th>\n",
       "      <td>Главное к открытию пятницы (17.11): #брифинг  ...</td>\n",
       "      <td>163-3;225-3</td>\n",
       "      <td>clsorg</td>\n",
       "    </tr>\n",
       "    <tr>\n",
       "      <th>3155</th>\n",
       "      <td>Сборник. Яндекс (YNDX): справедливая цена 2820...</td>\n",
       "      <td>236-5</td>\n",
       "      <td>clsorg</td>\n",
       "    </tr>\n",
       "    <tr>\n",
       "      <th>1406</th>\n",
       "      <td>#HYDR HYDR ЧИСТАЯ ПРИБЫЛЬ РУСГИДРО ПО РСБУ В 2...</td>\n",
       "      <td>185-4</td>\n",
       "      <td>clsorg</td>\n",
       "    </tr>\n",
       "    <tr>\n",
       "      <th>3926</th>\n",
       "      <td>​​🟢 ИТОГИ ДНЯ. Российские акции продолжили дор...</td>\n",
       "      <td>56-3;90-4;112-4;116-4;126-3;152-4;218-4</td>\n",
       "      <td>clsorg</td>\n",
       "    </tr>\n",
       "    <tr>\n",
       "      <th>3895</th>\n",
       "      <td>​​🟢 ИТОГИ ДНЯ. Высокая волатильность на россий...</td>\n",
       "      <td>33-4;185-4</td>\n",
       "      <td>clsorg</td>\n",
       "    </tr>\n",
       "  </tbody>\n",
       "</table>\n",
       "</div>"
      ],
      "text/plain": [
       "                                             input_text  \\\n",
       "4233  ⚠️🇷🇺#RASP  акции «Распадской» снизились после ...   \n",
       "3743  ​​Падение цен на сталь на фоне замедления Кита...   \n",
       "6468  📣 Полюс завершил свой выкуп  Сегодня объявили ...   \n",
       "912   \"🇷🇺#YNDX  \"\"Яндекс\"\" заявил, что утечка части ...   \n",
       "5824                                     💥🇷🇺#ETLN = +7%   \n",
       "4575  ❗️🇷🇺#торги #россия  СПБ Биржа с 13 марта измен...   \n",
       "999   \"🏁 Итоги дня, 23.01   🍗 Группа \"\"Черкизово\"\" п...   \n",
       "4463  ❗️ Мосбиржа (MOEX): справедливая цена 95 рубле...   \n",
       "2812  Ожидаемые события на 31 января  🇷🇺 В России  Р...   \n",
       "2092  Акционеры Фосагро (PHOR) утвердили 465 руб./ак...   \n",
       "5952  💥🇷🇺#NVTK #дивиденд сд НОВАТЭК -  определить ра...   \n",
       "6245  📅 Как работают биржи в праздники?  На носу чер...   \n",
       "5126  🇷🇺#RUAL Нигерия обсудила с “Русалом” возможнос...   \n",
       "6777  🛢🇷🇺#GAZP #спг Газпром вложит до 4 млрд руб. в ...   \n",
       "3325  Топ-5 акций по потенциалу роста, по расчётам и...   \n",
       "2349  Главное к открытию пятницы (17.11): #брифинг  ...   \n",
       "3155  Сборник. Яндекс (YNDX): справедливая цена 2820...   \n",
       "1406  #HYDR HYDR ЧИСТАЯ ПРИБЫЛЬ РУСГИДРО ПО РСБУ В 2...   \n",
       "3926  ​​🟢 ИТОГИ ДНЯ. Российские акции продолжили дор...   \n",
       "3895  ​​🟢 ИТОГИ ДНЯ. Высокая волатильность на россий...   \n",
       "\n",
       "                                  target_text  prefix  \n",
       "4233                                    129-2  clsorg  \n",
       "3743                         90-2;116-2;152-2  clsorg  \n",
       "6468                                    127-4  clsorg  \n",
       "912                                     236-4  clsorg  \n",
       "5824                                    218-3  clsorg  \n",
       "4575                        225-3;230-3;251-3  clsorg  \n",
       "999                                58-4;236-4  clsorg  \n",
       "4463                                    103-1  clsorg  \n",
       "2812                                    258-3  clsorg  \n",
       "2092                                    187-4  clsorg  \n",
       "5952                                    115-4  clsorg  \n",
       "6245                                    230-3  clsorg  \n",
       "5126                                     11-4  clsorg  \n",
       "6777                                     48-4  clsorg  \n",
       "3325                         56-5;112-5;160-5  clsorg  \n",
       "2349                              163-3;225-3  clsorg  \n",
       "3155                                    236-5  clsorg  \n",
       "1406                                    185-4  clsorg  \n",
       "3926  56-3;90-4;112-4;116-4;126-3;152-4;218-4  clsorg  \n",
       "3895                               33-4;185-4  clsorg  "
      ]
     },
     "execution_count": 5,
     "metadata": {},
     "output_type": "execute_result"
    }
   ],
   "source": [
    "# [pin]\n",
    "file_path = \"../data/data-hard.csv\"\n",
    "root_path = \"../data/\"\n",
    "\n",
    "\n",
    "df = pd.read_csv(file_path)\n",
    "df[\"prefix\"] = \"clsorg\"\n",
    "df = df.rename({\"message\": \"input_text\", \"label\": \"target_text\"}, axis=1)\n",
    "df.sample(20)"
   ]
  },
  {
   "cell_type": "code",
   "execution_count": null,
   "metadata": {},
   "outputs": [],
   "source": [
    "# m_name = \"t5-small\"\n",
    "m_name = \"cointegrated/rut5-small\"\n",
    "tokenizer = T5Tokenizer.from_pretrained(m_name)"
   ]
  },
  {
   "cell_type": "code",
   "execution_count": null,
   "metadata": {},
   "outputs": [],
   "source": [
    "from src.t5.dataset import NERDataModel\n",
    "\n",
    "BATCH_SIZE = 128\n",
    "EPOCHS = 10\n",
    "num_workers = 12\n",
    "train_df, test_df = train_test_split(df, test_size=0.25, random_state=42)\n",
    "data_module = NERDataModel(\n",
    "    train_df, test_df, tokenizer, batch_size=BATCH_SIZE, num_workers=num_workers\n",
    ")\n",
    "data_module.setup()"
   ]
  },
  {
   "cell_type": "code",
   "execution_count": null,
   "metadata": {},
   "outputs": [],
   "source": [
    "import torch\n",
    "from transformers import T5ForConditionalGeneration"
   ]
  },
  {
   "cell_type": "code",
   "execution_count": null,
   "metadata": {},
   "outputs": [],
   "source": [
    "m_name = \"t5-small\"\n",
    "trained_model = T5ForConditionalGeneration.from_pretrained(m_name, return_dict=True)\n",
    "state_dict = torch.load(\"./checkpoints/ner-v8.ckpt\")[\"state_dict\"]\n",
    "state_dict = {k.partition(\"model.\")[2]: v for k, v in state_dict.items()}\n",
    "trained_model.load_state_dict(state_dict)\n",
    "trained_model.save_pretrained(\"./pretrained\")"
   ]
  },
  {
   "cell_type": "code",
   "execution_count": null,
   "metadata": {},
   "outputs": [],
   "source": [
    "m_name = \"./pretrained\"\n",
    "trained_model = T5ForConditionalGeneration.from_pretrained(\n",
    "    m_name, return_dict=True, torch_dtype=torch.float16\n",
    ")\n",
    "trained_model.save_pretrained(\"./pretrained-fp16\")"
   ]
  },
  {
   "cell_type": "code",
   "execution_count": null,
   "metadata": {},
   "outputs": [],
   "source": [
    "m_name = \"./pretrained-fp16\"\n",
    "trained_model = T5ForConditionalGeneration.from_pretrained(\n",
    "    m_name, return_dict=True, torch_dtype=torch.float16\n",
    ")\n",
    "trained_model.cuda();"
   ]
  },
  {
   "cell_type": "code",
   "execution_count": null,
   "metadata": {},
   "outputs": [],
   "source": [
    "import onnxruntime as rt\n",
    "from optimum.onnxruntime import ORTModelForSeq2SeqLM\n",
    "\n",
    "print(rt.get_available_providers())\n",
    "\n",
    "ort_model = ORTModelForSeq2SeqLM.from_pretrained(\n",
    "    \"./pretrained-fp16\",\n",
    "    provider=\"CUDAExecutionProvider\",\n",
    "    export=True,\n",
    ")"
   ]
  },
  {
   "cell_type": "code",
   "execution_count": null,
   "metadata": {},
   "outputs": [],
   "source": [
    "import torch\n",
    "\n",
    "from src.t5.utils import evaluate_metric, generate_answer_batched"
   ]
  },
  {
   "cell_type": "code",
   "execution_count": null,
   "metadata": {},
   "outputs": [
    {
     "name": "stderr",
     "output_type": "stream",
     "text": [
      "  0%|          | 0/15 [00:00<?, ?it/s]/home/worker/workspace/hakaton-gagarin-sentiment_interface/.conda/lib/python3.11/site-packages/transformers/generation/configuration_utils.py:453: UserWarning: `num_beams` is set to 1. However, `early_stopping` is set to `True` -- this flag is only used in beam-based generation modes. You should set `num_beams>1` or unset `early_stopping`.\n",
      "  warnings.warn(\n",
      "100%|██████████| 15/15 [00:11<00:00,  1.28it/s]\n"
     ]
    }
   ],
   "source": [
    "# [pin]\n",
    "with torch.inference_mode(), torch.cuda.amp.autocast():\n",
    "    predictions = generate_answer_batched(\n",
    "        trained_model=ort_model,\n",
    "        tokenizer=tokenizer,\n",
    "        data=test_df[:],\n",
    "        batch_size=128,\n",
    "        num_beams=1,\n",
    "        max_source_length=396,\n",
    "        max_target_length=40,\n",
    "    )"
   ]
  },
  {
   "cell_type": "code",
   "execution_count": null,
   "metadata": {},
   "outputs": [],
   "source": [
    "ldf = test_df.copy()[:]\n",
    "ldf[\"predictions\"] = predictions\n",
    "\n",
    "ldf.loc[\n",
    "    ldf[ldf.predictions.str.findall(r\"[^\\d\\-;]\").str.len() > 0].index, \"predictions\"\n",
    "] = \"0-3\"\n",
    "\n",
    "ldf[[\"tcomp\", \"tsent\"]] = (\n",
    "    ldf[\"target_text\"].str.split(\";\", expand=True)[0].str.split(\"-\", expand=True)\n",
    ")"
   ]
  },
  {
   "cell_type": "code",
   "execution_count": null,
   "metadata": {},
   "outputs": [],
   "source": [
    "from src.t5.utils import postprocess_predictions\n",
    "\n",
    "orgsent = list(\n",
    "    map(lambda x: x[0] if len(x) else [0, 1], postprocess_predictions(predictions))\n",
    ")\n",
    "org = list(map(lambda x: x[0], orgsent))\n",
    "sent = list(map(lambda x: x[1], orgsent))"
   ]
  },
  {
   "cell_type": "code",
   "execution_count": null,
   "metadata": {},
   "outputs": [
    {
     "data": {
      "text/plain": [
       "{'total': 59.70054136860907,\n",
       " 'f1': 0.6425361473499221,\n",
       " 'accuracy': 0.5514746800222593}"
      ]
     },
     "execution_count": 28,
     "metadata": {},
     "output_type": "execute_result"
    }
   ],
   "source": [
    "# [pin]\n",
    "\n",
    "evaluate_metric(\n",
    "    company_predictions=ldf[\"pcomp\"].tolist(),\n",
    "    company_labels=ldf[\"tcomp\"].tolist(),\n",
    "    sentiment_predictions=ldf[\"psent\"].tolist(),\n",
    "    sentiment_labels=ldf[\"tsent\"].tolist(),\n",
    ")"
   ]
  }
 ],
 "metadata": {
  "kernelspec": {
   "display_name": "Python 3",
   "language": "python",
   "name": "python3"
  },
  "language_info": {
   "codemirror_mode": {
    "name": "ipython",
    "version": 3
   },
   "file_extension": ".py",
   "mimetype": "text/x-python",
   "name": "python",
   "nbconvert_exporter": "python",
   "pygments_lexer": "ipython3",
   "version": "3.11.8"
  }
 },
 "nbformat": 4,
 "nbformat_minor": 2
}
