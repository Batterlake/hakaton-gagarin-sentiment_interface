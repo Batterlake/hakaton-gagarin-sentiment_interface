{
 "cells": [
  {
   "cell_type": "code",
   "execution_count": null,
   "metadata": {},
   "outputs": [],
   "source": [
    "%load_ext autoreload\n",
    "%autoreload 2"
   ]
  },
  {
   "cell_type": "code",
   "execution_count": null,
   "metadata": {},
   "outputs": [],
   "source": [
    "import pickle\n",
    "\n",
    "import pandas as pd\n",
    "\n",
    "mentions = pickle.load(open(\"../data/mentions texts.pickle\", \"rb\"))\n",
    "mentions.drop(columns=[\"messageid\"], inplace=True)\n",
    "mentions.drop(index=mentions[mentions.MessageText.str.len() == 0].index, inplace=True)\n",
    "mentions.drop(index=mentions[mentions.issuerid < 0].index, inplace=True)\n",
    "sentiment = pickle.load(open(\"../data/sentiment_texts.pickle\", \"rb\"))\n",
    "sentiment.drop(\n",
    "    index=sentiment[sentiment.MessageText.str.len() == 0].index, inplace=True\n",
    ")\n",
    "print(len(mentions), len(sentiment))\n",
    "\n",
    "ment = mentions[[\"issuerid\", \"MessageText\"]]\n",
    "sent = sentiment[[\"issuerid\", \"MessageText\", \"SentimentScore\"]]\n",
    "\n",
    "mrg = pd.merge(ment, sent, on=[\"issuerid\", \"MessageText\"], how=\"right\")"
   ]
  },
  {
   "cell_type": "code",
   "execution_count": null,
   "metadata": {},
   "outputs": [],
   "source": [
    "def apply_dataset_simple(group: pd.DataFrame):\n",
    "    return \";\".join(map(str, group[\"issuerid\"].tolist()))\n",
    "\n",
    "\n",
    "def apply_dataset_hard(group: pd.DataFrame):\n",
    "    issuer = group[\"issuerid\"].tolist()\n",
    "    score = group[\"SentimentScore\"].tolist()\n",
    "    return \";\".join([f\"{i}-{s}\" for i, s in zip(issuer, score)])\n",
    "\n",
    "\n",
    "messages = []\n",
    "labels = []\n",
    "for message, group in mentions.groupby(\"MessageText\"):\n",
    "    messages.append(message)\n",
    "    labels.append(apply_dataset_simple(group))\n",
    "\n",
    "dataset = pd.DataFrame({\"message\": messages, \"label\": labels})\n",
    "dataset.to_csv(\"../data/data.csv\", index=False)"
   ]
  },
  {
   "cell_type": "code",
   "execution_count": null,
   "metadata": {},
   "outputs": [],
   "source": [
    "messages = []\n",
    "labels = []\n",
    "for message, group in mrg.groupby(\"MessageText\"):\n",
    "    messages.append(message)\n",
    "    labels.append(apply_dataset_hard(group))\n",
    "\n",
    "dataset = pd.DataFrame({\"message\": messages, \"label\": labels})\n",
    "dataset.to_csv(\"../data/data-hard.csv\", index=False)"
   ]
  },
  {
   "cell_type": "code",
   "execution_count": null,
   "metadata": {},
   "outputs": [],
   "source": []
  }
 ],
 "metadata": {
  "kernelspec": {
   "display_name": "Python 3",
   "language": "python",
   "name": "python3"
  },
  "language_info": {
   "codemirror_mode": {
    "name": "ipython",
    "version": 3
   },
   "file_extension": ".py",
   "mimetype": "text/x-python",
   "name": "python",
   "nbconvert_exporter": "python",
   "pygments_lexer": "ipython3",
   "version": "3.11.8"
  }
 },
 "nbformat": 4,
 "nbformat_minor": 2
}
