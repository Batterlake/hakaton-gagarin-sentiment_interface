{
 "cells": [
  {
   "cell_type": "code",
   "execution_count": 1,
   "metadata": {},
   "outputs": [],
   "source": [
    "import pandas as pd\n",
    "import pickle"
   ]
  },
  {
   "cell_type": "code",
   "execution_count": 2,
   "metadata": {},
   "outputs": [],
   "source": [
    "with open('../data/sentiment_texts.pickle', 'rb') as f:\n",
    "    sentiment = pickle.load(f)\n",
    "\n",
    "with open('../data/mentions_texts.pickle', 'rb') as f:\n",
    "    mentions = pickle.load(f)"
   ]
  },
  {
   "cell_type": "code",
   "execution_count": 3,
   "metadata": {},
   "outputs": [],
   "source": [
    "sentiment.drop(\n",
    "    index=sentiment[sentiment.MessageText.str.len() == 0].index, inplace=True\n",
    ")"
   ]
  },
  {
   "cell_type": "code",
   "execution_count": 4,
   "metadata": {},
   "outputs": [],
   "source": [
    "mentions.drop(columns=[\"messageid\"], inplace=True)\n",
    "mentions.drop(index=mentions[mentions.MessageText.str.len() == 0].index, inplace=True)\n",
    "mentions.drop(index=mentions[mentions.issuerid < 0].index, inplace=True)"
   ]
  },
  {
   "cell_type": "code",
   "execution_count": 5,
   "metadata": {},
   "outputs": [],
   "source": [
    "ment = mentions[[\"issuerid\", \"MessageText\"]]\n",
    "sent = sentiment[[\"issuerid\", \"MessageText\", \"SentimentScore\"]]\n",
    "\n",
    "mrg = pd.merge(ment, sent, on=[\"issuerid\", \"MessageText\"], how=\"right\")"
   ]
  },
  {
   "cell_type": "code",
   "execution_count": 10,
   "metadata": {},
   "outputs": [],
   "source": [
    "mrg = mrg[mrg.SentimentScore > 0]"
   ]
  },
  {
   "cell_type": "code",
   "execution_count": 11,
   "metadata": {},
   "outputs": [
    {
     "data": {
      "text/html": [
       "<div>\n",
       "<style scoped>\n",
       "    .dataframe tbody tr th:only-of-type {\n",
       "        vertical-align: middle;\n",
       "    }\n",
       "\n",
       "    .dataframe tbody tr th {\n",
       "        vertical-align: top;\n",
       "    }\n",
       "\n",
       "    .dataframe thead th {\n",
       "        text-align: right;\n",
       "    }\n",
       "</style>\n",
       "<table border=\"1\" class=\"dataframe\">\n",
       "  <thead>\n",
       "    <tr style=\"text-align: right;\">\n",
       "      <th></th>\n",
       "      <th>issuerid</th>\n",
       "      <th>MessageText</th>\n",
       "      <th>SentimentScore</th>\n",
       "    </tr>\n",
       "  </thead>\n",
       "  <tbody>\n",
       "    <tr>\n",
       "      <th>0</th>\n",
       "      <td>153</td>\n",
       "      <td>⚠️🇷🇺#SELG #дивиденд  сд Селигдар: дивиденды 20...</td>\n",
       "      <td>2</td>\n",
       "    </tr>\n",
       "    <tr>\n",
       "      <th>1</th>\n",
       "      <td>230</td>\n",
       "      <td>Ozon продолжает развивать специализированные ф...</td>\n",
       "      <td>4</td>\n",
       "    </tr>\n",
       "    <tr>\n",
       "      <th>2</th>\n",
       "      <td>118</td>\n",
       "      <td>​Фокусы продолжаются🔥Акции и инвестиции  📈ВТБ ...</td>\n",
       "      <td>4</td>\n",
       "    </tr>\n",
       "    <tr>\n",
       "      <th>3</th>\n",
       "      <td>220</td>\n",
       "      <td>​Фокусы продолжаются🔥Акции и инвестиции  📈ВТБ ...</td>\n",
       "      <td>5</td>\n",
       "    </tr>\n",
       "    <tr>\n",
       "      <th>4</th>\n",
       "      <td>89</td>\n",
       "      <td>​​Windfall Tax — налог на сверхприбыль. Какие ...</td>\n",
       "      <td>2</td>\n",
       "    </tr>\n",
       "    <tr>\n",
       "      <th>...</th>\n",
       "      <td>...</td>\n",
       "      <td>...</td>\n",
       "      <td>...</td>\n",
       "    </tr>\n",
       "    <tr>\n",
       "      <th>9481</th>\n",
       "      <td>157</td>\n",
       "      <td>#FLOT #Дивиденды 💰 7% — возможная дивдоходност...</td>\n",
       "      <td>4</td>\n",
       "    </tr>\n",
       "    <tr>\n",
       "      <th>9482</th>\n",
       "      <td>157</td>\n",
       "      <td>🇷🇺#FLOT #отчетность  ЧИСТАЯ ПРИБЫЛЬ СОВКОМФЛОТ...</td>\n",
       "      <td>4</td>\n",
       "    </tr>\n",
       "    <tr>\n",
       "      <th>9483</th>\n",
       "      <td>225</td>\n",
       "      <td>​​Ключевой принцип создания портфеля  🔹Диверси...</td>\n",
       "      <td>3</td>\n",
       "    </tr>\n",
       "    <tr>\n",
       "      <th>9484</th>\n",
       "      <td>127</td>\n",
       "      <td>\"💥🇷🇺#PLZL #листинг #торги  \"\"Полюс\"\" ведет диа...</td>\n",
       "      <td>3</td>\n",
       "    </tr>\n",
       "    <tr>\n",
       "      <th>9485</th>\n",
       "      <td>112</td>\n",
       "      <td>Роснефть (ROSN) справедливая цена 425.17 рубля...</td>\n",
       "      <td>5</td>\n",
       "    </tr>\n",
       "  </tbody>\n",
       "</table>\n",
       "<p>9321 rows × 3 columns</p>\n",
       "</div>"
      ],
      "text/plain": [
       "      issuerid                                        MessageText  \\\n",
       "0          153  ⚠️🇷🇺#SELG #дивиденд  сд Селигдар: дивиденды 20...   \n",
       "1          230  Ozon продолжает развивать специализированные ф...   \n",
       "2          118  ​Фокусы продолжаются🔥Акции и инвестиции  📈ВТБ ...   \n",
       "3          220  ​Фокусы продолжаются🔥Акции и инвестиции  📈ВТБ ...   \n",
       "4           89  ​​Windfall Tax — налог на сверхприбыль. Какие ...   \n",
       "...        ...                                                ...   \n",
       "9481       157  #FLOT #Дивиденды 💰 7% — возможная дивдоходност...   \n",
       "9482       157  🇷🇺#FLOT #отчетность  ЧИСТАЯ ПРИБЫЛЬ СОВКОМФЛОТ...   \n",
       "9483       225  ​​Ключевой принцип создания портфеля  🔹Диверси...   \n",
       "9484       127  \"💥🇷🇺#PLZL #листинг #торги  \"\"Полюс\"\" ведет диа...   \n",
       "9485       112  Роснефть (ROSN) справедливая цена 425.17 рубля...   \n",
       "\n",
       "      SentimentScore  \n",
       "0                  2  \n",
       "1                  4  \n",
       "2                  4  \n",
       "3                  5  \n",
       "4                  2  \n",
       "...              ...  \n",
       "9481               4  \n",
       "9482               4  \n",
       "9483               3  \n",
       "9484               3  \n",
       "9485               5  \n",
       "\n",
       "[9321 rows x 3 columns]"
      ]
     },
     "execution_count": 11,
     "metadata": {},
     "output_type": "execute_result"
    }
   ],
   "source": [
    "mrg"
   ]
  },
  {
   "cell_type": "code",
   "execution_count": 12,
   "metadata": {},
   "outputs": [],
   "source": [
    "mrg.to_csv(\"../data/sentiment_data.csv\", index=False)"
   ]
  }
 ],
 "metadata": {
  "kernelspec": {
   "display_name": "Python 3",
   "language": "python",
   "name": "python3"
  },
  "language_info": {
   "codemirror_mode": {
    "name": "ipython",
    "version": 3
   },
   "file_extension": ".py",
   "mimetype": "text/x-python",
   "name": "python",
   "nbconvert_exporter": "python",
   "pygments_lexer": "ipython3",
   "version": "3.10.13"
  }
 },
 "nbformat": 4,
 "nbformat_minor": 2
}
