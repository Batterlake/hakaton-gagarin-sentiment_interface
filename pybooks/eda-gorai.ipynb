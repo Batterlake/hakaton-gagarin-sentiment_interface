{
 "cells": [
  {
   "cell_type": "code",
   "execution_count": null,
   "metadata": {},
   "outputs": [],
   "source": [
    "%load_ext autoreload\n",
    "%autoreload 2"
   ]
  },
  {
   "cell_type": "code",
   "execution_count": null,
   "metadata": {},
   "outputs": [],
   "source": [
    "import os\n",
    "\n",
    "os.environ[\"CUDA_VISIBLE_DEVICES\"] = \"6\"\n",
    "os.environ[\"CUDA_DEVICE_ORDEER\"] = \"PCI_BUS_ID\""
   ]
  },
  {
   "cell_type": "code",
   "execution_count": null,
   "metadata": {},
   "outputs": [],
   "source": [
    "import pickle\n",
    "\n",
    "import pandas as pd\n",
    "\n",
    "mentions = pickle.load(open(\"../data/sentiment_dataset/mentions texts.pickle\", \"rb\"))\n",
    "mentions.drop(columns=[\"messageid\"], inplace=True)\n",
    "sentiment = pickle.load(open(\"../data/sentiment_dataset/sentiment_texts.pickle\", \"rb\"))\n",
    "len(mentions), len(sentiment)"
   ]
  },
  {
   "cell_type": "code",
   "execution_count": null,
   "metadata": {},
   "outputs": [],
   "source": [
    "issuers = pd.read_excel(\"../data/sentiment_dataset/names and synonyms.xlsx\")\n",
    "issuers.drop(columns=[\"VeryOddCompany\"], inplace=True)"
   ]
  },
  {
   "cell_type": "code",
   "execution_count": null,
   "metadata": {},
   "outputs": [],
   "source": [
    "issuers[\"ticker\"] = issuers[\"BGTicker\"].copy()\n",
    "issuers[\"ticker\"].fillna(issuers[\"BGTicker.1\"], inplace=True)\n",
    "issuers[\"HumanName\"] = issuers[\"Unnamed: 5\"].copy()\n",
    "issuers[\"HumanName\"].fillna(issuers[\"Unnamed: 6\"], inplace=True)\n",
    "issuers[\"HumanName\"].fillna(issuers[\"Unnamed: 7\"], inplace=True)\n",
    "issuers[\"HumanName\"].fillna(issuers[\"Unnamed: 8\"], inplace=True)\n",
    "issuers[\"HumanName\"].fillna(issuers[\"Unnamed: 9\"], inplace=True)\n",
    "issuers[\"HumanName\"].fillna(issuers[\"Unnamed: 10\"], inplace=True)\n",
    "issuers[\"HumanName\"].fillna(issuers[\"Unnamed: 11\"], inplace=True)\n",
    "issuers[\"HumanName\"].fillna(issuers[\"Unnamed: 12\"], inplace=True)\n",
    "issuers[\"HumanName\"].fillna(issuers[\"ticker\"], inplace=True)"
   ]
  },
  {
   "cell_type": "code",
   "execution_count": null,
   "metadata": {},
   "outputs": [],
   "source": [
    "merged = pd.merge(\n",
    "    mentions,\n",
    "    sentiment,\n",
    "    left_on=mentions.columns.tolist(),\n",
    "    right_on=mentions.columns.tolist(),\n",
    "    how=\"outer\",\n",
    ")\n",
    "merged = pd.merge(\n",
    "    merged,\n",
    "    issuers[[\"issuerid\", \"HumanName\", \"ticker\", \"EMITENT_FULL_NAME\"]],\n",
    "    on=\"issuerid\",\n",
    ")"
   ]
  },
  {
   "cell_type": "code",
   "execution_count": null,
   "metadata": {},
   "outputs": [],
   "source": [
    "merged"
   ]
  },
  {
   "cell_type": "code",
   "execution_count": null,
   "metadata": {},
   "outputs": [],
   "source": [
    "merged[\"mcid\"] = merged[\"MessageID\"].astype(str) + \"_\" + merged[\"ChannelID\"].astype(str)\n",
    "merged.iloc[merged[\"mcid\"].drop_duplicates().index][\"MessageText\"].value_counts()"
   ]
  },
  {
   "cell_type": "code",
   "execution_count": null,
   "metadata": {},
   "outputs": [],
   "source": [
    "print(\n",
    "    f\"Число строк в таблице sentiment: {sentiment.shape[0]}\\nЧисло уникальных строк в таблице sentiment: {sentiment['MessageText'].unique().shape[0]}\"\n",
    ")"
   ]
  },
  {
   "cell_type": "code",
   "execution_count": null,
   "metadata": {},
   "outputs": [],
   "source": [
    "unique_sent = sentiment.MessageID.unique()\n",
    "unique_ment = mentions.MessageID.unique()\n",
    "print(unique_sent.shape, unique_ment.shape)"
   ]
  },
  {
   "cell_type": "code",
   "execution_count": null,
   "metadata": {},
   "outputs": [],
   "source": [
    "vc = merged.MessageText.value_counts()\n",
    "vc.min(), vc.median(), vc.mean(), vc.max()"
   ]
  },
  {
   "cell_type": "code",
   "execution_count": null,
   "metadata": {},
   "outputs": [],
   "source": [
    "vc.hist(bins=max(vc))"
   ]
  },
  {
   "cell_type": "code",
   "execution_count": null,
   "metadata": {},
   "outputs": [],
   "source": [
    "vc[vc == 1].shape[0] / vc.shape[0]"
   ]
  },
  {
   "cell_type": "code",
   "execution_count": null,
   "metadata": {},
   "outputs": [],
   "source": [
    "vc.index[1]"
   ]
  },
  {
   "cell_type": "code",
   "execution_count": null,
   "metadata": {},
   "outputs": [],
   "source": [
    "vc.values"
   ]
  },
  {
   "cell_type": "code",
   "execution_count": null,
   "metadata": {},
   "outputs": [],
   "source": [
    "merged.groupby(\"ChannelID\").SentimentScore.mean()"
   ]
  },
  {
   "cell_type": "code",
   "execution_count": null,
   "metadata": {},
   "outputs": [],
   "source": [
    "pd.set_option(\"display.max_columns\", 500)\n",
    "sentiment.groupby(\"issuerid\")[\"SentimentScore\"].value_counts().unstack(fill_value=0).T"
   ]
  },
  {
   "cell_type": "code",
   "execution_count": null,
   "metadata": {},
   "outputs": [],
   "source": [
    "# import matplotlib.pylab as plt\n",
    "# plt.figure(figsize=(20,20))\n",
    "pd.set_option(\"display.max_rows\", 500)\n",
    "sentiment.groupby(\"issuerid\")[\"SentimentScore\"].value_counts().unstack(fill_value=0)[\n",
    "    :10\n",
    "].T.plot(kind=\"bar\", legend=False, figsize=(20, 20))"
   ]
  },
  {
   "cell_type": "code",
   "execution_count": null,
   "metadata": {},
   "outputs": [],
   "source": [
    "s = merged[merged.MessageText == vc.index[7]]\n",
    "# s.SentimentScore.value_counts()\n",
    "s"
   ]
  },
  {
   "cell_type": "code",
   "execution_count": null,
   "metadata": {},
   "outputs": [],
   "source": [
    "merged.MessageText"
   ]
  },
  {
   "cell_type": "code",
   "execution_count": null,
   "metadata": {},
   "outputs": [],
   "source": [
    "merged"
   ]
  },
  {
   "cell_type": "code",
   "execution_count": null,
   "metadata": {},
   "outputs": [],
   "source": [
    "merged[\"found_ticker\"] = merged.MessageText.str.findall(r\"#[A-Z]{3,5}\\s|$[A-Z]{3,5}\\s\")"
   ]
  },
  {
   "cell_type": "code",
   "execution_count": null,
   "metadata": {},
   "outputs": [],
   "source": [
    "mrg = merged[~merged.MessageText.duplicated(keep=\"first\")]\n",
    "mrg.shape"
   ]
  },
  {
   "cell_type": "code",
   "execution_count": null,
   "metadata": {},
   "outputs": [],
   "source": [
    "len(mrg[mrg[\"found_ticker\"].str.len() > 0]) / len(mrg)"
   ]
  },
  {
   "cell_type": "code",
   "execution_count": null,
   "metadata": {},
   "outputs": [],
   "source": [
    "import numpy as np\n",
    "\n",
    "np.intersect1d(unique_ment, unique_sent).shape"
   ]
  },
  {
   "cell_type": "code",
   "execution_count": null,
   "metadata": {},
   "outputs": [],
   "source": [
    "sel_ment = mentions[mentions.MessageID.isin(unique_sent)]\n",
    "sel_ment.shape"
   ]
  },
  {
   "cell_type": "code",
   "execution_count": null,
   "metadata": {},
   "outputs": [],
   "source": [
    "(mentions.messageid == mentions.MessageID).all()"
   ]
  },
  {
   "cell_type": "markdown",
   "metadata": {},
   "source": [
    "messageid колонка повторяет MessageID"
   ]
  },
  {
   "cell_type": "code",
   "execution_count": null,
   "metadata": {},
   "outputs": [],
   "source": [
    "mentions.drop(columns=[\"messageid\"], inplace=True)"
   ]
  },
  {
   "cell_type": "code",
   "execution_count": null,
   "metadata": {},
   "outputs": [],
   "source": [
    "sorted(mentions.columns)"
   ]
  },
  {
   "cell_type": "code",
   "execution_count": null,
   "metadata": {},
   "outputs": [],
   "source": [
    "sorted(sentiment.columns)"
   ]
  },
  {
   "cell_type": "markdown",
   "metadata": {},
   "source": [
    "Разница в колонках таблиц только в новом поле SentimentScore для таблицы sentiment"
   ]
  },
  {
   "cell_type": "code",
   "execution_count": null,
   "metadata": {},
   "outputs": [],
   "source": [
    "usefull_common_cols = [\"MessageID\", \"ChannelID\", \"MessageText\"]"
   ]
  },
  {
   "cell_type": "code",
   "execution_count": null,
   "metadata": {},
   "outputs": [],
   "source": [
    "sentiment[usefull_common_cols]"
   ]
  },
  {
   "cell_type": "code",
   "execution_count": null,
   "metadata": {},
   "outputs": [],
   "source": [
    "import pandas as pd\n",
    "\n",
    "pd.merge(\n",
    "    mentions,\n",
    "    sentiment,\n",
    "    left_on=\"MessageID\",\n",
    ")"
   ]
  }
 ],
 "metadata": {
  "kernelspec": {
   "display_name": "Python 3",
   "language": "python",
   "name": "python3"
  },
  "language_info": {
   "codemirror_mode": {
    "name": "ipython",
    "version": 3
   },
   "file_extension": ".py",
   "mimetype": "text/x-python",
   "name": "python",
   "nbconvert_exporter": "python",
   "pygments_lexer": "ipython3",
   "version": "3.11.8"
  }
 },
 "nbformat": 4,
 "nbformat_minor": 2
}
