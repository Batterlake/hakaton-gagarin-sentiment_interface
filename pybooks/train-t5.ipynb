{
 "cells": [
  {
   "cell_type": "code",
   "execution_count": null,
   "metadata": {},
   "outputs": [],
   "source": [
    "%load_ext autoreload\n",
    "%autoreload 2"
   ]
  },
  {
   "cell_type": "code",
   "execution_count": null,
   "metadata": {},
   "outputs": [],
   "source": [
    "import sys\n",
    "\n",
    "sys.path.append(\"../\")"
   ]
  },
  {
   "cell_type": "code",
   "execution_count": null,
   "metadata": {},
   "outputs": [],
   "source": [
    "import os\n",
    "\n",
    "os.environ[\"CUDA_VISIBLE_DEVICES\"] = \"6\"\n",
    "os.environ[\"CUDA_DEVICE_ORDER\"] = \"PCI_BUS_ID\""
   ]
  },
  {
   "cell_type": "code",
   "execution_count": null,
   "metadata": {},
   "outputs": [],
   "source": [
    "import pandas as pd\n",
    "from pytorch_lightning import Trainer\n",
    "from pytorch_lightning.callbacks import ModelCheckpoint\n",
    "from sklearn.model_selection import train_test_split\n",
    "from transformers import T5Tokenizer"
   ]
  },
  {
   "cell_type": "code",
   "execution_count": null,
   "metadata": {},
   "outputs": [
    {
     "data": {
      "text/html": [
       "<div>\n",
       "<style scoped>\n",
       "    .dataframe tbody tr th:only-of-type {\n",
       "        vertical-align: middle;\n",
       "    }\n",
       "\n",
       "    .dataframe tbody tr th {\n",
       "        vertical-align: top;\n",
       "    }\n",
       "\n",
       "    .dataframe thead th {\n",
       "        text-align: right;\n",
       "    }\n",
       "</style>\n",
       "<table border=\"1\" class=\"dataframe\">\n",
       "  <thead>\n",
       "    <tr style=\"text-align: right;\">\n",
       "      <th></th>\n",
       "      <th>input_text</th>\n",
       "      <th>target_text</th>\n",
       "      <th>prefix</th>\n",
       "    </tr>\n",
       "  </thead>\n",
       "  <tbody>\n",
       "    <tr>\n",
       "      <th>7507</th>\n",
       "      <td>????#GLTR #buyback АКЦИОНЕРЫ GLOBALTRANS УТВЕР...</td>\n",
       "      <td>220</td>\n",
       "      <td>clsorg</td>\n",
       "    </tr>\n",
       "    <tr>\n",
       "      <th>12541</th>\n",
       "      <td>​НАПРАВЛЕНИЯ ЛОКАЛЬНЫХ ТРЕНДОВ ПО БАЗОВЫМ ИНСТ...</td>\n",
       "      <td>127;150;7;99;152</td>\n",
       "      <td>clsorg</td>\n",
       "    </tr>\n",
       "    <tr>\n",
       "      <th>10206</th>\n",
       "      <td>ГОСА - ФосАгро: ДИВИДЕНДЫ  =  465 рублей, ДД: ...</td>\n",
       "      <td>187</td>\n",
       "      <td>clsorg</td>\n",
       "    </tr>\n",
       "    <tr>\n",
       "      <th>2446</th>\n",
       "      <td>\"TRYRUB Московская биржа запустила торги валют...</td>\n",
       "      <td>103</td>\n",
       "      <td>clsorg</td>\n",
       "    </tr>\n",
       "    <tr>\n",
       "      <th>4161</th>\n",
       "      <td>\"🛢🇷🇺#нефть #газ #спг #россия  заявления Алекса...</td>\n",
       "      <td>48</td>\n",
       "      <td>clsorg</td>\n",
       "    </tr>\n",
       "    <tr>\n",
       "      <th>9156</th>\n",
       "      <td>GMKN - RUAL - ОФЕРТА «Русал», подтвердивший го...</td>\n",
       "      <td>11</td>\n",
       "      <td>clsorg</td>\n",
       "    </tr>\n",
       "    <tr>\n",
       "      <th>3865</th>\n",
       "      <td>\"🏁 Итоги дня: 24 мая  📦 Ozon раскрыл сильные р...</td>\n",
       "      <td>204;26</td>\n",
       "      <td>clsorg</td>\n",
       "    </tr>\n",
       "    <tr>\n",
       "      <th>14394</th>\n",
       "      <td>🇷🇺#SMLT #отчетность  Самолет — РСБУ 9м 2023г</td>\n",
       "      <td>56</td>\n",
       "      <td>clsorg</td>\n",
       "    </tr>\n",
       "    <tr>\n",
       "      <th>15858</th>\n",
       "      <td>🔍 Взгляд на компанию: ММК – операционные резул...</td>\n",
       "      <td>89;116;90</td>\n",
       "      <td>clsorg</td>\n",
       "    </tr>\n",
       "    <tr>\n",
       "      <th>15497</th>\n",
       "      <td>💸 Мосбиржа объявила дивиденды за 2023  17,35 р...</td>\n",
       "      <td>103</td>\n",
       "      <td>clsorg</td>\n",
       "    </tr>\n",
       "    <tr>\n",
       "      <th>10476</th>\n",
       "      <td>Задавайте вопросы компании ММК! #ММК : смартла...</td>\n",
       "      <td>90</td>\n",
       "      <td>clsorg</td>\n",
       "    </tr>\n",
       "    <tr>\n",
       "      <th>11875</th>\n",
       "      <td>Сбербанк ушел из Европы  Сколько бы санкции не...</td>\n",
       "      <td>150</td>\n",
       "      <td>clsorg</td>\n",
       "    </tr>\n",
       "    <tr>\n",
       "      <th>1570</th>\n",
       "      <td>\"????МТС (MTSS) ПОКУПАТЬ??  Инвестиционный гор...</td>\n",
       "      <td>100</td>\n",
       "      <td>clsorg</td>\n",
       "    </tr>\n",
       "    <tr>\n",
       "      <th>542</th>\n",
       "      <td>\"#RUAL #UPRO Девятый апелляционный суд Москвы ...</td>\n",
       "      <td>11</td>\n",
       "      <td>clsorg</td>\n",
       "    </tr>\n",
       "    <tr>\n",
       "      <th>10379</th>\n",
       "      <td>Дивиденды «РусГидро» за 2022 год могут состави...</td>\n",
       "      <td>185</td>\n",
       "      <td>clsorg</td>\n",
       "    </tr>\n",
       "    <tr>\n",
       "      <th>13647</th>\n",
       "      <td>❓ Не пора ли выйти из угля?  Конец прошлого го...</td>\n",
       "      <td>99</td>\n",
       "      <td>clsorg</td>\n",
       "    </tr>\n",
       "    <tr>\n",
       "      <th>2602</th>\n",
       "      <td>\"ВАЖНЫЕ СОБЫТИЯ СЕГОДНЯ * FIVE - Публикация фи...</td>\n",
       "      <td>227;28</td>\n",
       "      <td>clsorg</td>\n",
       "    </tr>\n",
       "    <tr>\n",
       "      <th>9072</th>\n",
       "      <td>ENPL - РЕЙТИНГ FITCH МОЖЕТ СНИЗИТЬ РЕЙТИНГ EN+...</td>\n",
       "      <td>12</td>\n",
       "      <td>clsorg</td>\n",
       "    </tr>\n",
       "    <tr>\n",
       "      <th>3714</th>\n",
       "      <td>\"🇷🇺#UGLD #суд Суд в Красноярске отклонил иск Р...</td>\n",
       "      <td>265</td>\n",
       "      <td>clsorg</td>\n",
       "    </tr>\n",
       "    <tr>\n",
       "      <th>10772</th>\n",
       "      <td>Магнит (Daily). Акции вернулись к цене сделки ...</td>\n",
       "      <td>89</td>\n",
       "      <td>clsorg</td>\n",
       "    </tr>\n",
       "  </tbody>\n",
       "</table>\n",
       "</div>"
      ],
      "text/plain": [
       "                                              input_text       target_text  \\\n",
       "7507   ????#GLTR #buyback АКЦИОНЕРЫ GLOBALTRANS УТВЕР...               220   \n",
       "12541  ​НАПРАВЛЕНИЯ ЛОКАЛЬНЫХ ТРЕНДОВ ПО БАЗОВЫМ ИНСТ...  127;150;7;99;152   \n",
       "10206  ГОСА - ФосАгро: ДИВИДЕНДЫ  =  465 рублей, ДД: ...               187   \n",
       "2446   \"TRYRUB Московская биржа запустила торги валют...               103   \n",
       "4161   \"🛢🇷🇺#нефть #газ #спг #россия  заявления Алекса...                48   \n",
       "9156   GMKN - RUAL - ОФЕРТА «Русал», подтвердивший го...                11   \n",
       "3865   \"🏁 Итоги дня: 24 мая  📦 Ozon раскрыл сильные р...            204;26   \n",
       "14394       🇷🇺#SMLT #отчетность  Самолет — РСБУ 9м 2023г                56   \n",
       "15858  🔍 Взгляд на компанию: ММК – операционные резул...         89;116;90   \n",
       "15497  💸 Мосбиржа объявила дивиденды за 2023  17,35 р...               103   \n",
       "10476  Задавайте вопросы компании ММК! #ММК : смартла...                90   \n",
       "11875  Сбербанк ушел из Европы  Сколько бы санкции не...               150   \n",
       "1570   \"????МТС (MTSS) ПОКУПАТЬ??  Инвестиционный гор...               100   \n",
       "542    \"#RUAL #UPRO Девятый апелляционный суд Москвы ...                11   \n",
       "10379  Дивиденды «РусГидро» за 2022 год могут состави...               185   \n",
       "13647  ❓ Не пора ли выйти из угля?  Конец прошлого го...                99   \n",
       "2602   \"ВАЖНЫЕ СОБЫТИЯ СЕГОДНЯ * FIVE - Публикация фи...            227;28   \n",
       "9072   ENPL - РЕЙТИНГ FITCH МОЖЕТ СНИЗИТЬ РЕЙТИНГ EN+...                12   \n",
       "3714   \"🇷🇺#UGLD #суд Суд в Красноярске отклонил иск Р...               265   \n",
       "10772  Магнит (Daily). Акции вернулись к цене сделки ...                89   \n",
       "\n",
       "       prefix  \n",
       "7507   clsorg  \n",
       "12541  clsorg  \n",
       "10206  clsorg  \n",
       "2446   clsorg  \n",
       "4161   clsorg  \n",
       "9156   clsorg  \n",
       "3865   clsorg  \n",
       "14394  clsorg  \n",
       "15858  clsorg  \n",
       "15497  clsorg  \n",
       "10476  clsorg  \n",
       "11875  clsorg  \n",
       "1570   clsorg  \n",
       "542    clsorg  \n",
       "10379  clsorg  \n",
       "13647  clsorg  \n",
       "2602   clsorg  \n",
       "9072   clsorg  \n",
       "3714   clsorg  \n",
       "10772  clsorg  "
      ]
     },
     "execution_count": 3,
     "metadata": {},
     "output_type": "execute_result"
    }
   ],
   "source": [
    "# [pin]\n",
    "file_path = \"../data/data.csv\"\n",
    "root_path = \"../data/\"\n",
    "\n",
    "\n",
    "df = pd.read_csv(file_path)\n",
    "df[\"prefix\"] = \"clsorg\"\n",
    "df = df.rename({\"message\": \"input_text\", \"label\": \"target_text\"}, axis=1)\n",
    "df.sample(20)"
   ]
  },
  {
   "cell_type": "code",
   "execution_count": null,
   "metadata": {},
   "outputs": [],
   "source": [
    "m_name = \"t5-small\"\n",
    "tokenizer = T5Tokenizer.from_pretrained(m_name)"
   ]
  },
  {
   "cell_type": "code",
   "execution_count": null,
   "metadata": {},
   "outputs": [],
   "source": [
    "from src.t5.dataset import NERDataModel\n",
    "from src.t5.model import NERModel\n",
    "\n",
    "BATCH_SIZE = 64\n",
    "EPOCHS = 10\n",
    "train_df, test_df = train_test_split(df, test_size=0.25, random_state=42)\n",
    "data_module = NERDataModel(train_df, test_df, tokenizer, batch_size=BATCH_SIZE)\n",
    "data_module.setup()"
   ]
  },
  {
   "cell_type": "code",
   "execution_count": null,
   "metadata": {},
   "outputs": [],
   "source": [
    "model = NERModel()\n",
    "\n",
    "checkpoint_callback = ModelCheckpoint(\n",
    "    dirpath=\"checkpoints\",\n",
    "    filename=\"ner\",\n",
    "    save_top_k=1,\n",
    "    verbose=True,\n",
    "    monitor=\"val_loss\",\n",
    "    mode=\"min\",\n",
    ")\n",
    "\n",
    "trainer = Trainer(\n",
    "    callbacks=[checkpoint_callback],\n",
    "    max_epochs=EPOCHS,\n",
    "    accelerator=\"cuda\",\n",
    ")"
   ]
  },
  {
   "cell_type": "code",
   "execution_count": null,
   "metadata": {},
   "outputs": [],
   "source": [
    "!rm -r lightning_logs"
   ]
  },
  {
   "cell_type": "code",
   "execution_count": null,
   "metadata": {},
   "outputs": [],
   "source": [
    "trainer.fit(model, data_module)"
   ]
  },
  {
   "cell_type": "code",
   "execution_count": null,
   "metadata": {},
   "outputs": [],
   "source": [
    "trained_model = NERModel.load_from_checkpoint(\"checkpoints/ner-v4.ckpt\")\n",
    "trained_model.freeze()"
   ]
  },
  {
   "cell_type": "code",
   "execution_count": null,
   "metadata": {},
   "outputs": [],
   "source": [
    "from src.t5.utils import evaluate_f1, generate_answer_batched\n",
    "\n",
    "predictions = generate_answer_batched(\n",
    "    trained_model=trained_model.model, tokenizer=tokenizer, data=test_df, batch_size=512\n",
    ")"
   ]
  },
  {
   "cell_type": "code",
   "execution_count": null,
   "metadata": {},
   "outputs": [],
   "source": [
    "ldf = test_df.copy()\n",
    "ldf[\"predictions\"] = predictions\n",
    "ldf[\"tcomp\"] = ldf[\"target_text\"].str.split(\";\", expand=True)[0]\n",
    "ldf[\"pcomp\"] = ldf[\"predictions\"].str.split(\";\", expand=True)[0]"
   ]
  },
  {
   "cell_type": "code",
   "execution_count": null,
   "metadata": {},
   "outputs": [
    {
     "data": {
      "text/plain": [
       "0.6451461823244122"
      ]
     },
     "execution_count": 14,
     "metadata": {},
     "output_type": "execute_result"
    }
   ],
   "source": [
    "# [pin]\n",
    "\n",
    "evaluate_f1(\n",
    "    predictions=ldf[\"pcomp\"].tolist(),\n",
    "    labels=ldf[\"tcomp\"].tolist(),\n",
    ")"
   ]
  }
 ],
 "metadata": {
  "kernelspec": {
   "display_name": "Python 3",
   "language": "python",
   "name": "python3"
  },
  "language_info": {
   "codemirror_mode": {
    "name": "ipython",
    "version": 3
   },
   "file_extension": ".py",
   "mimetype": "text/x-python",
   "name": "python",
   "nbconvert_exporter": "python",
   "pygments_lexer": "ipython3",
   "version": "3.11.8"
  }
 },
 "nbformat": 4,
 "nbformat_minor": 2
}
