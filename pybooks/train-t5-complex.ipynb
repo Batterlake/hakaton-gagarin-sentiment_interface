{
 "cells": [
  {
   "cell_type": "code",
   "execution_count": null,
   "metadata": {},
   "outputs": [],
   "source": [
    "%load_ext autoreload\n",
    "%autoreload 2"
   ]
  },
  {
   "cell_type": "code",
   "execution_count": null,
   "metadata": {},
   "outputs": [],
   "source": [
    "import sys\n",
    "\n",
    "sys.path.append(\"../\")"
   ]
  },
  {
   "cell_type": "code",
   "execution_count": null,
   "metadata": {},
   "outputs": [],
   "source": [
    "import os\n",
    "\n",
    "os.environ[\"CUDA_VISIBLE_DEVICES\"] = \"6\"\n",
    "os.environ[\"CUDA_DEVICE_ORDER\"] = \"PCI_BUS_ID\""
   ]
  },
  {
   "cell_type": "code",
   "execution_count": null,
   "metadata": {},
   "outputs": [],
   "source": [
    "import pandas as pd\n",
    "from pytorch_lightning import Trainer\n",
    "from pytorch_lightning.callbacks import ModelCheckpoint\n",
    "from sklearn.model_selection import train_test_split\n",
    "from transformers import T5Tokenizer"
   ]
  },
  {
   "cell_type": "code",
   "execution_count": null,
   "metadata": {},
   "outputs": [
    {
     "data": {
      "text/html": [
       "<div>\n",
       "<style scoped>\n",
       "    .dataframe tbody tr th:only-of-type {\n",
       "        vertical-align: middle;\n",
       "    }\n",
       "\n",
       "    .dataframe tbody tr th {\n",
       "        vertical-align: top;\n",
       "    }\n",
       "\n",
       "    .dataframe thead th {\n",
       "        text-align: right;\n",
       "    }\n",
       "</style>\n",
       "<table border=\"1\" class=\"dataframe\">\n",
       "  <thead>\n",
       "    <tr style=\"text-align: right;\">\n",
       "      <th></th>\n",
       "      <th>input_text</th>\n",
       "      <th>target_text</th>\n",
       "      <th>prefix</th>\n",
       "    </tr>\n",
       "  </thead>\n",
       "  <tbody>\n",
       "    <tr>\n",
       "      <th>2095</th>\n",
       "      <td>Акция «Попробуйте инвестиции!» с брокером Тинь...</td>\n",
       "      <td>236-3</td>\n",
       "      <td>clsorg</td>\n",
       "    </tr>\n",
       "    <tr>\n",
       "      <th>6778</th>\n",
       "      <td>🛢🇷🇺#GAZP «ГАЗПРОМ» МОЖЕТ НАЧАТЬ ПОСТАВКИ ГАЗА ...</td>\n",
       "      <td>48-4</td>\n",
       "      <td>clsorg</td>\n",
       "    </tr>\n",
       "    <tr>\n",
       "      <th>2798</th>\n",
       "      <td>Ожидаемые события на 15 марта  🇷🇺 В России  По...</td>\n",
       "      <td>225-3</td>\n",
       "      <td>clsorg</td>\n",
       "    </tr>\n",
       "    <tr>\n",
       "      <th>6387</th>\n",
       "      <td>📊 ПАО «НК Роснефть» Тикер: ROSN Идея: Long ⬆️ ...</td>\n",
       "      <td>112-5</td>\n",
       "      <td>clsorg</td>\n",
       "    </tr>\n",
       "    <tr>\n",
       "      <th>5512</th>\n",
       "      <td>🌎#алюминий #металлы  мировые производители алю...</td>\n",
       "      <td>11-4</td>\n",
       "      <td>clsorg</td>\n",
       "    </tr>\n",
       "    <tr>\n",
       "      <th>2225</th>\n",
       "      <td>Взгляд на компанию  📑 В пятницу Норникель отчи...</td>\n",
       "      <td>53-3</td>\n",
       "      <td>clsorg</td>\n",
       "    </tr>\n",
       "    <tr>\n",
       "      <th>6772</th>\n",
       "      <td>🛢🇰🇿🇷🇺#TRNFP  Казахстан в 2024 году может нарас...</td>\n",
       "      <td>175-4</td>\n",
       "      <td>clsorg</td>\n",
       "    </tr>\n",
       "    <tr>\n",
       "      <th>3294</th>\n",
       "      <td>Тинькофф $TCS $TCSG продолжит акцию по компенс...</td>\n",
       "      <td>225-4</td>\n",
       "      <td>clsorg</td>\n",
       "    </tr>\n",
       "    <tr>\n",
       "      <th>5192</th>\n",
       "      <td>🇷🇺#SPBE #отчетность</td>\n",
       "      <td>255-3</td>\n",
       "      <td>clsorg</td>\n",
       "    </tr>\n",
       "    <tr>\n",
       "      <th>5934</th>\n",
       "      <td>💥🇷🇺#MTLRp = макс за 11 мес   Китай увеличил им...</td>\n",
       "      <td>99-4;129-4</td>\n",
       "      <td>clsorg</td>\n",
       "    </tr>\n",
       "    <tr>\n",
       "      <th>487</th>\n",
       "      <td>\"⚠️🇷🇺#RUAL #отчетность  заводы \"\"Русала\"\" в ян...</td>\n",
       "      <td>11-2</td>\n",
       "      <td>clsorg</td>\n",
       "    </tr>\n",
       "    <tr>\n",
       "      <th>5479</th>\n",
       "      <td>🇷🇺🇨🇳#игры #россия #китай  Российские игровые к...</td>\n",
       "      <td>100-4;223-4</td>\n",
       "      <td>clsorg</td>\n",
       "    </tr>\n",
       "    <tr>\n",
       "      <th>6022</th>\n",
       "      <td>💥🇷🇺#SFTL = +5%</td>\n",
       "      <td>237-3</td>\n",
       "      <td>clsorg</td>\n",
       "    </tr>\n",
       "    <tr>\n",
       "      <th>678</th>\n",
       "      <td>\"🇷🇺#GMKN #прогноз  Отгрузки платиноидов \"\"Норн...</td>\n",
       "      <td>53-4</td>\n",
       "      <td>clsorg</td>\n",
       "    </tr>\n",
       "    <tr>\n",
       "      <th>6574</th>\n",
       "      <td>🔥🔥🔥 Источник РДВ заранее проработал сценарии д...</td>\n",
       "      <td>89-3</td>\n",
       "      <td>clsorg</td>\n",
       "    </tr>\n",
       "    <tr>\n",
       "      <th>5866</th>\n",
       "      <td>💥🇷🇺#GLTR = +5%</td>\n",
       "      <td>220-3</td>\n",
       "      <td>clsorg</td>\n",
       "    </tr>\n",
       "    <tr>\n",
       "      <th>4726</th>\n",
       "      <td>🇷🇺#BELU #отчетность  Nobaev Group - операционн...</td>\n",
       "      <td>36-4</td>\n",
       "      <td>clsorg</td>\n",
       "    </tr>\n",
       "    <tr>\n",
       "      <th>3664</th>\n",
       "      <td>​​Землетрясение в Турции не помешало индексу п...</td>\n",
       "      <td>224-2</td>\n",
       "      <td>clsorg</td>\n",
       "    </tr>\n",
       "    <tr>\n",
       "      <th>130</th>\n",
       "      <td>\"Акционеры \"\"Магнитогорского металлургического...</td>\n",
       "      <td>90-2</td>\n",
       "      <td>clsorg</td>\n",
       "    </tr>\n",
       "    <tr>\n",
       "      <th>2773</th>\n",
       "      <td>Норникель хотел бы провести дробление (сплит) ...</td>\n",
       "      <td>53-4</td>\n",
       "      <td>clsorg</td>\n",
       "    </tr>\n",
       "  </tbody>\n",
       "</table>\n",
       "</div>"
      ],
      "text/plain": [
       "                                             input_text  target_text  prefix\n",
       "2095  Акция «Попробуйте инвестиции!» с брокером Тинь...        236-3  clsorg\n",
       "6778  🛢🇷🇺#GAZP «ГАЗПРОМ» МОЖЕТ НАЧАТЬ ПОСТАВКИ ГАЗА ...         48-4  clsorg\n",
       "2798  Ожидаемые события на 15 марта  🇷🇺 В России  По...        225-3  clsorg\n",
       "6387  📊 ПАО «НК Роснефть» Тикер: ROSN Идея: Long ⬆️ ...        112-5  clsorg\n",
       "5512  🌎#алюминий #металлы  мировые производители алю...         11-4  clsorg\n",
       "2225  Взгляд на компанию  📑 В пятницу Норникель отчи...         53-3  clsorg\n",
       "6772  🛢🇰🇿🇷🇺#TRNFP  Казахстан в 2024 году может нарас...        175-4  clsorg\n",
       "3294  Тинькофф $TCS $TCSG продолжит акцию по компенс...        225-4  clsorg\n",
       "5192                                🇷🇺#SPBE #отчетность        255-3  clsorg\n",
       "5934  💥🇷🇺#MTLRp = макс за 11 мес   Китай увеличил им...   99-4;129-4  clsorg\n",
       "487   \"⚠️🇷🇺#RUAL #отчетность  заводы \"\"Русала\"\" в ян...         11-2  clsorg\n",
       "5479  🇷🇺🇨🇳#игры #россия #китай  Российские игровые к...  100-4;223-4  clsorg\n",
       "6022                                     💥🇷🇺#SFTL = +5%        237-3  clsorg\n",
       "678   \"🇷🇺#GMKN #прогноз  Отгрузки платиноидов \"\"Норн...         53-4  clsorg\n",
       "6574  🔥🔥🔥 Источник РДВ заранее проработал сценарии д...         89-3  clsorg\n",
       "5866                                     💥🇷🇺#GLTR = +5%        220-3  clsorg\n",
       "4726  🇷🇺#BELU #отчетность  Nobaev Group - операционн...         36-4  clsorg\n",
       "3664  ​​Землетрясение в Турции не помешало индексу п...        224-2  clsorg\n",
       "130   \"Акционеры \"\"Магнитогорского металлургического...         90-2  clsorg\n",
       "2773  Норникель хотел бы провести дробление (сплит) ...         53-4  clsorg"
      ]
     },
     "execution_count": 6,
     "metadata": {},
     "output_type": "execute_result"
    }
   ],
   "source": [
    "# [pin]\n",
    "file_path = \"../data/data-hard.csv\"\n",
    "root_path = \"../data/\"\n",
    "\n",
    "\n",
    "df = pd.read_csv(file_path)\n",
    "df[\"prefix\"] = \"clsorg\"\n",
    "df = df.rename({\"message\": \"input_text\", \"label\": \"target_text\"}, axis=1)\n",
    "df.sample(20)"
   ]
  },
  {
   "cell_type": "code",
   "execution_count": null,
   "metadata": {},
   "outputs": [],
   "source": [
    "m_name = \"t5-small\"\n",
    "tokenizer = T5Tokenizer.from_pretrained(m_name)"
   ]
  },
  {
   "cell_type": "code",
   "execution_count": null,
   "metadata": {},
   "outputs": [],
   "source": [
    "from src.t5.dataset import NERDataModel\n",
    "from src.t5.model import NERModel\n",
    "\n",
    "BATCH_SIZE = 64\n",
    "EPOCHS = 10\n",
    "train_df, test_df = train_test_split(df, test_size=0.25, random_state=42)\n",
    "data_module = NERDataModel(\n",
    "    train_df, test_df, tokenizer, batch_size=BATCH_SIZE, source_max_token_length=512\n",
    ")\n",
    "data_module.setup()"
   ]
  },
  {
   "cell_type": "code",
   "execution_count": null,
   "metadata": {},
   "outputs": [],
   "source": [
    "model = NERModel()\n",
    "\n",
    "checkpoint_callback = ModelCheckpoint(\n",
    "    dirpath=\"checkpoints\",\n",
    "    filename=\"ner\",\n",
    "    save_top_k=1,\n",
    "    verbose=True,\n",
    "    monitor=\"val_loss\",\n",
    "    mode=\"min\",\n",
    ")\n",
    "\n",
    "trainer = Trainer(\n",
    "    callbacks=[checkpoint_callback],\n",
    "    max_epochs=EPOCHS,\n",
    "    accelerator=\"cuda\",\n",
    ")"
   ]
  },
  {
   "cell_type": "code",
   "execution_count": null,
   "metadata": {},
   "outputs": [],
   "source": [
    "!rm -r lightning_logs"
   ]
  },
  {
   "cell_type": "code",
   "execution_count": null,
   "metadata": {},
   "outputs": [],
   "source": [
    "trainer.fit(model, data_module)"
   ]
  },
  {
   "cell_type": "code",
   "execution_count": null,
   "metadata": {},
   "outputs": [],
   "source": [
    "# trained_model = NERModel.load_from_checkpoint(\"checkpoints/ner-v5.ckpt\")\n",
    "trained_model = NERModel.load_from_checkpoint(\"checkpoints/ner-v6.ckpt\")\n",
    "trained_model.freeze()"
   ]
  },
  {
   "cell_type": "code",
   "execution_count": null,
   "metadata": {},
   "outputs": [],
   "source": [
    "import torch\n",
    "\n",
    "from src.t5.utils import evaluate_metric, generate_answer_batched\n",
    "\n",
    "with torch.inference_mode(), torch.cuda.amp.autocast():\n",
    "    predictions = generate_answer_batched(\n",
    "        trained_model=trained_model.model,\n",
    "        tokenizer=tokenizer,\n",
    "        data=test_df[:1200],\n",
    "        batch_size=64,\n",
    "        max_length=256,\n",
    "    )"
   ]
  },
  {
   "cell_type": "code",
   "execution_count": null,
   "metadata": {},
   "outputs": [],
   "source": [
    "ldf = test_df.copy()[:1200]\n",
    "ldf[\"predictions\"] = predictions\n",
    "ldf[[\"tcomp\", \"tsent\"]] = (\n",
    "    ldf[\"target_text\"].str.split(\";\", expand=True)[0].str.split(\"-\", expand=True)\n",
    ")\n",
    "ldf[[\"pcomp\", \"psent\"]] = (\n",
    "    ldf[\"predictions\"].str.split(\";\", expand=True)[0].str.split(\"-\", expand=True)\n",
    ")"
   ]
  },
  {
   "cell_type": "code",
   "execution_count": null,
   "metadata": {},
   "outputs": [
    {
     "data": {
      "text/plain": [
       "{'total': 55.85067410545177,\n",
       " 'f1': 0.618680148775702,\n",
       " 'accuracy': 0.49833333333333335}"
      ]
     },
     "execution_count": 18,
     "metadata": {},
     "output_type": "execute_result"
    }
   ],
   "source": [
    "# [pin]\n",
    "\n",
    "evaluate_metric(\n",
    "    company_predictions=ldf[\"pcomp\"].tolist(),\n",
    "    company_labels=ldf[\"tcomp\"].tolist(),\n",
    "    sentiment_predictions=ldf[\"psent\"].tolist(),\n",
    "    sentiment_labels=ldf[\"tsent\"].tolist(),\n",
    ")"
   ]
  }
 ],
 "metadata": {
  "kernelspec": {
   "display_name": "Python 3",
   "language": "python",
   "name": "python3"
  },
  "language_info": {
   "codemirror_mode": {
    "name": "ipython",
    "version": 3
   },
   "file_extension": ".py",
   "mimetype": "text/x-python",
   "name": "python",
   "nbconvert_exporter": "python",
   "pygments_lexer": "ipython3",
   "version": "3.11.8"
  }
 },
 "nbformat": 4,
 "nbformat_minor": 2
}
