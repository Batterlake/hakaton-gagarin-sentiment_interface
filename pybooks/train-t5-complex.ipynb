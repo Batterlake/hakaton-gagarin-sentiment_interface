{
 "cells": [
  {
   "cell_type": "code",
   "execution_count": null,
   "metadata": {},
   "outputs": [],
   "source": [
    "%load_ext autoreload\n",
    "%autoreload 2"
   ]
  },
  {
   "cell_type": "code",
   "execution_count": null,
   "metadata": {},
   "outputs": [],
   "source": [
    "import os\n",
    "\n",
    "os.environ[\"CUDA_VISIBLE_DEVICES\"] = \"6\"\n",
    "os.environ[\"CUDA_DEVICE_ORDER\"] = \"PCI_BUS_ID\""
   ]
  },
  {
   "cell_type": "code",
   "execution_count": null,
   "metadata": {},
   "outputs": [],
   "source": [
    "import pandas as pd\n",
    "from pytorch_lightning import Trainer\n",
    "from pytorch_lightning.callbacks import ModelCheckpoint\n",
    "from sklearn.model_selection import train_test_split\n",
    "from transformers import T5Tokenizer"
   ]
  },
  {
   "cell_type": "code",
   "execution_count": null,
   "metadata": {},
   "outputs": [
    {
     "data": {
      "text/html": [
       "<div>\n",
       "<style scoped>\n",
       "    .dataframe tbody tr th:only-of-type {\n",
       "        vertical-align: middle;\n",
       "    }\n",
       "\n",
       "    .dataframe tbody tr th {\n",
       "        vertical-align: top;\n",
       "    }\n",
       "\n",
       "    .dataframe thead th {\n",
       "        text-align: right;\n",
       "    }\n",
       "</style>\n",
       "<table border=\"1\" class=\"dataframe\">\n",
       "  <thead>\n",
       "    <tr style=\"text-align: right;\">\n",
       "      <th></th>\n",
       "      <th>input_text</th>\n",
       "      <th>target_text</th>\n",
       "      <th>prefix</th>\n",
       "    </tr>\n",
       "  </thead>\n",
       "  <tbody>\n",
       "    <tr>\n",
       "      <th>2595</th>\n",
       "      <td>Криптобиржа Binance вернула возможность оплаты...</td>\n",
       "      <td>228-4</td>\n",
       "      <td>clsorg</td>\n",
       "    </tr>\n",
       "    <tr>\n",
       "      <th>6231</th>\n",
       "      <td>📂 Как отчиталась АФК «Система» за IV квартал  ...</td>\n",
       "      <td>100-3</td>\n",
       "      <td>clsorg</td>\n",
       "    </tr>\n",
       "    <tr>\n",
       "      <th>3281</th>\n",
       "      <td>Так зачем Тинькофф КХЛ? Хоккей абсолютно искре...</td>\n",
       "      <td>115-3</td>\n",
       "      <td>clsorg</td>\n",
       "    </tr>\n",
       "    <tr>\n",
       "      <th>452</th>\n",
       "      <td>\"⚠️🇷🇺#CHMF #дивиденд  акционеры  \"\"Северсталь\"...</td>\n",
       "      <td>152-2</td>\n",
       "      <td>clsorg</td>\n",
       "    </tr>\n",
       "    <tr>\n",
       "      <th>4661</th>\n",
       "      <td>🇷🇺#ABIO  После интервью Марии Воронцовой о раз...</td>\n",
       "      <td>266-4</td>\n",
       "      <td>clsorg</td>\n",
       "    </tr>\n",
       "    <tr>\n",
       "      <th>5204</th>\n",
       "      <td>🇷🇺#TATN #дивиденды  КОНСЕНСУС: Татнефть может ...</td>\n",
       "      <td>163-4</td>\n",
       "      <td>clsorg</td>\n",
       "    </tr>\n",
       "    <tr>\n",
       "      <th>3540</th>\n",
       "      <td>​Ослабление рубля. Как защититься?  🔶Диапазон ...</td>\n",
       "      <td>160-4;53-4</td>\n",
       "      <td>clsorg</td>\n",
       "    </tr>\n",
       "    <tr>\n",
       "      <th>3990</th>\n",
       "      <td>​​🟢 ИТОГИ ДНЯ. Российский рынок акций продолжи...</td>\n",
       "      <td>22-4</td>\n",
       "      <td>clsorg</td>\n",
       "    </tr>\n",
       "    <tr>\n",
       "      <th>843</th>\n",
       "      <td>\"🇷🇺#SNGS #дивиденд Дивдоходность \"\"префов\"\" Су...</td>\n",
       "      <td>160-4</td>\n",
       "      <td>clsorg</td>\n",
       "    </tr>\n",
       "    <tr>\n",
       "      <th>2798</th>\n",
       "      <td>Ожидаемые события на 15 марта  🇷🇺 В России  По...</td>\n",
       "      <td>225-3</td>\n",
       "      <td>clsorg</td>\n",
       "    </tr>\n",
       "    <tr>\n",
       "      <th>3761</th>\n",
       "      <td>​​Ритейлеры vs Маркетплейсы⁠⁠  Практически все...</td>\n",
       "      <td>230-3</td>\n",
       "      <td>clsorg</td>\n",
       "    </tr>\n",
       "    <tr>\n",
       "      <th>6190</th>\n",
       "      <td>💸 Дивиденды Группы Позитив  Акционеры Группы П...</td>\n",
       "      <td>241-4</td>\n",
       "      <td>clsorg</td>\n",
       "    </tr>\n",
       "    <tr>\n",
       "      <th>6366</th>\n",
       "      <td>📊 ПАО «Дальневосточное морское пароходство» Ти...</td>\n",
       "      <td>61-5</td>\n",
       "      <td>clsorg</td>\n",
       "    </tr>\n",
       "    <tr>\n",
       "      <th>5230</th>\n",
       "      <td>🇷🇺#TRNFP #ROSN #суд Суд прекратил производство...</td>\n",
       "      <td>112-3;175-3</td>\n",
       "      <td>clsorg</td>\n",
       "    </tr>\n",
       "    <tr>\n",
       "      <th>2636</th>\n",
       "      <td>Мечел ао закрываем вторую часть спекулятивного...</td>\n",
       "      <td>99-2;99-3</td>\n",
       "      <td>clsorg</td>\n",
       "    </tr>\n",
       "    <tr>\n",
       "      <th>1222</th>\n",
       "      <td>\"🛢🇷🇺#GAZP 13 января \"\"Газпром\"\" вновь обновил ...</td>\n",
       "      <td>48-4</td>\n",
       "      <td>clsorg</td>\n",
       "    </tr>\n",
       "    <tr>\n",
       "      <th>3855</th>\n",
       "      <td>​​💵 Что значит доллар по 100 для российского ф...</td>\n",
       "      <td>163-5</td>\n",
       "      <td>clsorg</td>\n",
       "    </tr>\n",
       "    <tr>\n",
       "      <th>6851</th>\n",
       "      <td>🟢 В конце августа Совкомфлот представит резуль...</td>\n",
       "      <td>157-4</td>\n",
       "      <td>clsorg</td>\n",
       "    </tr>\n",
       "    <tr>\n",
       "      <th>688</th>\n",
       "      <td>\"🇷🇺#HYDR #зарядки #электро #россия  \"\"РусГидро...</td>\n",
       "      <td>185-4</td>\n",
       "      <td>clsorg</td>\n",
       "    </tr>\n",
       "    <tr>\n",
       "      <th>5295</th>\n",
       "      <td>🇷🇺#VTBR  ВТБ до конца года запустит переводы в...</td>\n",
       "      <td>7-4</td>\n",
       "      <td>clsorg</td>\n",
       "    </tr>\n",
       "  </tbody>\n",
       "</table>\n",
       "</div>"
      ],
      "text/plain": [
       "                                             input_text  target_text  prefix\n",
       "2595  Криптобиржа Binance вернула возможность оплаты...        228-4  clsorg\n",
       "6231  📂 Как отчиталась АФК «Система» за IV квартал  ...        100-3  clsorg\n",
       "3281  Так зачем Тинькофф КХЛ? Хоккей абсолютно искре...        115-3  clsorg\n",
       "452   \"⚠️🇷🇺#CHMF #дивиденд  акционеры  \"\"Северсталь\"...        152-2  clsorg\n",
       "4661  🇷🇺#ABIO  После интервью Марии Воронцовой о раз...        266-4  clsorg\n",
       "5204  🇷🇺#TATN #дивиденды  КОНСЕНСУС: Татнефть может ...        163-4  clsorg\n",
       "3540  ​Ослабление рубля. Как защититься?  🔶Диапазон ...   160-4;53-4  clsorg\n",
       "3990  ​​🟢 ИТОГИ ДНЯ. Российский рынок акций продолжи...         22-4  clsorg\n",
       "843   \"🇷🇺#SNGS #дивиденд Дивдоходность \"\"префов\"\" Су...        160-4  clsorg\n",
       "2798  Ожидаемые события на 15 марта  🇷🇺 В России  По...        225-3  clsorg\n",
       "3761  ​​Ритейлеры vs Маркетплейсы⁠⁠  Практически все...        230-3  clsorg\n",
       "6190  💸 Дивиденды Группы Позитив  Акционеры Группы П...        241-4  clsorg\n",
       "6366  📊 ПАО «Дальневосточное морское пароходство» Ти...         61-5  clsorg\n",
       "5230  🇷🇺#TRNFP #ROSN #суд Суд прекратил производство...  112-3;175-3  clsorg\n",
       "2636  Мечел ао закрываем вторую часть спекулятивного...    99-2;99-3  clsorg\n",
       "1222  \"🛢🇷🇺#GAZP 13 января \"\"Газпром\"\" вновь обновил ...         48-4  clsorg\n",
       "3855  ​​💵 Что значит доллар по 100 для российского ф...        163-5  clsorg\n",
       "6851  🟢 В конце августа Совкомфлот представит резуль...        157-4  clsorg\n",
       "688   \"🇷🇺#HYDR #зарядки #электро #россия  \"\"РусГидро...        185-4  clsorg\n",
       "5295  🇷🇺#VTBR  ВТБ до конца года запустит переводы в...          7-4  clsorg"
      ]
     },
     "execution_count": 3,
     "metadata": {},
     "output_type": "execute_result"
    }
   ],
   "source": [
    "# [pin]\n",
    "file_path = \"../data/data-hard.csv\"\n",
    "root_path = \"../data/\"\n",
    "\n",
    "\n",
    "df = pd.read_csv(file_path)\n",
    "df[\"prefix\"] = \"clsorg\"\n",
    "df = df.rename({\"message\": \"input_text\", \"label\": \"target_text\"}, axis=1)\n",
    "df.sample(20)"
   ]
  },
  {
   "cell_type": "code",
   "execution_count": null,
   "metadata": {},
   "outputs": [],
   "source": [
    "m_name = \"t5-small\"\n",
    "tokenizer = T5Tokenizer.from_pretrained(m_name)"
   ]
  },
  {
   "cell_type": "code",
   "execution_count": null,
   "metadata": {},
   "outputs": [],
   "source": [
    "from t5src.dataset import NERDataModel\n",
    "from t5src.model import NERModel\n",
    "\n",
    "BATCH_SIZE = 64\n",
    "EPOCHS = 10\n",
    "train_df, test_df = train_test_split(df, test_size=0.25, random_state=42)\n",
    "data_module = NERDataModel(train_df, test_df, tokenizer, batch_size=BATCH_SIZE)\n",
    "data_module.setup()"
   ]
  },
  {
   "cell_type": "code",
   "execution_count": null,
   "metadata": {},
   "outputs": [],
   "source": [
    "model = NERModel()\n",
    "\n",
    "checkpoint_callback = ModelCheckpoint(\n",
    "    dirpath=\"checkpoints\",\n",
    "    filename=\"ner\",\n",
    "    save_top_k=1,\n",
    "    verbose=True,\n",
    "    monitor=\"val_loss\",\n",
    "    mode=\"min\",\n",
    ")\n",
    "\n",
    "trainer = Trainer(\n",
    "    callbacks=[checkpoint_callback],\n",
    "    max_epochs=EPOCHS,\n",
    "    accelerator=\"cuda\",\n",
    ")"
   ]
  },
  {
   "cell_type": "code",
   "execution_count": null,
   "metadata": {},
   "outputs": [],
   "source": [
    "!rm -r lightning_logs"
   ]
  },
  {
   "cell_type": "code",
   "execution_count": null,
   "metadata": {},
   "outputs": [],
   "source": [
    "trainer.fit(model, data_module)"
   ]
  },
  {
   "cell_type": "code",
   "execution_count": null,
   "metadata": {},
   "outputs": [],
   "source": [
    "trained_model = NERModel.load_from_checkpoint(\"checkpoints/ner-v5.ckpt\")\n",
    "trained_model.freeze()"
   ]
  },
  {
   "cell_type": "code",
   "execution_count": null,
   "metadata": {},
   "outputs": [],
   "source": [
    "from t5src.utils import evaluate_metric, generate_answer_batched\n",
    "\n",
    "predictions = generate_answer_batched(\n",
    "    trained_model=trained_model, tokenizer=tokenizer, data=test_df, batch_size=512\n",
    ")"
   ]
  },
  {
   "cell_type": "code",
   "execution_count": null,
   "metadata": {},
   "outputs": [],
   "source": [
    "ldf = test_df.copy()\n",
    "ldf[\"predictions\"] = predictions\n",
    "ldf[[\"tcomp\", \"tsent\"]] = (\n",
    "    ldf[\"target_text\"].str.split(\";\", expand=True)[0].str.split(\"-\", expand=True)\n",
    ")\n",
    "ldf[[\"pcomp\", \"psent\"]] = (\n",
    "    ldf[\"predictions\"].str.split(\";\", expand=True)[0].str.split(\"-\", expand=True)\n",
    ")"
   ]
  },
  {
   "cell_type": "code",
   "execution_count": null,
   "metadata": {},
   "outputs": [
    {
     "data": {
      "text/plain": [
       "{'total': 57.80824034396828,\n",
       " 'f1': 0.6391920745477017,\n",
       " 'accuracy': 0.5169727323316639}"
      ]
     },
     "execution_count": 13,
     "metadata": {},
     "output_type": "execute_result"
    }
   ],
   "source": [
    "# [pin]\n",
    "\n",
    "evaluate_metric(\n",
    "    company_predictions=ldf[\"pcomp\"].tolist(),\n",
    "    company_labels=ldf[\"tcomp\"].tolist(),\n",
    "    sentiment_predictions=ldf[\"psent\"].tolist(),\n",
    "    sentiment_labels=ldf[\"tsent\"].tolist(),\n",
    ")"
   ]
  }
 ],
 "metadata": {
  "kernelspec": {
   "display_name": "Python 3",
   "language": "python",
   "name": "python3"
  },
  "language_info": {
   "codemirror_mode": {
    "name": "ipython",
    "version": 3
   },
   "file_extension": ".py",
   "mimetype": "text/x-python",
   "name": "python",
   "nbconvert_exporter": "python",
   "pygments_lexer": "ipython3",
   "version": "3.11.8"
  }
 },
 "nbformat": 4,
 "nbformat_minor": 2
}
