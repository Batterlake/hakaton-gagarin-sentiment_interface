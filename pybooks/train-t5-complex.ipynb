{
 "cells": [
  {
   "cell_type": "code",
   "execution_count": null,
   "metadata": {},
   "outputs": [],
   "source": [
    "%load_ext autoreload\n",
    "%autoreload 2"
   ]
  },
  {
   "cell_type": "code",
   "execution_count": null,
   "metadata": {},
   "outputs": [],
   "source": [
    "import sys\n",
    "\n",
    "sys.path.append(\"../\")"
   ]
  },
  {
   "cell_type": "code",
   "execution_count": null,
   "metadata": {},
   "outputs": [],
   "source": [
    "import os\n",
    "\n",
    "os.environ[\"CUDA_VISIBLE_DEVICES\"] = \"0\"\n",
    "os.environ[\"CUDA_DEVICE_ORDER\"] = \"PCI_BUS_ID\""
   ]
  },
  {
   "cell_type": "code",
   "execution_count": null,
   "metadata": {},
   "outputs": [],
   "source": [
    "import pandas as pd\n",
    "from pytorch_lightning import Trainer\n",
    "from pytorch_lightning.callbacks import ModelCheckpoint\n",
    "from sklearn.model_selection import train_test_split\n",
    "from transformers import T5Tokenizer"
   ]
  },
  {
   "cell_type": "code",
   "execution_count": null,
   "metadata": {},
   "outputs": [
    {
     "data": {
      "text/html": [
       "<div>\n",
       "<style scoped>\n",
       "    .dataframe tbody tr th:only-of-type {\n",
       "        vertical-align: middle;\n",
       "    }\n",
       "\n",
       "    .dataframe tbody tr th {\n",
       "        vertical-align: top;\n",
       "    }\n",
       "\n",
       "    .dataframe thead th {\n",
       "        text-align: right;\n",
       "    }\n",
       "</style>\n",
       "<table border=\"1\" class=\"dataframe\">\n",
       "  <thead>\n",
       "    <tr style=\"text-align: right;\">\n",
       "      <th></th>\n",
       "      <th>input_text</th>\n",
       "      <th>target_text</th>\n",
       "      <th>prefix</th>\n",
       "    </tr>\n",
       "  </thead>\n",
       "  <tbody>\n",
       "    <tr>\n",
       "      <th>3755</th>\n",
       "      <td>​​Проблема затоваривания рынка недвижимости бу...</td>\n",
       "      <td>111-4;100-5</td>\n",
       "      <td>clsorg</td>\n",
       "    </tr>\n",
       "    <tr>\n",
       "      <th>6654</th>\n",
       "      <td>🗓КАЛЕНДАРЬ НА СЕГОДНЯ — 2023.07.24  🇦🇺Австрали...</td>\n",
       "      <td>53-3;231-3</td>\n",
       "      <td>clsorg</td>\n",
       "    </tr>\n",
       "    <tr>\n",
       "      <th>1587</th>\n",
       "      <td>#ROSN ROSN СД РОСНЕФТИ 10 НОЯБРЯ РАССМОТРИТ РЕ...</td>\n",
       "      <td>112-4</td>\n",
       "      <td>clsorg</td>\n",
       "    </tr>\n",
       "    <tr>\n",
       "      <th>7171</th>\n",
       "      <td>🧠 Закрытые идеи Мозгового центра Сигналов РЦБ ...</td>\n",
       "      <td>152-3;111-3;127-3;89-3;160-3;163-3;254-3;221-3...</td>\n",
       "      <td>clsorg</td>\n",
       "    </tr>\n",
       "    <tr>\n",
       "      <th>3678</th>\n",
       "      <td>​​Индекс МосБиржи по итогам недели: +2,04%  Ит...</td>\n",
       "      <td>100-3</td>\n",
       "      <td>clsorg</td>\n",
       "    </tr>\n",
       "    <tr>\n",
       "      <th>914</th>\n",
       "      <td>\"🇷🇺#YNDX  \"\"Яндекс\"\" объединит бизнес собствен...</td>\n",
       "      <td>236-3</td>\n",
       "      <td>clsorg</td>\n",
       "    </tr>\n",
       "    <tr>\n",
       "      <th>6814</th>\n",
       "      <td>🛢🇷🇺#спг #россия #NVTK СФ одобрил закон об эксп...</td>\n",
       "      <td>115-4</td>\n",
       "      <td>clsorg</td>\n",
       "    </tr>\n",
       "    <tr>\n",
       "      <th>1819</th>\n",
       "      <td>#стратегиятактика #колумнистика  Минус 39 млрд...</td>\n",
       "      <td>150-2;7-2</td>\n",
       "      <td>clsorg</td>\n",
       "    </tr>\n",
       "    <tr>\n",
       "      <th>5913</th>\n",
       "      <td>💥🇷🇺#MAGN  = +5% = макс за 1 год</td>\n",
       "      <td>90-3</td>\n",
       "      <td>clsorg</td>\n",
       "    </tr>\n",
       "    <tr>\n",
       "      <th>4607</th>\n",
       "      <td>⬆️ #YNDX 101.4M₽ +0.06%  🔷 Аномальный объем  Y...</td>\n",
       "      <td>236-4</td>\n",
       "      <td>clsorg</td>\n",
       "    </tr>\n",
       "    <tr>\n",
       "      <th>6946</th>\n",
       "      <td>🟢 Новости к этому часу  ⚪️ Ипотечный портфель ...</td>\n",
       "      <td>175-4;48-3;230-3</td>\n",
       "      <td>clsorg</td>\n",
       "    </tr>\n",
       "    <tr>\n",
       "      <th>2793</th>\n",
       "      <td>Ожидаемые события на 10 августа  🇷🇺 В России  ...</td>\n",
       "      <td>36-3</td>\n",
       "      <td>clsorg</td>\n",
       "    </tr>\n",
       "    <tr>\n",
       "      <th>730</th>\n",
       "      <td>\"🇷🇺#MTSS #iot МТС вошла в капитал разработчика...</td>\n",
       "      <td>100-4</td>\n",
       "      <td>clsorg</td>\n",
       "    </tr>\n",
       "    <tr>\n",
       "      <th>6053</th>\n",
       "      <td>💥🇷🇺#SPBE = +6%</td>\n",
       "      <td>255-3</td>\n",
       "      <td>clsorg</td>\n",
       "    </tr>\n",
       "    <tr>\n",
       "      <th>2637</th>\n",
       "      <td>Мечел растит базу для дивидендов!   Материнска...</td>\n",
       "      <td>99-4</td>\n",
       "      <td>clsorg</td>\n",
       "    </tr>\n",
       "    <tr>\n",
       "      <th>273</th>\n",
       "      <td>\"Погрузка черных металлов на сети ОАО \"\"РЖД\"\" ...</td>\n",
       "      <td>99-4;116-4</td>\n",
       "      <td>clsorg</td>\n",
       "    </tr>\n",
       "    <tr>\n",
       "      <th>6781</th>\n",
       "      <td>🛢🇷🇺#LKOH #GMKN ЛУКОЙЛ и «Норникель» создают кр...</td>\n",
       "      <td>111-4;53-4</td>\n",
       "      <td>clsorg</td>\n",
       "    </tr>\n",
       "    <tr>\n",
       "      <th>6910</th>\n",
       "      <td>🟢 Новости к этому часу  ⚪️ QIWI может сократит...</td>\n",
       "      <td>270-4</td>\n",
       "      <td>clsorg</td>\n",
       "    </tr>\n",
       "    <tr>\n",
       "      <th>5541</th>\n",
       "      <td>🎙В эфире: О мировом спросе на ключевые металлы...</td>\n",
       "      <td>53-3</td>\n",
       "      <td>clsorg</td>\n",
       "    </tr>\n",
       "    <tr>\n",
       "      <th>3783</th>\n",
       "      <td>​​ТОП полезных статей за прошедший месяц от ко...</td>\n",
       "      <td>215-4</td>\n",
       "      <td>clsorg</td>\n",
       "    </tr>\n",
       "  </tbody>\n",
       "</table>\n",
       "</div>"
      ],
      "text/plain": [
       "                                             input_text  \\\n",
       "3755  ​​Проблема затоваривания рынка недвижимости бу...   \n",
       "6654  🗓КАЛЕНДАРЬ НА СЕГОДНЯ — 2023.07.24  🇦🇺Австрали...   \n",
       "1587  #ROSN ROSN СД РОСНЕФТИ 10 НОЯБРЯ РАССМОТРИТ РЕ...   \n",
       "7171  🧠 Закрытые идеи Мозгового центра Сигналов РЦБ ...   \n",
       "3678  ​​Индекс МосБиржи по итогам недели: +2,04%  Ит...   \n",
       "914   \"🇷🇺#YNDX  \"\"Яндекс\"\" объединит бизнес собствен...   \n",
       "6814  🛢🇷🇺#спг #россия #NVTK СФ одобрил закон об эксп...   \n",
       "1819  #стратегиятактика #колумнистика  Минус 39 млрд...   \n",
       "5913                    💥🇷🇺#MAGN  = +5% = макс за 1 год   \n",
       "4607  ⬆️ #YNDX 101.4M₽ +0.06%  🔷 Аномальный объем  Y...   \n",
       "6946  🟢 Новости к этому часу  ⚪️ Ипотечный портфель ...   \n",
       "2793  Ожидаемые события на 10 августа  🇷🇺 В России  ...   \n",
       "730   \"🇷🇺#MTSS #iot МТС вошла в капитал разработчика...   \n",
       "6053                                     💥🇷🇺#SPBE = +6%   \n",
       "2637  Мечел растит базу для дивидендов!   Материнска...   \n",
       "273   \"Погрузка черных металлов на сети ОАО \"\"РЖД\"\" ...   \n",
       "6781  🛢🇷🇺#LKOH #GMKN ЛУКОЙЛ и «Норникель» создают кр...   \n",
       "6910  🟢 Новости к этому часу  ⚪️ QIWI может сократит...   \n",
       "5541  🎙В эфире: О мировом спросе на ключевые металлы...   \n",
       "3783  ​​ТОП полезных статей за прошедший месяц от ко...   \n",
       "\n",
       "                                            target_text  prefix  \n",
       "3755                                        111-4;100-5  clsorg  \n",
       "6654                                         53-3;231-3  clsorg  \n",
       "1587                                              112-4  clsorg  \n",
       "7171  152-3;111-3;127-3;89-3;160-3;163-3;254-3;221-3...  clsorg  \n",
       "3678                                              100-3  clsorg  \n",
       "914                                               236-3  clsorg  \n",
       "6814                                              115-4  clsorg  \n",
       "1819                                          150-2;7-2  clsorg  \n",
       "5913                                               90-3  clsorg  \n",
       "4607                                              236-4  clsorg  \n",
       "6946                                   175-4;48-3;230-3  clsorg  \n",
       "2793                                               36-3  clsorg  \n",
       "730                                               100-4  clsorg  \n",
       "6053                                              255-3  clsorg  \n",
       "2637                                               99-4  clsorg  \n",
       "273                                          99-4;116-4  clsorg  \n",
       "6781                                         111-4;53-4  clsorg  \n",
       "6910                                              270-4  clsorg  \n",
       "5541                                               53-3  clsorg  \n",
       "3783                                              215-4  clsorg  "
      ]
     },
     "execution_count": 5,
     "metadata": {},
     "output_type": "execute_result"
    }
   ],
   "source": [
    "# [pin]\n",
    "file_path = \"../data/data-hard.csv\"\n",
    "root_path = \"../data/\"\n",
    "\n",
    "\n",
    "df = pd.read_csv(file_path)\n",
    "df[\"prefix\"] = \"clsorg\"\n",
    "df = df.rename({\"message\": \"input_text\", \"label\": \"target_text\"}, axis=1)\n",
    "df.sample(20)"
   ]
  },
  {
   "cell_type": "code",
   "execution_count": null,
   "metadata": {},
   "outputs": [],
   "source": [
    "m_name = \"t5-small\"\n",
    "tokenizer = T5Tokenizer.from_pretrained(m_name)"
   ]
  },
  {
   "cell_type": "code",
   "execution_count": null,
   "metadata": {},
   "outputs": [],
   "source": [
    "from src.t5.dataset import NERDataModel\n",
    "from src.t5.model import NERModel\n",
    "\n",
    "BATCH_SIZE = 64\n",
    "EPOCHS = 10\n",
    "train_df, test_df = train_test_split(df, test_size=0.25, random_state=42)\n",
    "data_module = NERDataModel(train_df, test_df, tokenizer, batch_size=BATCH_SIZE)\n",
    "data_module.setup()"
   ]
  },
  {
   "cell_type": "code",
   "execution_count": null,
   "metadata": {},
   "outputs": [],
   "source": [
    "model = NERModel()\n",
    "\n",
    "checkpoint_callback = ModelCheckpoint(\n",
    "    dirpath=\"checkpoints\",\n",
    "    filename=\"ner\",\n",
    "    save_top_k=1,\n",
    "    verbose=True,\n",
    "    monitor=\"val_loss\",\n",
    "    mode=\"min\",\n",
    ")\n",
    "\n",
    "trainer = Trainer(\n",
    "    callbacks=[checkpoint_callback],\n",
    "    max_epochs=EPOCHS,\n",
    "    accelerator=\"cuda\",\n",
    ")"
   ]
  },
  {
   "cell_type": "code",
   "execution_count": null,
   "metadata": {},
   "outputs": [],
   "source": [
    "!rm -r lightning_logs"
   ]
  },
  {
   "cell_type": "code",
   "execution_count": null,
   "metadata": {},
   "outputs": [],
   "source": [
    "trainer.fit(model, data_module)"
   ]
  },
  {
   "cell_type": "code",
   "execution_count": null,
   "metadata": {},
   "outputs": [],
   "source": [
    "trained_model = NERModel.load_from_checkpoint(\"checkpoints/ner-v5.ckpt\")\n",
    "trained_model.freeze()"
   ]
  },
  {
   "cell_type": "code",
   "execution_count": null,
   "metadata": {},
   "outputs": [],
   "source": [
    "from src.t5.utils import evaluate_metric, generate_answer_batched\n",
    "\n",
    "predictions = generate_answer_batched(\n",
    "    trained_model=trained_model, tokenizer=tokenizer, data=test_df, batch_size=64\n",
    ")"
   ]
  },
  {
   "cell_type": "code",
   "execution_count": null,
   "metadata": {},
   "outputs": [],
   "source": [
    "ldf = test_df.copy()\n",
    "ldf[\"predictions\"] = predictions\n",
    "ldf[[\"tcomp\", \"tsent\"]] = (\n",
    "    ldf[\"target_text\"].str.split(\";\", expand=True)[0].str.split(\"-\", expand=True)\n",
    ")\n",
    "ldf[[\"pcomp\", \"psent\"]] = (\n",
    "    ldf[\"predictions\"].str.split(\";\", expand=True)[0].str.split(\"-\", expand=True)\n",
    ")"
   ]
  },
  {
   "cell_type": "code",
   "execution_count": null,
   "metadata": {},
   "outputs": [
    {
     "data": {
      "text/plain": [
       "{'total': 57.80824034396828,\n",
       " 'f1': 0.6391920745477017,\n",
       " 'accuracy': 0.5169727323316639}"
      ]
     },
     "execution_count": 13,
     "metadata": {},
     "output_type": "execute_result"
    }
   ],
   "source": [
    "# [pin]\n",
    "\n",
    "evaluate_metric(\n",
    "    company_predictions=ldf[\"pcomp\"].tolist(),\n",
    "    company_labels=ldf[\"tcomp\"].tolist(),\n",
    "    sentiment_predictions=ldf[\"psent\"].tolist(),\n",
    "    sentiment_labels=ldf[\"tsent\"].tolist(),\n",
    ")"
   ]
  }
 ],
 "metadata": {
  "kernelspec": {
   "display_name": "Python 3",
   "language": "python",
   "name": "python3"
  },
  "language_info": {
   "codemirror_mode": {
    "name": "ipython",
    "version": 3
   },
   "file_extension": ".py",
   "mimetype": "text/x-python",
   "name": "python",
   "nbconvert_exporter": "python",
   "pygments_lexer": "ipython3",
   "version": "3.11.8"
  }
 },
 "nbformat": 4,
 "nbformat_minor": 2
}
