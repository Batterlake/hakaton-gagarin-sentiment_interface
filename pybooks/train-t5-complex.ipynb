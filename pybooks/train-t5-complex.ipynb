{
 "cells": [
  {
   "cell_type": "code",
   "execution_count": null,
   "metadata": {},
   "outputs": [],
   "source": [
    "%load_ext autoreload\n",
    "%autoreload 2"
   ]
  },
  {
   "cell_type": "code",
   "execution_count": null,
   "metadata": {},
   "outputs": [],
   "source": [
    "import sys\n",
    "\n",
    "sys.path.append(\"../\")"
   ]
  },
  {
   "cell_type": "code",
   "execution_count": null,
   "metadata": {},
   "outputs": [],
   "source": [
    "import os\n",
    "\n",
    "os.environ[\"CUDA_VISIBLE_DEVICES\"] = \"5\"\n",
    "os.environ[\"CUDA_DEVICE_ORDER\"] = \"PCI_BUS_ID\""
   ]
  },
  {
   "cell_type": "code",
   "execution_count": null,
   "metadata": {},
   "outputs": [],
   "source": [
    "import pandas as pd\n",
    "from pytorch_lightning import Trainer\n",
    "from pytorch_lightning.callbacks import ModelCheckpoint\n",
    "from sklearn.model_selection import train_test_split\n",
    "from transformers import T5Tokenizer"
   ]
  },
  {
   "cell_type": "code",
   "execution_count": null,
   "metadata": {},
   "outputs": [
    {
     "data": {
      "text/html": [
       "<div>\n",
       "<style scoped>\n",
       "    .dataframe tbody tr th:only-of-type {\n",
       "        vertical-align: middle;\n",
       "    }\n",
       "\n",
       "    .dataframe tbody tr th {\n",
       "        vertical-align: top;\n",
       "    }\n",
       "\n",
       "    .dataframe thead th {\n",
       "        text-align: right;\n",
       "    }\n",
       "</style>\n",
       "<table border=\"1\" class=\"dataframe\">\n",
       "  <thead>\n",
       "    <tr style=\"text-align: right;\">\n",
       "      <th></th>\n",
       "      <th>input_text</th>\n",
       "      <th>target_text</th>\n",
       "      <th>prefix</th>\n",
       "    </tr>\n",
       "  </thead>\n",
       "  <tbody>\n",
       "    <tr>\n",
       "      <th>241</th>\n",
       "      <td>\"Москва. 3 апреля. INTERFAX.RU - Скидка россий...</td>\n",
       "      <td>112-3</td>\n",
       "      <td>clsorg</td>\n",
       "    </tr>\n",
       "    <tr>\n",
       "      <th>391</th>\n",
       "      <td>\"​Портфель из дивидендных акций РФ. Июль 2023....</td>\n",
       "      <td>111-5</td>\n",
       "      <td>clsorg</td>\n",
       "    </tr>\n",
       "    <tr>\n",
       "      <th>1753</th>\n",
       "      <td>#Идея 🧠 Закрытые идеи Мозгового центра Сигнало...</td>\n",
       "      <td>111-3</td>\n",
       "      <td>clsorg</td>\n",
       "    </tr>\n",
       "    <tr>\n",
       "      <th>3486</th>\n",
       "      <td>​Дивидендные акции. 21 месяц инвестирования. И...</td>\n",
       "      <td>111-4</td>\n",
       "      <td>clsorg</td>\n",
       "    </tr>\n",
       "    <tr>\n",
       "      <th>4579</th>\n",
       "      <td>❗️🇷🇺🇰🇿#SPBE #FRCH #брокеры #биржи #россия #каз...</td>\n",
       "      <td>255-4</td>\n",
       "      <td>clsorg</td>\n",
       "    </tr>\n",
       "    <tr>\n",
       "      <th>2087</th>\n",
       "      <td>Акционеры LKOH в моменте 👆</td>\n",
       "      <td>111-3</td>\n",
       "      <td>clsorg</td>\n",
       "    </tr>\n",
       "    <tr>\n",
       "      <th>1135</th>\n",
       "      <td>\"📋Итоги недели  🇷🇺🏦💰Ключевая ставка будет сниж...</td>\n",
       "      <td>88-3</td>\n",
       "      <td>clsorg</td>\n",
       "    </tr>\n",
       "    <tr>\n",
       "      <th>3691</th>\n",
       "      <td>​​Индекс МосБиржи по итогам недели: -0,19%  Ит...</td>\n",
       "      <td>90-3</td>\n",
       "      <td>clsorg</td>\n",
       "    </tr>\n",
       "    <tr>\n",
       "      <th>6284</th>\n",
       "      <td>📈 С подписчиками сайта обсудили на этой неделе...</td>\n",
       "      <td>237-3</td>\n",
       "      <td>clsorg</td>\n",
       "    </tr>\n",
       "    <tr>\n",
       "      <th>5955</th>\n",
       "      <td>💥🇷🇺#OKEY = +10% = макс за 7 мес</td>\n",
       "      <td>226-3</td>\n",
       "      <td>clsorg</td>\n",
       "    </tr>\n",
       "    <tr>\n",
       "      <th>4805</th>\n",
       "      <td>🇷🇺#FIVE cпустя 19 лет после основания сеть «Ка...</td>\n",
       "      <td>227-3</td>\n",
       "      <td>clsorg</td>\n",
       "    </tr>\n",
       "    <tr>\n",
       "      <th>2880</th>\n",
       "      <td>Первый зампред Сбера Александр Ведяхин поделил...</td>\n",
       "      <td>150-3</td>\n",
       "      <td>clsorg</td>\n",
       "    </tr>\n",
       "    <tr>\n",
       "      <th>3979</th>\n",
       "      <td>​​🟢 ИТОГИ ДНЯ. Российский рынок акций по-прежн...</td>\n",
       "      <td>220-4;236-3</td>\n",
       "      <td>clsorg</td>\n",
       "    </tr>\n",
       "    <tr>\n",
       "      <th>1743</th>\n",
       "      <td>#Идея 🧠 Закрытые идеи Мозгового центра Сигнало...</td>\n",
       "      <td>142-3;230-3</td>\n",
       "      <td>clsorg</td>\n",
       "    </tr>\n",
       "    <tr>\n",
       "      <th>5077</th>\n",
       "      <td>🇷🇺#RASP Распадская : Шахтёры «Усковской» готов...</td>\n",
       "      <td>129-4</td>\n",
       "      <td>clsorg</td>\n",
       "    </tr>\n",
       "    <tr>\n",
       "      <th>1108</th>\n",
       "      <td>\"📈 Сбербанк (SBER): Набсовет Сбербанка рекомен...</td>\n",
       "      <td>150-4</td>\n",
       "      <td>clsorg</td>\n",
       "    </tr>\n",
       "    <tr>\n",
       "      <th>4362</th>\n",
       "      <td>⚪️ Интерфакс сообщил вчера, что Лукойл хочет в...</td>\n",
       "      <td>111-5</td>\n",
       "      <td>clsorg</td>\n",
       "    </tr>\n",
       "    <tr>\n",
       "      <th>6295</th>\n",
       "      <td>📈НАПРАВЛЕНИЯ ЛОКАЛЬНЫХ ТРЕНДОВ ПО БАЗОВЫМ ИНСТ...</td>\n",
       "      <td>4-5;112-3</td>\n",
       "      <td>clsorg</td>\n",
       "    </tr>\n",
       "    <tr>\n",
       "      <th>6327</th>\n",
       "      <td>📊 Polymetal International plc Тикер: POLY Идея...</td>\n",
       "      <td>235-5</td>\n",
       "      <td>clsorg</td>\n",
       "    </tr>\n",
       "    <tr>\n",
       "      <th>3984</th>\n",
       "      <td>​​🟢 ИТОГИ ДНЯ. Российский рынок акций продолжа...</td>\n",
       "      <td>36-4;127-3</td>\n",
       "      <td>clsorg</td>\n",
       "    </tr>\n",
       "  </tbody>\n",
       "</table>\n",
       "</div>"
      ],
      "text/plain": [
       "                                             input_text  target_text  prefix\n",
       "241   \"Москва. 3 апреля. INTERFAX.RU - Скидка россий...        112-3  clsorg\n",
       "391   \"​Портфель из дивидендных акций РФ. Июль 2023....        111-5  clsorg\n",
       "1753  #Идея 🧠 Закрытые идеи Мозгового центра Сигнало...        111-3  clsorg\n",
       "3486  ​Дивидендные акции. 21 месяц инвестирования. И...        111-4  clsorg\n",
       "4579  ❗️🇷🇺🇰🇿#SPBE #FRCH #брокеры #биржи #россия #каз...        255-4  clsorg\n",
       "2087                         Акционеры LKOH в моменте 👆        111-3  clsorg\n",
       "1135  \"📋Итоги недели  🇷🇺🏦💰Ключевая ставка будет сниж...         88-3  clsorg\n",
       "3691  ​​Индекс МосБиржи по итогам недели: -0,19%  Ит...         90-3  clsorg\n",
       "6284  📈 С подписчиками сайта обсудили на этой неделе...        237-3  clsorg\n",
       "5955                    💥🇷🇺#OKEY = +10% = макс за 7 мес        226-3  clsorg\n",
       "4805  🇷🇺#FIVE cпустя 19 лет после основания сеть «Ка...        227-3  clsorg\n",
       "2880  Первый зампред Сбера Александр Ведяхин поделил...        150-3  clsorg\n",
       "3979  ​​🟢 ИТОГИ ДНЯ. Российский рынок акций по-прежн...  220-4;236-3  clsorg\n",
       "1743  #Идея 🧠 Закрытые идеи Мозгового центра Сигнало...  142-3;230-3  clsorg\n",
       "5077  🇷🇺#RASP Распадская : Шахтёры «Усковской» готов...        129-4  clsorg\n",
       "1108  \"📈 Сбербанк (SBER): Набсовет Сбербанка рекомен...        150-4  clsorg\n",
       "4362  ⚪️ Интерфакс сообщил вчера, что Лукойл хочет в...        111-5  clsorg\n",
       "6295  📈НАПРАВЛЕНИЯ ЛОКАЛЬНЫХ ТРЕНДОВ ПО БАЗОВЫМ ИНСТ...    4-5;112-3  clsorg\n",
       "6327  📊 Polymetal International plc Тикер: POLY Идея...        235-5  clsorg\n",
       "3984  ​​🟢 ИТОГИ ДНЯ. Российский рынок акций продолжа...   36-4;127-3  clsorg"
      ]
     },
     "execution_count": 5,
     "metadata": {},
     "output_type": "execute_result"
    }
   ],
   "source": [
    "# [pin]\n",
    "file_path = \"../data/data-hard.csv\"\n",
    "root_path = \"../data/\"\n",
    "\n",
    "\n",
    "df = pd.read_csv(file_path)\n",
    "df[\"prefix\"] = \"clsorg\"\n",
    "df = df.rename({\"message\": \"input_text\", \"label\": \"target_text\"}, axis=1)\n",
    "df.sample(20)"
   ]
  },
  {
   "cell_type": "code",
   "execution_count": null,
   "metadata": {},
   "outputs": [],
   "source": [
    "# m_name = \"t5-small\"\n",
    "m_name = \"cointegrated/rut5-small\"\n",
    "tokenizer = T5Tokenizer.from_pretrained(m_name)"
   ]
  },
  {
   "cell_type": "code",
   "execution_count": null,
   "metadata": {},
   "outputs": [],
   "source": [
    "from src.t5.dataset import NERDataModel\n",
    "from src.t5.model import NERModel\n",
    "\n",
    "BATCH_SIZE = 128\n",
    "EPOCHS = 10\n",
    "train_df, test_df = train_test_split(df, test_size=0.25, random_state=42)\n",
    "data_module = NERDataModel(train_df, test_df, tokenizer, batch_size=BATCH_SIZE)\n",
    "data_module.setup()"
   ]
  },
  {
   "cell_type": "code",
   "execution_count": null,
   "metadata": {},
   "outputs": [],
   "source": [
    "model = NERModel(lr=7e-4)\n",
    "\n",
    "checkpoint_callback = ModelCheckpoint(\n",
    "    dirpath=\"checkpoints\",\n",
    "    filename=\"ner\",\n",
    "    save_top_k=1,\n",
    "    verbose=True,\n",
    "    monitor=\"val_loss\",\n",
    "    mode=\"min\",\n",
    ")\n",
    "\n",
    "trainer = Trainer(\n",
    "    callbacks=[checkpoint_callback],\n",
    "    max_epochs=EPOCHS,\n",
    "    accelerator=\"cuda\",\n",
    ")"
   ]
  },
  {
   "cell_type": "code",
   "execution_count": null,
   "metadata": {},
   "outputs": [],
   "source": [
    "!rm -r lightning_logs"
   ]
  },
  {
   "cell_type": "code",
   "execution_count": null,
   "metadata": {},
   "outputs": [],
   "source": [
    "trainer.fit(model, data_module)"
   ]
  },
  {
   "cell_type": "code",
   "execution_count": null,
   "metadata": {},
   "outputs": [],
   "source": [
    "model.model.save_pretrained(\"./pretrained-rut5-2\")"
   ]
  },
  {
   "cell_type": "code",
   "execution_count": null,
   "metadata": {},
   "outputs": [],
   "source": [
    "trained_model = NERModel.load_from_checkpoint(\"checkpoints/ner-v5.ckpt\")\n",
    "trained_model.freeze()"
   ]
  },
  {
   "cell_type": "code",
   "execution_count": null,
   "metadata": {},
   "outputs": [],
   "source": [
    "from final_solution.utils import generate_answer_batched\n",
    "from src.t5.utils import evaluate_metric\n",
    "\n",
    "predictions = generate_answer_batched(\n",
    "    trained_model=trained_model, tokenizer=tokenizer, data=test_df, batch_size=64\n",
    ")"
   ]
  },
  {
   "cell_type": "code",
   "execution_count": null,
   "metadata": {},
   "outputs": [],
   "source": [
    "ldf = test_df.copy()\n",
    "ldf[\"predictions\"] = predictions\n",
    "ldf[[\"tcomp\", \"tsent\"]] = (\n",
    "    ldf[\"target_text\"].str.split(\";\", expand=True)[0].str.split(\"-\", expand=True)\n",
    ")\n",
    "ldf[[\"pcomp\", \"psent\"]] = (\n",
    "    ldf[\"predictions\"].str.split(\";\", expand=True)[0].str.split(\"-\", expand=True)\n",
    ")"
   ]
  },
  {
   "cell_type": "code",
   "execution_count": null,
   "metadata": {},
   "outputs": [
    {
     "data": {
      "text/plain": [
       "{'total': 57.80824034396828,\n",
       " 'f1': 0.6391920745477017,\n",
       " 'accuracy': 0.5169727323316639}"
      ]
     },
     "execution_count": 13,
     "metadata": {},
     "output_type": "execute_result"
    }
   ],
   "source": [
    "# [pin]\n",
    "\n",
    "evaluate_metric(\n",
    "    company_predictions=ldf[\"pcomp\"].tolist(),\n",
    "    company_labels=ldf[\"tcomp\"].tolist(),\n",
    "    sentiment_predictions=ldf[\"psent\"].tolist(),\n",
    "    sentiment_labels=ldf[\"tsent\"].tolist(),\n",
    ")"
   ]
  }
 ],
 "metadata": {
  "kernelspec": {
   "display_name": "Python 3",
   "language": "python",
   "name": "python3"
  },
  "language_info": {
   "codemirror_mode": {
    "name": "ipython",
    "version": 3
   },
   "file_extension": ".py",
   "mimetype": "text/x-python",
   "name": "python",
   "nbconvert_exporter": "python",
   "pygments_lexer": "ipython3",
   "version": "3.11.8"
  }
 },
 "nbformat": 4,
 "nbformat_minor": 2
}
