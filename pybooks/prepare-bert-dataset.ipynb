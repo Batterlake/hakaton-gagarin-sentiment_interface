{
 "cells": [
  {
   "cell_type": "code",
   "execution_count": null,
   "metadata": {},
   "outputs": [],
   "source": [
    "import pandas as pd\n",
    "import pickle"
   ]
  },
  {
   "cell_type": "code",
   "execution_count": null,
   "metadata": {},
   "outputs": [],
   "source": [
    "with open(\"../data/sentiment_texts.pickle\", \"rb\") as f:\n",
    "    sentiment = pickle.load(f)\n",
    "\n",
    "with open(\"../data/mentions_texts.pickle\", \"rb\") as f:\n",
    "    mentions = pickle.load(f)"
   ]
  },
  {
   "cell_type": "code",
   "execution_count": null,
   "metadata": {},
   "outputs": [],
   "source": [
    "sentiment.drop(\n",
    "    index=sentiment[sentiment.MessageText.str.len() == 0].index, inplace=True\n",
    ")"
   ]
  },
  {
   "cell_type": "code",
   "execution_count": null,
   "metadata": {},
   "outputs": [],
   "source": [
    "mentions.drop(columns=[\"messageid\"], inplace=True)\n",
    "mentions.drop(index=mentions[mentions.MessageText.str.len() == 0].index, inplace=True)\n",
    "mentions.drop(index=mentions[mentions.issuerid < 0].index, inplace=True)"
   ]
  },
  {
   "cell_type": "code",
   "execution_count": null,
   "metadata": {},
   "outputs": [],
   "source": [
    "ment = mentions[[\"issuerid\", \"MessageText\"]]\n",
    "sent = sentiment[[\"issuerid\", \"MessageText\", \"SentimentScore\"]]\n",
    "\n",
    "mrg = pd.merge(ment, sent, on=[\"issuerid\", \"MessageText\"], how=\"right\")"
   ]
  },
  {
   "cell_type": "code",
   "execution_count": null,
   "metadata": {},
   "outputs": [],
   "source": [
    "mrg = mrg[mrg.SentimentScore > 0]"
   ]
  },
  {
   "cell_type": "code",
   "execution_count": null,
   "metadata": {},
   "outputs": [],
   "source": [
    "mrg"
   ]
  },
  {
   "cell_type": "code",
   "execution_count": null,
   "metadata": {},
   "outputs": [],
   "source": [
    "mrg.to_csv(\"../data/sentiment_data.csv\", index=False)"
   ]
  }
 ],
 "metadata": {
  "kernelspec": {
   "display_name": "Python 3",
   "language": "python",
   "name": "python3"
  },
  "language_info": {
   "codemirror_mode": {
    "name": "ipython",
    "version": 3
   },
   "file_extension": ".py",
   "mimetype": "text/x-python",
   "name": "python",
   "nbconvert_exporter": "python",
   "pygments_lexer": "ipython3",
   "version": "3.10.13"
  }
 },
 "nbformat": 4,
 "nbformat_minor": 2
}
