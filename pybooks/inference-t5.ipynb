{
 "cells": [
  {
   "cell_type": "code",
   "execution_count": null,
   "metadata": {},
   "outputs": [],
   "source": [
    "%load_ext autoreload\n",
    "%autoreload 2"
   ]
  },
  {
   "cell_type": "code",
   "execution_count": null,
   "metadata": {},
   "outputs": [],
   "source": [
    "import sys\n",
    "\n",
    "sys.path.append(\"../\")"
   ]
  },
  {
   "cell_type": "code",
   "execution_count": null,
   "metadata": {},
   "outputs": [],
   "source": [
    "import os\n",
    "\n",
    "os.environ[\"CUDA_VISIBLE_DEVICES\"] = \"0\"\n",
    "os.environ[\"CUDA_DEVICE_ORDER\"] = \"PCI_BUS_ID\""
   ]
  },
  {
   "cell_type": "code",
   "execution_count": null,
   "metadata": {},
   "outputs": [],
   "source": [
    "import pandas as pd\n",
    "from sklearn.model_selection import train_test_split\n",
    "from transformers import T5Tokenizer"
   ]
  },
  {
   "cell_type": "code",
   "execution_count": null,
   "metadata": {},
   "outputs": [
    {
     "data": {
      "text/html": [
       "<div>\n",
       "<style scoped>\n",
       "    .dataframe tbody tr th:only-of-type {\n",
       "        vertical-align: middle;\n",
       "    }\n",
       "\n",
       "    .dataframe tbody tr th {\n",
       "        vertical-align: top;\n",
       "    }\n",
       "\n",
       "    .dataframe thead th {\n",
       "        text-align: right;\n",
       "    }\n",
       "</style>\n",
       "<table border=\"1\" class=\"dataframe\">\n",
       "  <thead>\n",
       "    <tr style=\"text-align: right;\">\n",
       "      <th></th>\n",
       "      <th>input_text</th>\n",
       "      <th>target_text</th>\n",
       "      <th>prefix</th>\n",
       "    </tr>\n",
       "  </thead>\n",
       "  <tbody>\n",
       "    <tr>\n",
       "      <th>578</th>\n",
       "      <td>\"🇷🇺#AFKS  \"\"Биннофарм групп\"\"  (входит в АФК С...</td>\n",
       "      <td>26-4</td>\n",
       "      <td>clsorg</td>\n",
       "    </tr>\n",
       "    <tr>\n",
       "      <th>5352</th>\n",
       "      <td>🇷🇺#YNDX  Санкции вынудили отечественных разраб...</td>\n",
       "      <td>236-4</td>\n",
       "      <td>clsorg</td>\n",
       "    </tr>\n",
       "    <tr>\n",
       "      <th>4037</th>\n",
       "      <td>​​🟢 ИТОГИ ДНЯ. Российский рынок перешел к рост...</td>\n",
       "      <td>100-4;111-4;223-4</td>\n",
       "      <td>clsorg</td>\n",
       "    </tr>\n",
       "    <tr>\n",
       "      <th>1875</th>\n",
       "      <td>AFLT +10% 🙈</td>\n",
       "      <td>32-3</td>\n",
       "      <td>clsorg</td>\n",
       "    </tr>\n",
       "    <tr>\n",
       "      <th>776</th>\n",
       "      <td>\"🇷🇺#RASP \"\"Распадская\"\" планирует увеличить го...</td>\n",
       "      <td>129-4</td>\n",
       "      <td>clsorg</td>\n",
       "    </tr>\n",
       "    <tr>\n",
       "      <th>4075</th>\n",
       "      <td>​​🟢 ТОП российских акций: обновление подборки ...</td>\n",
       "      <td>47-5;152-5</td>\n",
       "      <td>clsorg</td>\n",
       "    </tr>\n",
       "    <tr>\n",
       "      <th>2554</th>\n",
       "      <td>Какие акции предпочитают телеграм-каналы на эт...</td>\n",
       "      <td>4-4;100-4;142-4;219-4</td>\n",
       "      <td>clsorg</td>\n",
       "    </tr>\n",
       "    <tr>\n",
       "      <th>2752</th>\n",
       "      <td>Нефть пробила $80. Российская нефтянка продает...</td>\n",
       "      <td>111-4;112-4</td>\n",
       "      <td>clsorg</td>\n",
       "    </tr>\n",
       "    <tr>\n",
       "      <th>241</th>\n",
       "      <td>\"Москва. 3 апреля. INTERFAX.RU - Скидка россий...</td>\n",
       "      <td>112-3</td>\n",
       "      <td>clsorg</td>\n",
       "    </tr>\n",
       "    <tr>\n",
       "      <th>1908</th>\n",
       "      <td>Long YNDX?</td>\n",
       "      <td>236-4</td>\n",
       "      <td>clsorg</td>\n",
       "    </tr>\n",
       "    <tr>\n",
       "      <th>4003</th>\n",
       "      <td>​​🟢 ИТОГИ ДНЯ. Российский рынок акций снова вы...</td>\n",
       "      <td>44-3;74-3;185-3</td>\n",
       "      <td>clsorg</td>\n",
       "    </tr>\n",
       "    <tr>\n",
       "      <th>1805</th>\n",
       "      <td>#риком_инвестидеи   📑 QIWI опубликовала сильны...</td>\n",
       "      <td>228-4</td>\n",
       "      <td>clsorg</td>\n",
       "    </tr>\n",
       "    <tr>\n",
       "      <th>2909</th>\n",
       "      <td>Позитивные технологии на позитиве  Капитализац...</td>\n",
       "      <td>241-5</td>\n",
       "      <td>clsorg</td>\n",
       "    </tr>\n",
       "    <tr>\n",
       "      <th>4896</th>\n",
       "      <td>🇷🇺#LKOH #дивиденд Лукойл может выплатить финал...</td>\n",
       "      <td>111-4</td>\n",
       "      <td>clsorg</td>\n",
       "    </tr>\n",
       "    <tr>\n",
       "      <th>2839</th>\n",
       "      <td>Отчет TCS Group: рекорд по выручке и 35 млн кл...</td>\n",
       "      <td>225-4</td>\n",
       "      <td>clsorg</td>\n",
       "    </tr>\n",
       "    <tr>\n",
       "      <th>1547</th>\n",
       "      <td>#PLZL Полюс 🙋‍♂️ Решения СД  Содержание решени...</td>\n",
       "      <td>127-4</td>\n",
       "      <td>clsorg</td>\n",
       "    </tr>\n",
       "    <tr>\n",
       "      <th>3336</th>\n",
       "      <td>Тренд на рост Московского региона продолжается...</td>\n",
       "      <td>48-3;56-4;71-4;112-3;236-4</td>\n",
       "      <td>clsorg</td>\n",
       "    </tr>\n",
       "    <tr>\n",
       "      <th>845</th>\n",
       "      <td>\"🇷🇺#SNGS #отчетность #дивиденд КОНСЕНСУС: Сург...</td>\n",
       "      <td>160-4</td>\n",
       "      <td>clsorg</td>\n",
       "    </tr>\n",
       "    <tr>\n",
       "      <th>6771</th>\n",
       "      <td>🛢🇰🇿🇷🇺#TRNFP  «Казтрансойл» поставил в Германию...</td>\n",
       "      <td>175-4</td>\n",
       "      <td>clsorg</td>\n",
       "    </tr>\n",
       "    <tr>\n",
       "      <th>3877</th>\n",
       "      <td>​​🛒 X5 Retail Group (FIVE) - отличные результа...</td>\n",
       "      <td>227-4</td>\n",
       "      <td>clsorg</td>\n",
       "    </tr>\n",
       "  </tbody>\n",
       "</table>\n",
       "</div>"
      ],
      "text/plain": [
       "                                             input_text  \\\n",
       "578   \"🇷🇺#AFKS  \"\"Биннофарм групп\"\"  (входит в АФК С...   \n",
       "5352  🇷🇺#YNDX  Санкции вынудили отечественных разраб...   \n",
       "4037  ​​🟢 ИТОГИ ДНЯ. Российский рынок перешел к рост...   \n",
       "1875                                        AFLT +10% 🙈   \n",
       "776   \"🇷🇺#RASP \"\"Распадская\"\" планирует увеличить го...   \n",
       "4075  ​​🟢 ТОП российских акций: обновление подборки ...   \n",
       "2554  Какие акции предпочитают телеграм-каналы на эт...   \n",
       "2752  Нефть пробила $80. Российская нефтянка продает...   \n",
       "241   \"Москва. 3 апреля. INTERFAX.RU - Скидка россий...   \n",
       "1908                                         Long YNDX?   \n",
       "4003  ​​🟢 ИТОГИ ДНЯ. Российский рынок акций снова вы...   \n",
       "1805  #риком_инвестидеи   📑 QIWI опубликовала сильны...   \n",
       "2909  Позитивные технологии на позитиве  Капитализац...   \n",
       "4896  🇷🇺#LKOH #дивиденд Лукойл может выплатить финал...   \n",
       "2839  Отчет TCS Group: рекорд по выручке и 35 млн кл...   \n",
       "1547  #PLZL Полюс 🙋‍♂️ Решения СД  Содержание решени...   \n",
       "3336  Тренд на рост Московского региона продолжается...   \n",
       "845   \"🇷🇺#SNGS #отчетность #дивиденд КОНСЕНСУС: Сург...   \n",
       "6771  🛢🇰🇿🇷🇺#TRNFP  «Казтрансойл» поставил в Германию...   \n",
       "3877  ​​🛒 X5 Retail Group (FIVE) - отличные результа...   \n",
       "\n",
       "                     target_text  prefix  \n",
       "578                         26-4  clsorg  \n",
       "5352                       236-4  clsorg  \n",
       "4037           100-4;111-4;223-4  clsorg  \n",
       "1875                        32-3  clsorg  \n",
       "776                        129-4  clsorg  \n",
       "4075                  47-5;152-5  clsorg  \n",
       "2554       4-4;100-4;142-4;219-4  clsorg  \n",
       "2752                 111-4;112-4  clsorg  \n",
       "241                        112-3  clsorg  \n",
       "1908                       236-4  clsorg  \n",
       "4003             44-3;74-3;185-3  clsorg  \n",
       "1805                       228-4  clsorg  \n",
       "2909                       241-5  clsorg  \n",
       "4896                       111-4  clsorg  \n",
       "2839                       225-4  clsorg  \n",
       "1547                       127-4  clsorg  \n",
       "3336  48-3;56-4;71-4;112-3;236-4  clsorg  \n",
       "845                        160-4  clsorg  \n",
       "6771                       175-4  clsorg  \n",
       "3877                       227-4  clsorg  "
      ]
     },
     "execution_count": 5,
     "metadata": {},
     "output_type": "execute_result"
    }
   ],
   "source": [
    "# [pin]\n",
    "file_path = \"../data/data-hard.csv\"\n",
    "root_path = \"../data/\"\n",
    "\n",
    "\n",
    "df = pd.read_csv(file_path)\n",
    "df[\"prefix\"] = \"clsorg\"\n",
    "df = df.rename({\"message\": \"input_text\", \"label\": \"target_text\"}, axis=1)\n",
    "df.sample(20)"
   ]
  },
  {
   "cell_type": "code",
   "execution_count": null,
   "metadata": {},
   "outputs": [],
   "source": [
    "# m_name = \"t5-small\"\n",
    "m_name = \"cointegrated/rut5-small\"\n",
    "tokenizer = T5Tokenizer.from_pretrained(m_name)"
   ]
  },
  {
   "cell_type": "code",
   "execution_count": null,
   "metadata": {},
   "outputs": [],
   "source": [
    "BATCH_SIZE = 64\n",
    "EPOCHS = 10\n",
    "train_df, test_df = train_test_split(df, test_size=0.25, random_state=42)"
   ]
  },
  {
   "cell_type": "code",
   "execution_count": null,
   "metadata": {},
   "outputs": [],
   "source": [
    "import torch\n",
    "from transformers import T5ForConditionalGeneration\n",
    "\n",
    "# m_name = \"t5-small\"\n",
    "# trained_model = T5ForConditionalGeneration.from_pretrained(m_name, return_dict=True)\n",
    "# state_dict = torch.load(\"./checkpoints/ner-v5.ckpt\")[\"state_dict\"]\n",
    "# state_dict = {k.partition(\"model.\")[2]: v for k, v in state_dict.items()}\n",
    "# trained_model.load_state_dict(state_dict)\n",
    "# trained_model.save_pretrained(\"./pretrained\")"
   ]
  },
  {
   "cell_type": "code",
   "execution_count": null,
   "metadata": {},
   "outputs": [],
   "source": [
    "m_name = \"./pretrained-rut5\"\n",
    "trained_model = T5ForConditionalGeneration.from_pretrained(\n",
    "    m_name, return_dict=True, torch_dtype=torch.float16\n",
    ")\n",
    "trained_model.cuda();"
   ]
  },
  {
   "cell_type": "code",
   "execution_count": null,
   "metadata": {},
   "outputs": [],
   "source": [
    "import onnxruntime as rt\n",
    "from optimum.onnxruntime import ORTModelForSeq2SeqLM\n",
    "\n",
    "print(rt.get_available_providers())\n",
    "\n",
    "ort_model = ORTModelForSeq2SeqLM.from_pretrained(\n",
    "    \"./pretrained\",\n",
    "    provider=\"CUDAExecutionProvider\",\n",
    "    export=True,\n",
    ")"
   ]
  },
  {
   "cell_type": "code",
   "execution_count": null,
   "metadata": {},
   "outputs": [],
   "source": [
    "import torch\n",
    "\n",
    "from src.t5.utils import evaluate_metric, generate_answer_batched"
   ]
  },
  {
   "cell_type": "code",
   "execution_count": null,
   "metadata": {},
   "outputs": [
    {
     "data": {
      "application/vnd.jupyter.widget-view+json": {
       "model_id": "497296567e9d437eaad8cfd723b1ac43",
       "version_major": 2,
       "version_minor": 0
      },
      "text/plain": [
       "  0%|          | 0/19 [00:00<?, ?it/s]"
      ]
     },
     "metadata": {},
     "output_type": "display_data"
    },
    {
     "name": "stderr",
     "output_type": "stream",
     "text": [
      "/home/worker/workspace/hakaton-gagarin-sentiment_interface/.conda/lib/python3.11/site-packages/transformers/generation/configuration_utils.py:453: UserWarning: `num_beams` is set to 1. However, `early_stopping` is set to `True` -- this flag is only used in beam-based generation modes. You should set `num_beams>1` or unset `early_stopping`.\n",
      "  warnings.warn(\n"
     ]
    }
   ],
   "source": [
    "# [pin]\n",
    "with torch.inference_mode():\n",
    "    predictions = generate_answer_batched(\n",
    "        trained_model=ort_model,\n",
    "        tokenizer=tokenizer,\n",
    "        data=test_df[:1200],\n",
    "        batch_size=64,\n",
    "        n_beams=1,\n",
    "        max_length=386,\n",
    "    )"
   ]
  },
  {
   "cell_type": "code",
   "execution_count": null,
   "metadata": {},
   "outputs": [
    {
     "name": "stderr",
     "output_type": "stream",
     "text": [
      "100%|██████████| 19/19 [00:14<00:00,  1.33it/s]\n"
     ]
    }
   ],
   "source": [
    "# [pin]\n",
    "with torch.inference_mode(), torch.cuda.amp.autocast():\n",
    "    predictions = generate_answer_batched(\n",
    "        trained_model=trained_model,\n",
    "        tokenizer=tokenizer,\n",
    "        data=test_df[:1200],\n",
    "        batch_size=64,\n",
    "        num_beams=1,\n",
    "        max_source_length=386,\n",
    "    )"
   ]
  },
  {
   "cell_type": "code",
   "execution_count": null,
   "metadata": {},
   "outputs": [],
   "source": [
    "ldf = test_df.copy()[:1200]\n",
    "ldf[\"predictions\"] = predictions\n",
    "ldf[[\"tcomp\", \"tsent\"]] = (\n",
    "    ldf[\"target_text\"].str.split(\";\", expand=True)[0].str.split(\"-\", expand=True)\n",
    ")\n",
    "ldf[[\"pcomp\", \"psent\"]] = (\n",
    "    ldf[\"predictions\"].str.split(\";\", expand=True)[0].str.split(\"-\", expand=True)\n",
    ")"
   ]
  },
  {
   "cell_type": "code",
   "execution_count": null,
   "metadata": {},
   "outputs": [
    {
     "data": {
      "text/plain": [
       "{'total': 58.241360011302056, 'f1': 0.6373272002260412, 'accuracy': 0.5275}"
      ]
     },
     "execution_count": 22,
     "metadata": {},
     "output_type": "execute_result"
    }
   ],
   "source": [
    "# [pin]\n",
    "\n",
    "evaluate_metric(\n",
    "    company_predictions=ldf[\"pcomp\"].tolist(),\n",
    "    company_labels=ldf[\"tcomp\"].tolist(),\n",
    "    sentiment_predictions=ldf[\"psent\"].tolist(),\n",
    "    sentiment_labels=ldf[\"tsent\"].tolist(),\n",
    ")"
   ]
  }
 ],
 "metadata": {
  "kernelspec": {
   "display_name": "Python 3",
   "language": "python",
   "name": "python3"
  },
  "language_info": {
   "codemirror_mode": {
    "name": "ipython",
    "version": 3
   },
   "file_extension": ".py",
   "mimetype": "text/x-python",
   "name": "python",
   "nbconvert_exporter": "python",
   "pygments_lexer": "ipython3",
   "version": "3.11.8"
  }
 },
 "nbformat": 4,
 "nbformat_minor": 2
}
