{
 "cells": [
  {
   "cell_type": "code",
   "execution_count": null,
   "metadata": {},
   "outputs": [],
   "source": [
    "%load_ext autoreload\n",
    "%autoreload 2"
   ]
  },
  {
   "cell_type": "code",
   "execution_count": null,
   "metadata": {},
   "outputs": [],
   "source": [
    "import sys\n",
    "\n",
    "sys.path.append(\"../\")"
   ]
  },
  {
   "cell_type": "code",
   "execution_count": null,
   "metadata": {},
   "outputs": [],
   "source": [
    "import os\n",
    "\n",
    "os.environ[\"CUDA_VISIBLE_DEVICES\"] = \"0\"\n",
    "os.environ[\"CUDA_DEVICE_ORDER\"] = \"PCI_BUS_ID\""
   ]
  },
  {
   "cell_type": "code",
   "execution_count": null,
   "metadata": {},
   "outputs": [],
   "source": [
    "import pandas as pd\n",
    "from sklearn.model_selection import train_test_split\n",
    "from transformers import T5Tokenizer"
   ]
  },
  {
   "cell_type": "code",
   "execution_count": null,
   "metadata": {},
   "outputs": [],
   "source": [
    "import random\n",
    "\n",
    "import numpy as np\n",
    "import torch\n",
    "\n",
    "\n",
    "def seed_everything(seed=10):\n",
    "    random.seed(seed)\n",
    "    os.environ[\"PYTHONHASHSEED\"] = str(seed)\n",
    "    np.random.seed(seed)\n",
    "    torch.manual_seed(seed)\n",
    "    torch.cuda.manual_seed(seed)\n",
    "    torch.backends.cudnn.deterministic = True\n",
    "\n",
    "\n",
    "seed_everything()"
   ]
  },
  {
   "cell_type": "code",
   "execution_count": null,
   "metadata": {},
   "outputs": [
    {
     "data": {
      "text/html": [
       "<div>\n",
       "<style scoped>\n",
       "    .dataframe tbody tr th:only-of-type {\n",
       "        vertical-align: middle;\n",
       "    }\n",
       "\n",
       "    .dataframe tbody tr th {\n",
       "        vertical-align: top;\n",
       "    }\n",
       "\n",
       "    .dataframe thead th {\n",
       "        text-align: right;\n",
       "    }\n",
       "</style>\n",
       "<table border=\"1\" class=\"dataframe\">\n",
       "  <thead>\n",
       "    <tr style=\"text-align: right;\">\n",
       "      <th></th>\n",
       "      <th>input_text</th>\n",
       "      <th>target_text</th>\n",
       "      <th>prefix</th>\n",
       "    </tr>\n",
       "  </thead>\n",
       "  <tbody>\n",
       "    <tr>\n",
       "      <th>5222</th>\n",
       "      <td>🇷🇺#TCSG #отчетность  КОНСЕНСУС: TCS Group во I...</td>\n",
       "      <td>225-4</td>\n",
       "      <td>clsorg</td>\n",
       "    </tr>\n",
       "    <tr>\n",
       "      <th>4135</th>\n",
       "      <td>⏰ Доброе утро! 16 марта  🌍 Ночное дежурство (з...</td>\n",
       "      <td>228-3;251-3</td>\n",
       "      <td>clsorg</td>\n",
       "    </tr>\n",
       "    <tr>\n",
       "      <th>3130</th>\n",
       "      <td>СПБ Биржа начнет торги ценными бумагами восьми...</td>\n",
       "      <td>255-4</td>\n",
       "      <td>clsorg</td>\n",
       "    </tr>\n",
       "    <tr>\n",
       "      <th>1629</th>\n",
       "      <td>#SMLT  Откуп в акциях Самолёта: гэп на открыти...</td>\n",
       "      <td>56-3</td>\n",
       "      <td>clsorg</td>\n",
       "    </tr>\n",
       "    <tr>\n",
       "      <th>3917</th>\n",
       "      <td>​​🟢 ИТОГИ ДНЯ. Российские акции немного подрос...</td>\n",
       "      <td>90-2;152-2</td>\n",
       "      <td>clsorg</td>\n",
       "    </tr>\n",
       "    <tr>\n",
       "      <th>4392</th>\n",
       "      <td>⛔️ Россия запрещает экспорт бензина. Какие ком...</td>\n",
       "      <td>25-2</td>\n",
       "      <td>clsorg</td>\n",
       "    </tr>\n",
       "    <tr>\n",
       "      <th>5193</th>\n",
       "      <td>🇷🇺#SPBE #отчетность  Итоги торгов на СПБ Бирже...</td>\n",
       "      <td>255-3</td>\n",
       "      <td>clsorg</td>\n",
       "    </tr>\n",
       "    <tr>\n",
       "      <th>2996</th>\n",
       "      <td>Просто вспомните как просрался Севка на ожидан...</td>\n",
       "      <td>90-5</td>\n",
       "      <td>clsorg</td>\n",
       "    </tr>\n",
       "    <tr>\n",
       "      <th>5391</th>\n",
       "      <td>🇷🇺#авиа #россия  Россия может открыть прямые а...</td>\n",
       "      <td>32-4</td>\n",
       "      <td>clsorg</td>\n",
       "    </tr>\n",
       "    <tr>\n",
       "      <th>4306</th>\n",
       "      <td>⚡️ Сбер (SBER) отыграл всё падение на СВО. #хв...</td>\n",
       "      <td>150-3</td>\n",
       "      <td>clsorg</td>\n",
       "    </tr>\n",
       "    <tr>\n",
       "      <th>1492</th>\n",
       "      <td>#MSNG #Отчетность  Чистая прибыль Мосэнерго по...</td>\n",
       "      <td>215-4</td>\n",
       "      <td>clsorg</td>\n",
       "    </tr>\n",
       "    <tr>\n",
       "      <th>5347</th>\n",
       "      <td>🇷🇺#YNDX  Группа инвесторов, в которую могут во...</td>\n",
       "      <td>236-3</td>\n",
       "      <td>clsorg</td>\n",
       "    </tr>\n",
       "    <tr>\n",
       "      <th>4193</th>\n",
       "      <td>⚠️🇷🇺#CHMF #санкции  Европейский суд отказался ...</td>\n",
       "      <td>152-2</td>\n",
       "      <td>clsorg</td>\n",
       "    </tr>\n",
       "    <tr>\n",
       "      <th>6753</th>\n",
       "      <td>🛢&gt;87 долл./барр.  стоит Brent впервые с середи...</td>\n",
       "      <td>111-4</td>\n",
       "      <td>clsorg</td>\n",
       "    </tr>\n",
       "    <tr>\n",
       "      <th>4171</th>\n",
       "      <td>⚠️#алмазы #отчетность #ALRS  De Beers за после...</td>\n",
       "      <td>4-2</td>\n",
       "      <td>clsorg</td>\n",
       "    </tr>\n",
       "    <tr>\n",
       "      <th>3849</th>\n",
       "      <td>​​👩‍👧 Мать и Дитя (MDMG) - обзор финансовых ре...</td>\n",
       "      <td>224-2</td>\n",
       "      <td>clsorg</td>\n",
       "    </tr>\n",
       "    <tr>\n",
       "      <th>2986</th>\n",
       "      <td>Продажи усиливаются с приближением ключевого у...</td>\n",
       "      <td>36-3</td>\n",
       "      <td>clsorg</td>\n",
       "    </tr>\n",
       "    <tr>\n",
       "      <th>4497</th>\n",
       "      <td>❗️🇷🇺#ISKJ #event сегодня - 18:00мск Вебинар Sb...</td>\n",
       "      <td>150-3</td>\n",
       "      <td>clsorg</td>\n",
       "    </tr>\n",
       "    <tr>\n",
       "      <th>1656</th>\n",
       "      <td>#SOFL Софтлайн ведет переговоры о покупке 100%...</td>\n",
       "      <td>237-4</td>\n",
       "      <td>clsorg</td>\n",
       "    </tr>\n",
       "    <tr>\n",
       "      <th>692</th>\n",
       "      <td>\"🇷🇺#IRAO  Суд в Литве постановил вывести из са...</td>\n",
       "      <td>72-4</td>\n",
       "      <td>clsorg</td>\n",
       "    </tr>\n",
       "  </tbody>\n",
       "</table>\n",
       "</div>"
      ],
      "text/plain": [
       "                                             input_text  target_text  prefix\n",
       "5222  🇷🇺#TCSG #отчетность  КОНСЕНСУС: TCS Group во I...        225-4  clsorg\n",
       "4135  ⏰ Доброе утро! 16 марта  🌍 Ночное дежурство (з...  228-3;251-3  clsorg\n",
       "3130  СПБ Биржа начнет торги ценными бумагами восьми...        255-4  clsorg\n",
       "1629  #SMLT  Откуп в акциях Самолёта: гэп на открыти...         56-3  clsorg\n",
       "3917  ​​🟢 ИТОГИ ДНЯ. Российские акции немного подрос...   90-2;152-2  clsorg\n",
       "4392  ⛔️ Россия запрещает экспорт бензина. Какие ком...         25-2  clsorg\n",
       "5193  🇷🇺#SPBE #отчетность  Итоги торгов на СПБ Бирже...        255-3  clsorg\n",
       "2996  Просто вспомните как просрался Севка на ожидан...         90-5  clsorg\n",
       "5391  🇷🇺#авиа #россия  Россия может открыть прямые а...         32-4  clsorg\n",
       "4306  ⚡️ Сбер (SBER) отыграл всё падение на СВО. #хв...        150-3  clsorg\n",
       "1492  #MSNG #Отчетность  Чистая прибыль Мосэнерго по...        215-4  clsorg\n",
       "5347  🇷🇺#YNDX  Группа инвесторов, в которую могут во...        236-3  clsorg\n",
       "4193  ⚠️🇷🇺#CHMF #санкции  Европейский суд отказался ...        152-2  clsorg\n",
       "6753  🛢>87 долл./барр.  стоит Brent впервые с середи...        111-4  clsorg\n",
       "4171  ⚠️#алмазы #отчетность #ALRS  De Beers за после...          4-2  clsorg\n",
       "3849  ​​👩‍👧 Мать и Дитя (MDMG) - обзор финансовых ре...        224-2  clsorg\n",
       "2986  Продажи усиливаются с приближением ключевого у...         36-3  clsorg\n",
       "4497  ❗️🇷🇺#ISKJ #event сегодня - 18:00мск Вебинар Sb...        150-3  clsorg\n",
       "1656  #SOFL Софтлайн ведет переговоры о покупке 100%...        237-4  clsorg\n",
       "692   \"🇷🇺#IRAO  Суд в Литве постановил вывести из са...         72-4  clsorg"
      ]
     },
     "execution_count": 6,
     "metadata": {},
     "output_type": "execute_result"
    }
   ],
   "source": [
    "# [pin]\n",
    "file_path = \"../data/data-hard.csv\"\n",
    "root_path = \"../data/\"\n",
    "\n",
    "\n",
    "df = pd.read_csv(file_path)\n",
    "df[\"prefix\"] = \"clsorg\"\n",
    "df = df.rename({\"message\": \"input_text\", \"label\": \"target_text\"}, axis=1)\n",
    "df.sample(20)"
   ]
  },
  {
   "cell_type": "code",
   "execution_count": null,
   "metadata": {},
   "outputs": [],
   "source": [
    "# m_name = \"t5-small\"\n",
    "m_name = \"cointegrated/rut5-small\"\n",
    "tokenizer = T5Tokenizer.from_pretrained(m_name)"
   ]
  },
  {
   "cell_type": "code",
   "execution_count": null,
   "metadata": {},
   "outputs": [],
   "source": [
    "from src.t5.dataset import NERDataModel\n",
    "\n",
    "BATCH_SIZE = 128\n",
    "EPOCHS = 10\n",
    "num_workers = 12\n",
    "train_df, test_df = train_test_split(df, test_size=0.25, random_state=42)\n",
    "data_module = NERDataModel(\n",
    "    train_df, test_df, tokenizer, batch_size=BATCH_SIZE, num_workers=num_workers\n",
    ")\n",
    "data_module.setup()"
   ]
  },
  {
   "cell_type": "code",
   "execution_count": null,
   "metadata": {},
   "outputs": [],
   "source": [
    "from transformers import T5ForConditionalGeneration"
   ]
  },
  {
   "cell_type": "code",
   "execution_count": null,
   "metadata": {},
   "outputs": [],
   "source": [
    "m_name = \"t5-small\"\n",
    "trained_model = T5ForConditionalGeneration.from_pretrained(m_name, return_dict=True)\n",
    "state_dict = torch.load(\"./checkpoints/ner-v8.ckpt\")[\"state_dict\"]\n",
    "state_dict = {k.partition(\"model.\")[2]: v for k, v in state_dict.items()}\n",
    "trained_model.load_state_dict(state_dict)\n",
    "trained_model.save_pretrained(\"./pretrained\")"
   ]
  },
  {
   "cell_type": "code",
   "execution_count": null,
   "metadata": {},
   "outputs": [],
   "source": [
    "m_name = \"../pretrained-rut5-2\"\n",
    "trained_model = T5ForConditionalGeneration.from_pretrained(\n",
    "    m_name, return_dict=True, torch_dtype=torch.float16\n",
    ")\n",
    "trained_model.save_pretrained(\"../pretrained-rut5-2-fp16\")"
   ]
  },
  {
   "cell_type": "code",
   "execution_count": null,
   "metadata": {},
   "outputs": [],
   "source": [
    "m_name = \"../pretrained-rut5-2-fp16\"\n",
    "trained_model = T5ForConditionalGeneration.from_pretrained(\n",
    "    m_name, return_dict=True, torch_dtype=torch.float16\n",
    ")\n",
    "trained_model.cuda();"
   ]
  },
  {
   "cell_type": "code",
   "execution_count": null,
   "metadata": {},
   "outputs": [],
   "source": [
    "import torch\n",
    "\n",
    "from src.t5.utils import evaluate_metric, generate_answer_batched"
   ]
  },
  {
   "cell_type": "code",
   "execution_count": null,
   "metadata": {},
   "outputs": [
    {
     "name": "stderr",
     "output_type": "stream",
     "text": [
      "  0%|          | 0/15 [00:00<?, ?it/s]/home/worker/workspace/hakaton-gagarin-sentiment_interface/.conda/lib/python3.11/site-packages/transformers/generation/configuration_utils.py:453: UserWarning: `num_beams` is set to 1. However, `early_stopping` is set to `True` -- this flag is only used in beam-based generation modes. You should set `num_beams>1` or unset `early_stopping`.\n",
      "  warnings.warn(\n",
      "100%|██████████| 15/15 [00:15<00:00,  1.02s/it]\n"
     ]
    }
   ],
   "source": [
    "# [pin]\n",
    "with torch.inference_mode(), torch.cuda.amp.autocast():\n",
    "    predictions = generate_answer_batched(\n",
    "        trained_model=trained_model,\n",
    "        tokenizer=tokenizer,\n",
    "        data=test_df[:],\n",
    "        batch_size=128,\n",
    "        num_beams=1,\n",
    "        max_source_length=396,\n",
    "        max_target_length=40,\n",
    "        verbose=False,\n",
    "    )"
   ]
  },
  {
   "cell_type": "code",
   "execution_count": null,
   "metadata": {},
   "outputs": [],
   "source": [
    "ldf = test_df.copy()[:]\n",
    "ldf[[\"tcomp\", \"tsent\"]] = (\n",
    "    ldf[\"target_text\"].str.split(\";\", expand=True)[0].str.split(\"-\", expand=True)\n",
    ")"
   ]
  },
  {
   "cell_type": "code",
   "execution_count": null,
   "metadata": {},
   "outputs": [],
   "source": [
    "from src.t5.utils import postprocess_predictions\n",
    "\n",
    "orgsent = list(\n",
    "    map(lambda x: x[0] if len(x) else [0, 1], postprocess_predictions(predictions))\n",
    ")\n",
    "org = list(map(lambda x: x[0], orgsent))\n",
    "sent = list(map(lambda x: x[1], orgsent))"
   ]
  },
  {
   "cell_type": "code",
   "execution_count": null,
   "metadata": {},
   "outputs": [],
   "source": [
    "len(org), len(ldf[\"tcomp\"].tolist())"
   ]
  },
  {
   "cell_type": "code",
   "execution_count": null,
   "metadata": {},
   "outputs": [
    {
     "data": {
      "text/plain": [
       "{'total': 74.53947501804372,\n",
       " 'f1': 0.7940727502217538,\n",
       " 'accuracy': 0.6967167501391207}"
      ]
     },
     "execution_count": 20,
     "metadata": {},
     "output_type": "execute_result"
    }
   ],
   "source": [
    "# [pin]\n",
    "\n",
    "evaluate_metric(\n",
    "    company_predictions=org,\n",
    "    company_labels=ldf[\"tcomp\"].tolist(),\n",
    "    sentiment_predictions=sent,\n",
    "    sentiment_labels=ldf[\"tsent\"].tolist(),\n",
    ")"
   ]
  }
 ],
 "metadata": {
  "kernelspec": {
   "display_name": "Python 3",
   "language": "python",
   "name": "python3"
  },
  "language_info": {
   "codemirror_mode": {
    "name": "ipython",
    "version": 3
   },
   "file_extension": ".py",
   "mimetype": "text/x-python",
   "name": "python",
   "nbconvert_exporter": "python",
   "pygments_lexer": "ipython3",
   "version": "3.11.8"
  }
 },
 "nbformat": 4,
 "nbformat_minor": 2
}
