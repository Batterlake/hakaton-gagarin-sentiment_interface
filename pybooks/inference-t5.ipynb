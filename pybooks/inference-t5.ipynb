{
 "cells": [
  {
   "cell_type": "code",
   "execution_count": null,
   "metadata": {},
   "outputs": [],
   "source": [
    "%load_ext autoreload\n",
    "%autoreload 2"
   ]
  },
  {
   "cell_type": "code",
   "execution_count": null,
   "metadata": {},
   "outputs": [],
   "source": [
    "import sys\n",
    "\n",
    "sys.path.append(\"../\")"
   ]
  },
  {
   "cell_type": "code",
   "execution_count": null,
   "metadata": {},
   "outputs": [],
   "source": [
    "import os\n",
    "\n",
    "os.environ[\"CUDA_VISIBLE_DEVICES\"] = \"0\"\n",
    "os.environ[\"CUDA_DEVICE_ORDER\"] = \"PCI_BUS_ID\""
   ]
  },
  {
   "cell_type": "code",
   "execution_count": null,
   "metadata": {},
   "outputs": [],
   "source": [
    "import pandas as pd\n",
    "from sklearn.model_selection import train_test_split\n",
    "from transformers import T5Tokenizer"
   ]
  },
  {
   "cell_type": "code",
   "execution_count": null,
   "metadata": {},
   "outputs": [
    {
     "data": {
      "text/html": [
       "<div>\n",
       "<style scoped>\n",
       "    .dataframe tbody tr th:only-of-type {\n",
       "        vertical-align: middle;\n",
       "    }\n",
       "\n",
       "    .dataframe tbody tr th {\n",
       "        vertical-align: top;\n",
       "    }\n",
       "\n",
       "    .dataframe thead th {\n",
       "        text-align: right;\n",
       "    }\n",
       "</style>\n",
       "<table border=\"1\" class=\"dataframe\">\n",
       "  <thead>\n",
       "    <tr style=\"text-align: right;\">\n",
       "      <th></th>\n",
       "      <th>input_text</th>\n",
       "      <th>target_text</th>\n",
       "      <th>prefix</th>\n",
       "    </tr>\n",
       "  </thead>\n",
       "  <tbody>\n",
       "    <tr>\n",
       "      <th>1888</th>\n",
       "      <td>Euroclear: лед тронулся  Международный депозит...</td>\n",
       "      <td>36-3</td>\n",
       "      <td>clsorg</td>\n",
       "    </tr>\n",
       "    <tr>\n",
       "      <th>4832</th>\n",
       "      <td>🇷🇺#GMKN   Росатом и Норникель изучат возможнос...</td>\n",
       "      <td>53-3</td>\n",
       "      <td>clsorg</td>\n",
       "    </tr>\n",
       "    <tr>\n",
       "      <th>167</th>\n",
       "      <td>\"ВТБ кстати говоря, пока суть да дело решил не...</td>\n",
       "      <td>99-3</td>\n",
       "      <td>clsorg</td>\n",
       "    </tr>\n",
       "    <tr>\n",
       "      <th>6208</th>\n",
       "      <td>💼 Народный портфель. Частные инвесторы покупаю...</td>\n",
       "      <td>150-4</td>\n",
       "      <td>clsorg</td>\n",
       "    </tr>\n",
       "    <tr>\n",
       "      <th>3383</th>\n",
       "      <td>Центр генетики и репродуктивной медицины Genet...</td>\n",
       "      <td>90-3</td>\n",
       "      <td>clsorg</td>\n",
       "    </tr>\n",
       "    <tr>\n",
       "      <th>4907</th>\n",
       "      <td>🇷🇺#MAGN  ИНВЕСТПРОГРАММА ММК В 2023 Г СОСТАВИТ...</td>\n",
       "      <td>90-4;90-2</td>\n",
       "      <td>clsorg</td>\n",
       "    </tr>\n",
       "    <tr>\n",
       "      <th>6895</th>\n",
       "      <td>🟢 Новости к этому часу   ⚪️ Организация эконом...</td>\n",
       "      <td>209-2</td>\n",
       "      <td>clsorg</td>\n",
       "    </tr>\n",
       "    <tr>\n",
       "      <th>832</th>\n",
       "      <td>\"🇷🇺#SIBN \"\"Газпром нефть\"\" приступила к развит...</td>\n",
       "      <td>47-4</td>\n",
       "      <td>clsorg</td>\n",
       "    </tr>\n",
       "    <tr>\n",
       "      <th>3208</th>\n",
       "      <td>Сильный отчет «Полиметалла» за 1-й квартал 202...</td>\n",
       "      <td>235-4</td>\n",
       "      <td>clsorg</td>\n",
       "    </tr>\n",
       "    <tr>\n",
       "      <th>210</th>\n",
       "      <td>\"ЕСЛИ ВЫ ПРОПУСТИЛИ. ИНТЕРЕСНЫЕ ПОСТЫ ЗА ПОСЛЕ...</td>\n",
       "      <td>265-3</td>\n",
       "      <td>clsorg</td>\n",
       "    </tr>\n",
       "    <tr>\n",
       "      <th>2367</th>\n",
       "      <td>Главное к открытию среды (25.10): #брифинг  📌 ...</td>\n",
       "      <td>112-3</td>\n",
       "      <td>clsorg</td>\n",
       "    </tr>\n",
       "    <tr>\n",
       "      <th>264</th>\n",
       "      <td>\"ПАО АФК \"\"Система\"\" видит актуальность IPO дл...</td>\n",
       "      <td>26-4</td>\n",
       "      <td>clsorg</td>\n",
       "    </tr>\n",
       "    <tr>\n",
       "      <th>4376</th>\n",
       "      <td>⚪️ Сегодня рубль на бирже впервые с марта прош...</td>\n",
       "      <td>187-5</td>\n",
       "      <td>clsorg</td>\n",
       "    </tr>\n",
       "    <tr>\n",
       "      <th>696</th>\n",
       "      <td>\"🇷🇺#IRAO Интер РАО выкупила долю структуры Мор...</td>\n",
       "      <td>72-4</td>\n",
       "      <td>clsorg</td>\n",
       "    </tr>\n",
       "    <tr>\n",
       "      <th>2104</th>\n",
       "      <td>Арабский телеканал Asharq News провел интервью...</td>\n",
       "      <td>150-4</td>\n",
       "      <td>clsorg</td>\n",
       "    </tr>\n",
       "    <tr>\n",
       "      <th>3442</th>\n",
       "      <td>когда наконец-то пробили левого типка в Сбере ...</td>\n",
       "      <td>150-3</td>\n",
       "      <td>clsorg</td>\n",
       "    </tr>\n",
       "    <tr>\n",
       "      <th>3198</th>\n",
       "      <td>Сегодня:  🇺🇸США - Initial Jobless Claims - 15:...</td>\n",
       "      <td>157-3;235-3;129-3;223-3</td>\n",
       "      <td>clsorg</td>\n",
       "    </tr>\n",
       "    <tr>\n",
       "      <th>4641</th>\n",
       "      <td>🇰🇿 Акционеры Полиметалла одобрили редомициляци...</td>\n",
       "      <td>235-4</td>\n",
       "      <td>clsorg</td>\n",
       "    </tr>\n",
       "    <tr>\n",
       "      <th>2199</th>\n",
       "      <td>ВНЕШНИЙ ФОН РЫНКА НА 16.06.2023г.  • Азиатские...</td>\n",
       "      <td>186-4;204-3</td>\n",
       "      <td>clsorg</td>\n",
       "    </tr>\n",
       "    <tr>\n",
       "      <th>5088</th>\n",
       "      <td>🇷🇺#ROSN #event  1 декабря - Путин встретится с...</td>\n",
       "      <td>112-3</td>\n",
       "      <td>clsorg</td>\n",
       "    </tr>\n",
       "  </tbody>\n",
       "</table>\n",
       "</div>"
      ],
      "text/plain": [
       "                                             input_text  \\\n",
       "1888  Euroclear: лед тронулся  Международный депозит...   \n",
       "4832  🇷🇺#GMKN   Росатом и Норникель изучат возможнос...   \n",
       "167   \"ВТБ кстати говоря, пока суть да дело решил не...   \n",
       "6208  💼 Народный портфель. Частные инвесторы покупаю...   \n",
       "3383  Центр генетики и репродуктивной медицины Genet...   \n",
       "4907  🇷🇺#MAGN  ИНВЕСТПРОГРАММА ММК В 2023 Г СОСТАВИТ...   \n",
       "6895  🟢 Новости к этому часу   ⚪️ Организация эконом...   \n",
       "832   \"🇷🇺#SIBN \"\"Газпром нефть\"\" приступила к развит...   \n",
       "3208  Сильный отчет «Полиметалла» за 1-й квартал 202...   \n",
       "210   \"ЕСЛИ ВЫ ПРОПУСТИЛИ. ИНТЕРЕСНЫЕ ПОСТЫ ЗА ПОСЛЕ...   \n",
       "2367  Главное к открытию среды (25.10): #брифинг  📌 ...   \n",
       "264   \"ПАО АФК \"\"Система\"\" видит актуальность IPO дл...   \n",
       "4376  ⚪️ Сегодня рубль на бирже впервые с марта прош...   \n",
       "696   \"🇷🇺#IRAO Интер РАО выкупила долю структуры Мор...   \n",
       "2104  Арабский телеканал Asharq News провел интервью...   \n",
       "3442  когда наконец-то пробили левого типка в Сбере ...   \n",
       "3198  Сегодня:  🇺🇸США - Initial Jobless Claims - 15:...   \n",
       "4641  🇰🇿 Акционеры Полиметалла одобрили редомициляци...   \n",
       "2199  ВНЕШНИЙ ФОН РЫНКА НА 16.06.2023г.  • Азиатские...   \n",
       "5088  🇷🇺#ROSN #event  1 декабря - Путин встретится с...   \n",
       "\n",
       "                  target_text  prefix  \n",
       "1888                     36-3  clsorg  \n",
       "4832                     53-3  clsorg  \n",
       "167                      99-3  clsorg  \n",
       "6208                    150-4  clsorg  \n",
       "3383                     90-3  clsorg  \n",
       "4907                90-4;90-2  clsorg  \n",
       "6895                    209-2  clsorg  \n",
       "832                      47-4  clsorg  \n",
       "3208                    235-4  clsorg  \n",
       "210                     265-3  clsorg  \n",
       "2367                    112-3  clsorg  \n",
       "264                      26-4  clsorg  \n",
       "4376                    187-5  clsorg  \n",
       "696                      72-4  clsorg  \n",
       "2104                    150-4  clsorg  \n",
       "3442                    150-3  clsorg  \n",
       "3198  157-3;235-3;129-3;223-3  clsorg  \n",
       "4641                    235-4  clsorg  \n",
       "2199              186-4;204-3  clsorg  \n",
       "5088                    112-3  clsorg  "
      ]
     },
     "execution_count": 5,
     "metadata": {},
     "output_type": "execute_result"
    }
   ],
   "source": [
    "# [pin]\n",
    "file_path = \"../data/data-hard.csv\"\n",
    "root_path = \"../data/\"\n",
    "\n",
    "\n",
    "df = pd.read_csv(file_path)\n",
    "df[\"prefix\"] = \"clsorg\"\n",
    "df = df.rename({\"message\": \"input_text\", \"label\": \"target_text\"}, axis=1)\n",
    "df.sample(20)"
   ]
  },
  {
   "cell_type": "code",
   "execution_count": null,
   "metadata": {},
   "outputs": [],
   "source": [
    "m_name = \"t5-small\"\n",
    "tokenizer = T5Tokenizer.from_pretrained(m_name)"
   ]
  },
  {
   "cell_type": "code",
   "execution_count": null,
   "metadata": {},
   "outputs": [],
   "source": [
    "BATCH_SIZE = 64\n",
    "EPOCHS = 10\n",
    "train_df, test_df = train_test_split(df, test_size=0.25, random_state=42)"
   ]
  },
  {
   "cell_type": "code",
   "execution_count": null,
   "metadata": {},
   "outputs": [],
   "source": [
    "import torch\n",
    "from transformers import T5ForConditionalGeneration\n",
    "\n",
    "# m_name = \"t5-small\"\n",
    "# trained_model = T5ForConditionalGeneration.from_pretrained(m_name, return_dict=True)\n",
    "# state_dict = torch.load(\"./checkpoints/ner-v5.ckpt\")[\"state_dict\"]\n",
    "# state_dict = {k.partition(\"model.\")[2]: v for k, v in state_dict.items()}\n",
    "# trained_model.load_state_dict(state_dict)\n",
    "# trained_model.save_pretrained(\"./pretrained\")"
   ]
  },
  {
   "cell_type": "code",
   "execution_count": null,
   "metadata": {},
   "outputs": [],
   "source": [
    "m_name = \"./pretrained\"\n",
    "trained_model = T5ForConditionalGeneration.from_pretrained(\n",
    "    m_name, return_dict=True, torch_dtype=torch.float32\n",
    ")\n",
    "trained_model.cuda();"
   ]
  },
  {
   "cell_type": "code",
   "execution_count": null,
   "metadata": {},
   "outputs": [],
   "source": [
    "import onnxruntime as rt\n",
    "from optimum.onnxruntime import ORTModelForSeq2SeqLM\n",
    "\n",
    "print(rt.get_available_providers())\n",
    "\n",
    "ort_model = ORTModelForSeq2SeqLM.from_pretrained(\n",
    "    \"./pretrained\",\n",
    "    provider=\"CUDAExecutionProvider\",\n",
    "    export=True,\n",
    ")"
   ]
  },
  {
   "cell_type": "code",
   "execution_count": null,
   "metadata": {},
   "outputs": [],
   "source": [
    "import torch\n",
    "\n",
    "from src.t5.utils import evaluate_metric, generate_answer_batched"
   ]
  },
  {
   "cell_type": "code",
   "execution_count": null,
   "metadata": {},
   "outputs": [
    {
     "data": {
      "application/vnd.jupyter.widget-view+json": {
       "model_id": "497296567e9d437eaad8cfd723b1ac43",
       "version_major": 2,
       "version_minor": 0
      },
      "text/plain": [
       "  0%|          | 0/19 [00:00<?, ?it/s]"
      ]
     },
     "metadata": {},
     "output_type": "display_data"
    },
    {
     "name": "stderr",
     "output_type": "stream",
     "text": [
      "/home/worker/workspace/hakaton-gagarin-sentiment_interface/.conda/lib/python3.11/site-packages/transformers/generation/configuration_utils.py:453: UserWarning: `num_beams` is set to 1. However, `early_stopping` is set to `True` -- this flag is only used in beam-based generation modes. You should set `num_beams>1` or unset `early_stopping`.\n",
      "  warnings.warn(\n"
     ]
    }
   ],
   "source": [
    "# [pin]\n",
    "with torch.inference_mode():\n",
    "    predictions = generate_answer_batched(\n",
    "        trained_model=ort_model,\n",
    "        tokenizer=tokenizer,\n",
    "        data=test_df[:1200],\n",
    "        batch_size=64,\n",
    "        n_beams=1,\n",
    "        max_length=386,\n",
    "    )"
   ]
  },
  {
   "cell_type": "code",
   "execution_count": null,
   "metadata": {},
   "outputs": [
    {
     "data": {
      "application/vnd.jupyter.widget-view+json": {
       "model_id": "0b3b3238ca674791b2b6ff2225d4c899",
       "version_major": 2,
       "version_minor": 0
      },
      "text/plain": [
       "  0%|          | 0/19 [00:00<?, ?it/s]"
      ]
     },
     "metadata": {},
     "output_type": "display_data"
    }
   ],
   "source": [
    "# [pin]\n",
    "with torch.inference_mode(), torch.cuda.amp.autocast():\n",
    "    predictions = generate_answer_batched(\n",
    "        trained_model=trained_model,\n",
    "        tokenizer=tokenizer,\n",
    "        data=test_df[:1200],\n",
    "        batch_size=64,\n",
    "        n_beams=1,\n",
    "        max_length=386,\n",
    "    )"
   ]
  },
  {
   "cell_type": "code",
   "execution_count": null,
   "metadata": {},
   "outputs": [],
   "source": [
    "ldf = test_df.copy()[:1200]\n",
    "ldf[\"predictions\"] = predictions\n",
    "ldf[[\"tcomp\", \"tsent\"]] = (\n",
    "    ldf[\"target_text\"].str.split(\";\", expand=True)[0].str.split(\"-\", expand=True)\n",
    ")\n",
    "ldf[[\"pcomp\", \"psent\"]] = (\n",
    "    ldf[\"predictions\"].str.split(\";\", expand=True)[0].str.split(\"-\", expand=True)\n",
    ")"
   ]
  },
  {
   "cell_type": "code",
   "execution_count": null,
   "metadata": {},
   "outputs": [
    {
     "data": {
      "text/plain": [
       "{'total': 58.241360011302056, 'f1': 0.6373272002260412, 'accuracy': 0.5275}"
      ]
     },
     "execution_count": 22,
     "metadata": {},
     "output_type": "execute_result"
    }
   ],
   "source": [
    "# [pin]\n",
    "\n",
    "evaluate_metric(\n",
    "    company_predictions=ldf[\"pcomp\"].tolist(),\n",
    "    company_labels=ldf[\"tcomp\"].tolist(),\n",
    "    sentiment_predictions=ldf[\"psent\"].tolist(),\n",
    "    sentiment_labels=ldf[\"tsent\"].tolist(),\n",
    ")"
   ]
  }
 ],
 "metadata": {
  "kernelspec": {
   "display_name": "Python 3",
   "language": "python",
   "name": "python3"
  },
  "language_info": {
   "codemirror_mode": {
    "name": "ipython",
    "version": 3
   },
   "file_extension": ".py",
   "mimetype": "text/x-python",
   "name": "python",
   "nbconvert_exporter": "python",
   "pygments_lexer": "ipython3",
   "version": "3.11.8"
  }
 },
 "nbformat": 4,
 "nbformat_minor": 2
}
