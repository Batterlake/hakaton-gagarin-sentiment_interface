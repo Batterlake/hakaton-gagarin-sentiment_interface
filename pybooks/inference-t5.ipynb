{
 "cells": [
  {
   "cell_type": "code",
   "execution_count": null,
   "metadata": {},
   "outputs": [],
   "source": [
    "%load_ext autoreload\n",
    "%autoreload 2"
   ]
  },
  {
   "cell_type": "code",
   "execution_count": null,
   "metadata": {},
   "outputs": [],
   "source": [
    "import sys\n",
    "\n",
    "sys.path.append(\"../\")"
   ]
  },
  {
   "cell_type": "code",
   "execution_count": null,
   "metadata": {},
   "outputs": [],
   "source": [
    "import os\n",
    "\n",
    "os.environ[\"CUDA_VISIBLE_DEVICES\"] = \"0\"\n",
    "os.environ[\"CUDA_DEVICE_ORDER\"] = \"PCI_BUS_ID\""
   ]
  },
  {
   "cell_type": "code",
   "execution_count": null,
   "metadata": {},
   "outputs": [],
   "source": [
    "import pandas as pd\n",
    "from sklearn.model_selection import train_test_split\n",
    "from transformers import T5Tokenizer"
   ]
  },
  {
   "cell_type": "code",
   "execution_count": null,
   "metadata": {},
   "outputs": [],
   "source": [
    "import random\n",
    "\n",
    "import numpy as np\n",
    "import torch\n",
    "\n",
    "\n",
    "def seed_everything(seed=10):\n",
    "    random.seed(seed)\n",
    "    os.environ[\"PYTHONHASHSEED\"] = str(seed)\n",
    "    np.random.seed(seed)\n",
    "    torch.manual_seed(seed)\n",
    "    torch.cuda.manual_seed(seed)\n",
    "    torch.backends.cudnn.deterministic = True\n",
    "\n",
    "\n",
    "seed_everything()"
   ]
  },
  {
   "cell_type": "code",
   "execution_count": null,
   "metadata": {},
   "outputs": [
    {
     "data": {
      "text/html": [
       "<div>\n",
       "<style scoped>\n",
       "    .dataframe tbody tr th:only-of-type {\n",
       "        vertical-align: middle;\n",
       "    }\n",
       "\n",
       "    .dataframe tbody tr th {\n",
       "        vertical-align: top;\n",
       "    }\n",
       "\n",
       "    .dataframe thead th {\n",
       "        text-align: right;\n",
       "    }\n",
       "</style>\n",
       "<table border=\"1\" class=\"dataframe\">\n",
       "  <thead>\n",
       "    <tr style=\"text-align: right;\">\n",
       "      <th></th>\n",
       "      <th>input_text</th>\n",
       "      <th>target_text</th>\n",
       "      <th>prefix</th>\n",
       "    </tr>\n",
       "  </thead>\n",
       "  <tbody>\n",
       "    <tr>\n",
       "      <th>6626</th>\n",
       "      <td>🛢🇪🇺#газ #европа #запасы  По данным Gas Infrast...</td>\n",
       "      <td>48-3</td>\n",
       "      <td>clsorg</td>\n",
       "    </tr>\n",
       "    <tr>\n",
       "      <th>4531</th>\n",
       "      <td>🇷🇺 $LKOH #buyback  ЛУКОЙЛ ПРОСИТ РАЗРЕШЕНИЯ У ...</td>\n",
       "      <td>111-4</td>\n",
       "      <td>clsorg</td>\n",
       "    </tr>\n",
       "    <tr>\n",
       "      <th>4064</th>\n",
       "      <td>☎️ Ростелеком: брать или не брать — вот в чем ...</td>\n",
       "      <td>142-4</td>\n",
       "      <td>clsorg</td>\n",
       "    </tr>\n",
       "    <tr>\n",
       "      <th>1326</th>\n",
       "      <td>#CHMF Cеверсталь изучает возможность строитель...</td>\n",
       "      <td>152-4</td>\n",
       "      <td>clsorg</td>\n",
       "    </tr>\n",
       "    <tr>\n",
       "      <th>4884</th>\n",
       "      <td>🇷🇺#NVTK #расписки  «НОВАТЭК» сообщает о заверш...</td>\n",
       "      <td>115-3</td>\n",
       "      <td>clsorg</td>\n",
       "    </tr>\n",
       "    <tr>\n",
       "      <th>1128</th>\n",
       "      <td>\"📢Banking news  🔻ЦБ оштрафовал Тинькофф Банк и...</td>\n",
       "      <td>7-4</td>\n",
       "      <td>clsorg</td>\n",
       "    </tr>\n",
       "    <tr>\n",
       "      <th>3721</th>\n",
       "      <td>​​Эталон - как спрятать слабость за сделкой?  ...</td>\n",
       "      <td>56-3;218-2</td>\n",
       "      <td>clsorg</td>\n",
       "    </tr>\n",
       "    <tr>\n",
       "      <th>6649</th>\n",
       "      <td>🛢🇷🇺#NVTK #GAZP #спг #газ Перспективный проект ...</td>\n",
       "      <td>115-3</td>\n",
       "      <td>clsorg</td>\n",
       "    </tr>\n",
       "    <tr>\n",
       "      <th>3854</th>\n",
       "      <td>​​🟢 ИТОГИ ДНЯ. Российский рынок акций вновь ра...</td>\n",
       "      <td>99-3;227-4;89-3;90-3</td>\n",
       "      <td>clsorg</td>\n",
       "    </tr>\n",
       "    <tr>\n",
       "      <th>2081</th>\n",
       "      <td>Банк из северной столицы идет на юг    Вышел о...</td>\n",
       "      <td>33-4</td>\n",
       "      <td>clsorg</td>\n",
       "    </tr>\n",
       "    <tr>\n",
       "      <th>5212</th>\n",
       "      <td>🇷🇺#YNDX  Yandex N.V. планирует перезапуск под ...</td>\n",
       "      <td>236-4</td>\n",
       "      <td>clsorg</td>\n",
       "    </tr>\n",
       "    <tr>\n",
       "      <th>142</th>\n",
       "      <td>\"Более чем странное заявление. На сайте ГЭХ за...</td>\n",
       "      <td>42-2</td>\n",
       "      <td>clsorg</td>\n",
       "    </tr>\n",
       "    <tr>\n",
       "      <th>2769</th>\n",
       "      <td>Основные тезисы из разбора бизнеса застройщика...</td>\n",
       "      <td>56-4</td>\n",
       "      <td>clsorg</td>\n",
       "    </tr>\n",
       "    <tr>\n",
       "      <th>2841</th>\n",
       "      <td>Подозрительная щедрость Белуги  Вышла рекоменд...</td>\n",
       "      <td>36-4</td>\n",
       "      <td>clsorg</td>\n",
       "    </tr>\n",
       "    <tr>\n",
       "      <th>2648</th>\n",
       "      <td>НАПРАВЛЕНИЯ ЛОКАЛЬНЫХ ТРЕНДОВ ПО БАЗОВЫМ ИНСТР...</td>\n",
       "      <td>236-3</td>\n",
       "      <td>clsorg</td>\n",
       "    </tr>\n",
       "    <tr>\n",
       "      <th>5970</th>\n",
       "      <td>💥🇷🇺#VKCO = макс за 1 год</td>\n",
       "      <td>223-3</td>\n",
       "      <td>clsorg</td>\n",
       "    </tr>\n",
       "    <tr>\n",
       "      <th>1711</th>\n",
       "      <td>#Идея #ETLN 🧠 Мозговой центр Сигналов РЦБ закр...</td>\n",
       "      <td>218-2</td>\n",
       "      <td>clsorg</td>\n",
       "    </tr>\n",
       "    <tr>\n",
       "      <th>2444</th>\n",
       "      <td>Золотая лихорадка🔥Акции и инвестиции  📈GOLD +0...</td>\n",
       "      <td>103-3;227-2;127-4</td>\n",
       "      <td>clsorg</td>\n",
       "    </tr>\n",
       "    <tr>\n",
       "      <th>5664</th>\n",
       "      <td>💥🇷🇺#BELU = +8%</td>\n",
       "      <td>36-3</td>\n",
       "      <td>clsorg</td>\n",
       "    </tr>\n",
       "    <tr>\n",
       "      <th>3682</th>\n",
       "      <td>​​Рынок золота: готовимся к рецессии?  После д...</td>\n",
       "      <td>127-4</td>\n",
       "      <td>clsorg</td>\n",
       "    </tr>\n",
       "  </tbody>\n",
       "</table>\n",
       "</div>"
      ],
      "text/plain": [
       "                                             input_text           target_text  \\\n",
       "6626  🛢🇪🇺#газ #европа #запасы  По данным Gas Infrast...                  48-3   \n",
       "4531  🇷🇺 $LKOH #buyback  ЛУКОЙЛ ПРОСИТ РАЗРЕШЕНИЯ У ...                 111-4   \n",
       "4064  ☎️ Ростелеком: брать или не брать — вот в чем ...                 142-4   \n",
       "1326  #CHMF Cеверсталь изучает возможность строитель...                 152-4   \n",
       "4884  🇷🇺#NVTK #расписки  «НОВАТЭК» сообщает о заверш...                 115-3   \n",
       "1128  \"📢Banking news  🔻ЦБ оштрафовал Тинькофф Банк и...                   7-4   \n",
       "3721  ​​Эталон - как спрятать слабость за сделкой?  ...            56-3;218-2   \n",
       "6649  🛢🇷🇺#NVTK #GAZP #спг #газ Перспективный проект ...                 115-3   \n",
       "3854  ​​🟢 ИТОГИ ДНЯ. Российский рынок акций вновь ра...  99-3;227-4;89-3;90-3   \n",
       "2081  Банк из северной столицы идет на юг    Вышел о...                  33-4   \n",
       "5212  🇷🇺#YNDX  Yandex N.V. планирует перезапуск под ...                 236-4   \n",
       "142   \"Более чем странное заявление. На сайте ГЭХ за...                  42-2   \n",
       "2769  Основные тезисы из разбора бизнеса застройщика...                  56-4   \n",
       "2841  Подозрительная щедрость Белуги  Вышла рекоменд...                  36-4   \n",
       "2648  НАПРАВЛЕНИЯ ЛОКАЛЬНЫХ ТРЕНДОВ ПО БАЗОВЫМ ИНСТР...                 236-3   \n",
       "5970                           💥🇷🇺#VKCO = макс за 1 год                 223-3   \n",
       "1711  #Идея #ETLN 🧠 Мозговой центр Сигналов РЦБ закр...                 218-2   \n",
       "2444  Золотая лихорадка🔥Акции и инвестиции  📈GOLD +0...     103-3;227-2;127-4   \n",
       "5664                                     💥🇷🇺#BELU = +8%                  36-3   \n",
       "3682  ​​Рынок золота: готовимся к рецессии?  После д...                 127-4   \n",
       "\n",
       "      prefix  \n",
       "6626  clsorg  \n",
       "4531  clsorg  \n",
       "4064  clsorg  \n",
       "1326  clsorg  \n",
       "4884  clsorg  \n",
       "1128  clsorg  \n",
       "3721  clsorg  \n",
       "6649  clsorg  \n",
       "3854  clsorg  \n",
       "2081  clsorg  \n",
       "5212  clsorg  \n",
       "142   clsorg  \n",
       "2769  clsorg  \n",
       "2841  clsorg  \n",
       "2648  clsorg  \n",
       "5970  clsorg  \n",
       "1711  clsorg  \n",
       "2444  clsorg  \n",
       "5664  clsorg  \n",
       "3682  clsorg  "
      ]
     },
     "execution_count": 18,
     "metadata": {},
     "output_type": "execute_result"
    }
   ],
   "source": [
    "# [pin]\n",
    "file_path = \"../data/data-hard2.csv\"\n",
    "root_path = \"../data/\"\n",
    "\n",
    "\n",
    "df = pd.read_csv(file_path)\n",
    "df[\"prefix\"] = \"clsorg\"\n",
    "df = df.rename({\"message\": \"input_text\", \"label\": \"target_text\"}, axis=1)\n",
    "df.sample(20)"
   ]
  },
  {
   "cell_type": "code",
   "execution_count": null,
   "metadata": {},
   "outputs": [],
   "source": [
    "# m_name = \"t5-small\"\n",
    "m_name = \"cointegrated/rut5-small\"\n",
    "tokenizer = T5Tokenizer.from_pretrained(m_name)"
   ]
  },
  {
   "cell_type": "code",
   "execution_count": null,
   "metadata": {},
   "outputs": [],
   "source": [
    "from src.t5.dataset import NERDataModel\n",
    "\n",
    "BATCH_SIZE = 128\n",
    "EPOCHS = 10\n",
    "num_workers = 12\n",
    "train_df, test_df = train_test_split(df, test_size=0.25, random_state=42)\n",
    "data_module = NERDataModel(\n",
    "    train_df, test_df, tokenizer, batch_size=BATCH_SIZE, num_workers=num_workers\n",
    ")\n",
    "data_module.setup()"
   ]
  },
  {
   "cell_type": "code",
   "execution_count": null,
   "metadata": {},
   "outputs": [],
   "source": [
    "from transformers import T5ForConditionalGeneration"
   ]
  },
  {
   "cell_type": "code",
   "execution_count": null,
   "metadata": {},
   "outputs": [],
   "source": [
    "m_name = \"t5-small\"\n",
    "trained_model = T5ForConditionalGeneration.from_pretrained(m_name, return_dict=True)\n",
    "state_dict = torch.load(\"./checkpoints/ner-v8.ckpt\")[\"state_dict\"]\n",
    "state_dict = {k.partition(\"model.\")[2]: v for k, v in state_dict.items()}\n",
    "trained_model.load_state_dict(state_dict)\n",
    "trained_model.save_pretrained(\"./pretrained\")"
   ]
  },
  {
   "cell_type": "code",
   "execution_count": null,
   "metadata": {},
   "outputs": [],
   "source": [
    "m_name = \"../pretrained-rut5-2\"\n",
    "trained_model = T5ForConditionalGeneration.from_pretrained(\n",
    "    m_name, return_dict=True, torch_dtype=torch.float16\n",
    ")\n",
    "trained_model.save_pretrained(\"../pretrained-rut5-2-fp16\")"
   ]
  },
  {
   "cell_type": "code",
   "execution_count": null,
   "metadata": {},
   "outputs": [],
   "source": [
    "m_name = \"../pretrained-rut5-2-fp16\"\n",
    "trained_model = T5ForConditionalGeneration.from_pretrained(\n",
    "    m_name, return_dict=True, torch_dtype=torch.float16\n",
    ")\n",
    "trained_model.cuda();"
   ]
  },
  {
   "cell_type": "code",
   "execution_count": null,
   "metadata": {},
   "outputs": [],
   "source": [
    "import torch\n",
    "\n",
    "from final_solution.utils import generate_answer_batched, postprocess_predictions\n",
    "from src.t5.utils import evaluate_metric"
   ]
  },
  {
   "cell_type": "code",
   "execution_count": null,
   "metadata": {},
   "outputs": [
    {
     "name": "stderr",
     "output_type": "stream",
     "text": [
      "  0%|          | 0/14 [00:00<?, ?it/s]/home/worker/workspace/hakaton-gagarin-sentiment_interface/.conda/lib/python3.11/site-packages/transformers/generation/configuration_utils.py:453: UserWarning: `num_beams` is set to 1. However, `early_stopping` is set to `True` -- this flag is only used in beam-based generation modes. You should set `num_beams>1` or unset `early_stopping`.\n",
      "  warnings.warn(\n",
      "100%|██████████| 14/14 [00:12<00:00,  1.11it/s]\n"
     ]
    }
   ],
   "source": [
    "# [pin]\n",
    "with torch.inference_mode(), torch.cuda.amp.autocast():\n",
    "    predictions = generate_answer_batched(\n",
    "        trained_model=trained_model,\n",
    "        tokenizer=tokenizer,\n",
    "        data=test_df[:],\n",
    "        batch_size=128,\n",
    "        num_beams=1,\n",
    "        max_source_length=396,\n",
    "        max_target_length=40,\n",
    "        verbose=False,\n",
    "    )"
   ]
  },
  {
   "cell_type": "code",
   "execution_count": null,
   "metadata": {},
   "outputs": [],
   "source": [
    "ldf = test_df.copy()[:]\n",
    "ldf[[\"tcomp\", \"tsent\"]] = (\n",
    "    ldf[\"target_text\"].str.split(\";\", expand=True)[0].str.split(\"-\", expand=True)\n",
    ")"
   ]
  },
  {
   "cell_type": "code",
   "execution_count": null,
   "metadata": {},
   "outputs": [],
   "source": [
    "orgsent = list(\n",
    "    map(lambda x: x[0] if len(x) else [0, 1], postprocess_predictions(predictions))\n",
    ")\n",
    "org = list(map(lambda x: x[0], orgsent))\n",
    "sent = list(map(lambda x: x[1], orgsent))"
   ]
  },
  {
   "cell_type": "code",
   "execution_count": null,
   "metadata": {},
   "outputs": [],
   "source": [
    "len(org), len(ldf[\"tcomp\"].tolist())"
   ]
  },
  {
   "cell_type": "code",
   "execution_count": null,
   "metadata": {},
   "outputs": [
    {
     "data": {
      "text/plain": [
       "{'total': 66.29664090017164,\n",
       " 'f1': 0.7122964543670691,\n",
       " 'accuracy': 0.6136363636363636}"
      ]
     },
     "execution_count": 28,
     "metadata": {},
     "output_type": "execute_result"
    }
   ],
   "source": [
    "# [pin]\n",
    "\n",
    "evaluate_metric(\n",
    "    company_predictions=org,\n",
    "    company_labels=ldf[\"tcomp\"].tolist(),\n",
    "    sentiment_predictions=sent,\n",
    "    sentiment_labels=ldf[\"tsent\"].tolist(),\n",
    ")"
   ]
  }
 ],
 "metadata": {
  "kernelspec": {
   "display_name": "Python 3",
   "language": "python",
   "name": "python3"
  },
  "language_info": {
   "codemirror_mode": {
    "name": "ipython",
    "version": 3
   },
   "file_extension": ".py",
   "mimetype": "text/x-python",
   "name": "python",
   "nbconvert_exporter": "python",
   "pygments_lexer": "ipython3",
   "version": "3.11.8"
  }
 },
 "nbformat": 4,
 "nbformat_minor": 2
}
