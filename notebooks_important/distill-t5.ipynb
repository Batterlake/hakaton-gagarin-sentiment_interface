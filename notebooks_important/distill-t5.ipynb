{
 "cells": [
  {
   "cell_type": "code",
   "execution_count": null,
   "metadata": {},
   "outputs": [],
   "source": [
    "%load_ext autoreload\n",
    "%autoreload 2"
   ]
  },
  {
   "cell_type": "code",
   "execution_count": null,
   "metadata": {},
   "outputs": [],
   "source": [
    "import sys\n",
    "\n",
    "sys.path.append(\"../\")"
   ]
  },
  {
   "cell_type": "code",
   "execution_count": null,
   "metadata": {},
   "outputs": [],
   "source": [
    "import os\n",
    "\n",
    "os.environ[\"CUDA_VISIBLE_DEVICES\"] = \"0\"\n",
    "os.environ[\"CUDA_DEVICE_ORDER\"] = \"PCI_BUS_ID\""
   ]
  },
  {
   "cell_type": "code",
   "execution_count": null,
   "metadata": {},
   "outputs": [],
   "source": [
    "from copy import deepcopy\n",
    "\n",
    "import torch\n",
    "import torch.nn as nn\n",
    "from transformers import T5ForConditionalGeneration, T5Tokenizer\n",
    "\n",
    "# from final_solution.utils import get_inference_model\n",
    "\n",
    "\n",
    "def count_parameters(model):\n",
    "    return sum(p.numel() for p in model.parameters() if p.requires_grad)\n",
    "\n",
    "\n",
    "# baseline_model = get_inference_model('../pretrained-rut5-2-fp16')\n",
    "# baseline_model = get_inference_model(\"t5-small\")\n",
    "baseline_model = T5ForConditionalGeneration.from_pretrained(\n",
    "    \"t5-small\", return_dict=True, torch_dtype=torch.float16\n",
    ")\n",
    "baseline_model.cuda()\n",
    "\n",
    "student_model = deepcopy(baseline_model)\n",
    "\n",
    "keep_encoder_blocks = [1, 2, 4, -1]\n",
    "keep_decoder_blocks = [1, 2, 4, -1]\n",
    "\n",
    "student_model.encoder.block = nn.ModuleList(\n",
    "    [student_model.encoder.block[i] for i in keep_encoder_blocks]\n",
    ")\n",
    "student_model.decoder.block = nn.ModuleList(\n",
    "    [student_model.decoder.block[i] for i in keep_decoder_blocks]\n",
    ")\n",
    "student_model.cuda();"
   ]
  },
  {
   "cell_type": "code",
   "execution_count": null,
   "metadata": {},
   "outputs": [],
   "source": [
    "count_parameters(baseline_model) / count_parameters(student_model)"
   ]
  },
  {
   "cell_type": "code",
   "execution_count": null,
   "metadata": {},
   "outputs": [],
   "source": [
    "import pandas as pd\n",
    "from sklearn.model_selection import train_test_split"
   ]
  },
  {
   "cell_type": "code",
   "execution_count": null,
   "metadata": {},
   "outputs": [
    {
     "data": {
      "text/html": [
       "<div>\n",
       "<style scoped>\n",
       "    .dataframe tbody tr th:only-of-type {\n",
       "        vertical-align: middle;\n",
       "    }\n",
       "\n",
       "    .dataframe tbody tr th {\n",
       "        vertical-align: top;\n",
       "    }\n",
       "\n",
       "    .dataframe thead th {\n",
       "        text-align: right;\n",
       "    }\n",
       "</style>\n",
       "<table border=\"1\" class=\"dataframe\">\n",
       "  <thead>\n",
       "    <tr style=\"text-align: right;\">\n",
       "      <th></th>\n",
       "      <th>input_text</th>\n",
       "      <th>target_text</th>\n",
       "      <th>prefix</th>\n",
       "    </tr>\n",
       "  </thead>\n",
       "  <tbody>\n",
       "    <tr>\n",
       "      <th>6999</th>\n",
       "      <td>🟢 Новости к этому часу  ⚪️ Цена барреля Юралз ...</td>\n",
       "      <td>99-2</td>\n",
       "      <td>clsorg</td>\n",
       "    </tr>\n",
       "    <tr>\n",
       "      <th>2584</th>\n",
       "      <td>Конференция Смартлаба 24 июня в Санкт-Петербур...</td>\n",
       "      <td>53-3</td>\n",
       "      <td>clsorg</td>\n",
       "    </tr>\n",
       "    <tr>\n",
       "      <th>3867</th>\n",
       "      <td>​​🔍 Что шортят и покупают с плечом клиенты БКС...</td>\n",
       "      <td>99-2;160-3;227-3</td>\n",
       "      <td>clsorg</td>\n",
       "    </tr>\n",
       "    <tr>\n",
       "      <th>4711</th>\n",
       "      <td>🇷🇺#ALRS  АЛРОСА оценивает capex рудника Мир в ...</td>\n",
       "      <td>4-3</td>\n",
       "      <td>clsorg</td>\n",
       "    </tr>\n",
       "    <tr>\n",
       "      <th>1829</th>\n",
       "      <td>$NVTK Завод Новатэк. Взрыв.  ❗️Украинские СМИ ...</td>\n",
       "      <td>115-2</td>\n",
       "      <td>clsorg</td>\n",
       "    </tr>\n",
       "    <tr>\n",
       "      <th>4003</th>\n",
       "      <td>​​🟢 ИТОГИ ДНЯ. Российский рынок акций снова вы...</td>\n",
       "      <td>44-3;74-3;185-3</td>\n",
       "      <td>clsorg</td>\n",
       "    </tr>\n",
       "    <tr>\n",
       "      <th>3502</th>\n",
       "      <td>​Итоги последнего торгового дня мая на Московк...</td>\n",
       "      <td>111-3</td>\n",
       "      <td>clsorg</td>\n",
       "    </tr>\n",
       "    <tr>\n",
       "      <th>4198</th>\n",
       "      <td>⚠️🇷🇺#FEES #суд Инвесторы предъявили «Россетям»...</td>\n",
       "      <td>186-2</td>\n",
       "      <td>clsorg</td>\n",
       "    </tr>\n",
       "    <tr>\n",
       "      <th>3032</th>\n",
       "      <td>Результаты Globaltrans в 2022: рекордные показ...</td>\n",
       "      <td>220-3</td>\n",
       "      <td>clsorg</td>\n",
       "    </tr>\n",
       "    <tr>\n",
       "      <th>1871</th>\n",
       "      <td>6 апреля крупный онлайн-ретейлер Ozon опублико...</td>\n",
       "      <td>230-4</td>\n",
       "      <td>clsorg</td>\n",
       "    </tr>\n",
       "    <tr>\n",
       "      <th>4385</th>\n",
       "      <td>⚪️ Татнефть вчера представила финансовые резул...</td>\n",
       "      <td>163-4</td>\n",
       "      <td>clsorg</td>\n",
       "    </tr>\n",
       "    <tr>\n",
       "      <th>2796</th>\n",
       "      <td>Ожидаемые события на 14 августа  🇷🇺 В России  ...</td>\n",
       "      <td>36-3</td>\n",
       "      <td>clsorg</td>\n",
       "    </tr>\n",
       "    <tr>\n",
       "      <th>3791</th>\n",
       "      <td>​​Топчемся на месте 🔥Акции и инвестиции  📈IMOE...</td>\n",
       "      <td>160-4</td>\n",
       "      <td>clsorg</td>\n",
       "    </tr>\n",
       "    <tr>\n",
       "      <th>2843</th>\n",
       "      <td>Отчет «Мосэнерго», ОГК-2 и ТГК-1 за 2022 год: ...</td>\n",
       "      <td>42-4;166-4;215-4</td>\n",
       "      <td>clsorg</td>\n",
       "    </tr>\n",
       "    <tr>\n",
       "      <th>1980</th>\n",
       "      <td>X5 Group быстро растёт и может сменить «пропис...</td>\n",
       "      <td>227-5</td>\n",
       "      <td>clsorg</td>\n",
       "    </tr>\n",
       "    <tr>\n",
       "      <th>2633</th>\n",
       "      <td>Медленно, но верно вверх  Индекс акций МосБирж...</td>\n",
       "      <td>89-3</td>\n",
       "      <td>clsorg</td>\n",
       "    </tr>\n",
       "    <tr>\n",
       "      <th>1507</th>\n",
       "      <td>#MTSS МТС запустила R&amp;D-подразделение по разра...</td>\n",
       "      <td>100-4</td>\n",
       "      <td>clsorg</td>\n",
       "    </tr>\n",
       "    <tr>\n",
       "      <th>3190</th>\n",
       "      <td>Сегодня ждём:                             📈 Ин...</td>\n",
       "      <td>225-4</td>\n",
       "      <td>clsorg</td>\n",
       "    </tr>\n",
       "    <tr>\n",
       "      <th>2699</th>\n",
       "      <td>НАПРАВЛЕНИЯ ЛОКАЛЬНЫХ ТРЕНДОВ ПО БАЗОВЫМ ИНСТР...</td>\n",
       "      <td>72-3;111-1</td>\n",
       "      <td>clsorg</td>\n",
       "    </tr>\n",
       "    <tr>\n",
       "      <th>721</th>\n",
       "      <td>\"🇷🇺#MTLR #RASP #уголь Аналитики положительно о...</td>\n",
       "      <td>99-4;129-4</td>\n",
       "      <td>clsorg</td>\n",
       "    </tr>\n",
       "  </tbody>\n",
       "</table>\n",
       "</div>"
      ],
      "text/plain": [
       "                                             input_text       target_text  \\\n",
       "6999  🟢 Новости к этому часу  ⚪️ Цена барреля Юралз ...              99-2   \n",
       "2584  Конференция Смартлаба 24 июня в Санкт-Петербур...              53-3   \n",
       "3867  ​​🔍 Что шортят и покупают с плечом клиенты БКС...  99-2;160-3;227-3   \n",
       "4711  🇷🇺#ALRS  АЛРОСА оценивает capex рудника Мир в ...               4-3   \n",
       "1829  $NVTK Завод Новатэк. Взрыв.  ❗️Украинские СМИ ...             115-2   \n",
       "4003  ​​🟢 ИТОГИ ДНЯ. Российский рынок акций снова вы...   44-3;74-3;185-3   \n",
       "3502  ​Итоги последнего торгового дня мая на Московк...             111-3   \n",
       "4198  ⚠️🇷🇺#FEES #суд Инвесторы предъявили «Россетям»...             186-2   \n",
       "3032  Результаты Globaltrans в 2022: рекордные показ...             220-3   \n",
       "1871  6 апреля крупный онлайн-ретейлер Ozon опублико...             230-4   \n",
       "4385  ⚪️ Татнефть вчера представила финансовые резул...             163-4   \n",
       "2796  Ожидаемые события на 14 августа  🇷🇺 В России  ...              36-3   \n",
       "3791  ​​Топчемся на месте 🔥Акции и инвестиции  📈IMOE...             160-4   \n",
       "2843  Отчет «Мосэнерго», ОГК-2 и ТГК-1 за 2022 год: ...  42-4;166-4;215-4   \n",
       "1980  X5 Group быстро растёт и может сменить «пропис...             227-5   \n",
       "2633  Медленно, но верно вверх  Индекс акций МосБирж...              89-3   \n",
       "1507  #MTSS МТС запустила R&D-подразделение по разра...             100-4   \n",
       "3190  Сегодня ждём:                             📈 Ин...             225-4   \n",
       "2699  НАПРАВЛЕНИЯ ЛОКАЛЬНЫХ ТРЕНДОВ ПО БАЗОВЫМ ИНСТР...        72-3;111-1   \n",
       "721   \"🇷🇺#MTLR #RASP #уголь Аналитики положительно о...        99-4;129-4   \n",
       "\n",
       "      prefix  \n",
       "6999  clsorg  \n",
       "2584  clsorg  \n",
       "3867  clsorg  \n",
       "4711  clsorg  \n",
       "1829  clsorg  \n",
       "4003  clsorg  \n",
       "3502  clsorg  \n",
       "4198  clsorg  \n",
       "3032  clsorg  \n",
       "1871  clsorg  \n",
       "4385  clsorg  \n",
       "2796  clsorg  \n",
       "3791  clsorg  \n",
       "2843  clsorg  \n",
       "1980  clsorg  \n",
       "2633  clsorg  \n",
       "1507  clsorg  \n",
       "3190  clsorg  \n",
       "2699  clsorg  \n",
       "721   clsorg  "
      ]
     },
     "execution_count": 7,
     "metadata": {},
     "output_type": "execute_result"
    }
   ],
   "source": [
    "# [pin]\n",
    "file_path = \"../data/data-hard.csv\"\n",
    "root_path = \"../data/\"\n",
    "\n",
    "\n",
    "df = pd.read_csv(file_path)\n",
    "df[\"prefix\"] = \"clsorg\"\n",
    "df = df.rename({\"message\": \"input_text\", \"label\": \"target_text\"}, axis=1)\n",
    "df.sample(20)"
   ]
  },
  {
   "cell_type": "code",
   "execution_count": null,
   "metadata": {},
   "outputs": [],
   "source": [
    "# m_name = \"t5-small\"\n",
    "m_name = \"t5-small\"\n",
    "tokenizer = T5Tokenizer.from_pretrained(m_name)"
   ]
  },
  {
   "cell_type": "code",
   "execution_count": null,
   "metadata": {},
   "outputs": [],
   "source": [
    "from src.t5.dataset import NERDataModel\n",
    "\n",
    "BATCH_SIZE = 128\n",
    "EPOCHS = 10\n",
    "train_df, test_df = train_test_split(df, test_size=0.25, random_state=42)\n",
    "data_module = NERDataModel(train_df, test_df, tokenizer, batch_size=BATCH_SIZE)\n",
    "data_module.setup()"
   ]
  },
  {
   "cell_type": "code",
   "execution_count": null,
   "metadata": {},
   "outputs": [],
   "source": [
    "import time\n",
    "\n",
    "import torch\n",
    "\n",
    "from final_solution.utils import generate_answer_batched"
   ]
  },
  {
   "cell_type": "code",
   "execution_count": null,
   "metadata": {},
   "outputs": [
    {
     "name": "stderr",
     "output_type": "stream",
     "text": [
      "  0%|          | 0/29 [00:00<?, ?it/s]/home/worker/workspace/hakaton-gagarin-sentiment_interface/.conda/lib/python3.11/site-packages/transformers/generation/configuration_utils.py:453: UserWarning: `num_beams` is set to 1. However, `early_stopping` is set to `True` -- this flag is only used in beam-based generation modes. You should set `num_beams>1` or unset `early_stopping`.\n",
      "  warnings.warn(\n",
      "100%|██████████| 29/29 [00:21<00:00,  1.38it/s]"
     ]
    },
    {
     "name": "stdout",
     "output_type": "stream",
     "text": [
      "21.01047930889763\n"
     ]
    },
    {
     "name": "stderr",
     "output_type": "stream",
     "text": [
      "\n"
     ]
    }
   ],
   "source": [
    "# [pin]\n",
    "baseline_model.eval()\n",
    "baseline_model.cuda()\n",
    "with torch.inference_mode(), torch.cuda.amp.autocast():\n",
    "    begin = time.perf_counter()\n",
    "    predictions = generate_answer_batched(\n",
    "        trained_model=baseline_model,\n",
    "        tokenizer=tokenizer,\n",
    "        data=test_df,\n",
    "        batch_size=64,\n",
    "        max_target_length=40,\n",
    "        num_beams=1,\n",
    "    )\n",
    "    end = time.perf_counter()\n",
    "print(end - begin)"
   ]
  },
  {
   "cell_type": "code",
   "execution_count": null,
   "metadata": {},
   "outputs": [
    {
     "name": "stderr",
     "output_type": "stream",
     "text": [
      "100%|██████████| 29/29 [00:14<00:00,  1.95it/s]"
     ]
    },
    {
     "name": "stdout",
     "output_type": "stream",
     "text": [
      "14.869698968017474\n"
     ]
    },
    {
     "name": "stderr",
     "output_type": "stream",
     "text": [
      "\n"
     ]
    }
   ],
   "source": [
    "# [pin]\n",
    "student_model.eval()\n",
    "student_model.cuda()\n",
    "with torch.inference_mode(), torch.cuda.amp.autocast():\n",
    "    begin = time.perf_counter()\n",
    "    predictions = generate_answer_batched(\n",
    "        trained_model=student_model,\n",
    "        tokenizer=tokenizer,\n",
    "        data=test_df,\n",
    "        batch_size=64,\n",
    "        max_target_length=40,\n",
    "        num_beams=1,\n",
    "    )\n",
    "    end = time.perf_counter()\n",
    "print(end - begin)"
   ]
  },
  {
   "cell_type": "markdown",
   "metadata": {},
   "source": [
    "Достигнуто ускорение в 1.4 раза при уменьшении числа параметров в 1.3 раза"
   ]
  },
  {
   "cell_type": "markdown",
   "metadata": {},
   "source": [
    "Дальше требуется дообучить модель, например, на исходную задачу + дистилляционный лосс по активациям nn.KLDivLoss"
   ]
  }
 ],
 "metadata": {
  "kernelspec": {
   "display_name": "Python 3",
   "language": "python",
   "name": "python3"
  },
  "language_info": {
   "codemirror_mode": {
    "name": "ipython",
    "version": 3
   },
   "file_extension": ".py",
   "mimetype": "text/x-python",
   "name": "python",
   "nbconvert_exporter": "python",
   "pygments_lexer": "ipython3",
   "version": "3.11.8"
  }
 },
 "nbformat": 4,
 "nbformat_minor": 2
}
