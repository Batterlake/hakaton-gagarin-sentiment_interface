{
 "cells": [
  {
   "cell_type": "code",
   "execution_count": null,
   "metadata": {},
   "outputs": [],
   "source": [
    "import pandas as pd\n",
    "import pickle\n",
    "from collections import namedtuple\n",
    "from itertools import combinations\n",
    "import random"
   ]
  },
  {
   "cell_type": "code",
   "execution_count": null,
   "metadata": {},
   "outputs": [],
   "source": [
    "with open(\"../data/sentiment_texts.pickle\", \"rb\") as f:\n",
    "    sentiment = pickle.load(f)\n",
    "\n",
    "with open(\"../data/mentions_texts.pickle\", \"rb\") as f:\n",
    "    mentions = pickle.load(f)"
   ]
  },
  {
   "cell_type": "code",
   "execution_count": null,
   "metadata": {},
   "outputs": [],
   "source": [
    "sentiment.drop(\n",
    "    index=sentiment[sentiment.MessageText.str.len() == 0].index, inplace=True\n",
    ")"
   ]
  },
  {
   "cell_type": "code",
   "execution_count": null,
   "metadata": {},
   "outputs": [],
   "source": [
    "mentions.drop(columns=[\"messageid\"], inplace=True)\n",
    "mentions.drop(index=mentions[mentions.MessageText.str.len() == 0].index, inplace=True)\n",
    "mentions.drop(index=mentions[mentions.issuerid < 0].index, inplace=True)"
   ]
  },
  {
   "cell_type": "code",
   "execution_count": null,
   "metadata": {},
   "outputs": [],
   "source": [
    "ment = mentions[[\"issuerid\", \"MessageText\"]]\n",
    "sent = sentiment[[\"issuerid\", \"MessageText\", \"SentimentScore\"]]\n",
    "\n",
    "mrg = pd.merge(ment, sent, on=[\"issuerid\", \"MessageText\"], how=\"right\")"
   ]
  },
  {
   "cell_type": "code",
   "execution_count": null,
   "metadata": {},
   "outputs": [],
   "source": [
    "mrg = mrg[mrg.SentimentScore > 0]"
   ]
  },
  {
   "cell_type": "code",
   "execution_count": null,
   "metadata": {},
   "outputs": [],
   "source": [
    "mrg"
   ]
  },
  {
   "cell_type": "code",
   "execution_count": null,
   "metadata": {},
   "outputs": [],
   "source": [
    "Sample = namedtuple(\"Sample\", [\"message\", \"issuer_ids\", \"sentiments\"])"
   ]
  },
  {
   "cell_type": "code",
   "execution_count": null,
   "metadata": {},
   "outputs": [],
   "source": [
    "samples = []\n",
    "\n",
    "for message, group in mrg.groupby(\"MessageText\"):\n",
    "    samples.append(\n",
    "        Sample(\n",
    "            message,\n",
    "            group[\"issuerid\"].tolist(),\n",
    "            group[\"SentimentScore\"].tolist(),\n",
    "        )\n",
    "    )"
   ]
  },
  {
   "cell_type": "code",
   "execution_count": null,
   "metadata": {},
   "outputs": [],
   "source": [
    "len(samples)"
   ]
  },
  {
   "cell_type": "code",
   "execution_count": null,
   "metadata": {},
   "outputs": [],
   "source": [
    "short_samples = list(filter(lambda x: len(x.message) < 1024, samples))\n",
    "pairs = list(combinations(short_samples, 2))\n",
    "pairs = random.sample(pairs, 50_000)"
   ]
  },
  {
   "cell_type": "code",
   "execution_count": null,
   "metadata": {},
   "outputs": [],
   "source": [
    "auged_samples = []\n",
    "\n",
    "for pair in pairs:\n",
    "    concat_sample = Sample(\n",
    "        message=(pair[0].message + \" \" + pair[1].message),\n",
    "        issuer_ids=(pair[0].issuer_ids + pair[1].issuer_ids),\n",
    "        sentiments=(pair[0].sentiments + pair[1].sentiments),\n",
    "    )\n",
    "    auged_samples.append(concat_sample)\n",
    "\n",
    "samples.extend(auged_samples)\n",
    "random.shuffle(samples)"
   ]
  },
  {
   "cell_type": "code",
   "execution_count": null,
   "metadata": {},
   "outputs": [],
   "source": [
    "samples[-1].issuer_ids, samples[-1].sentiments"
   ]
  }
 ],
 "metadata": {
  "kernelspec": {
   "display_name": "venv",
   "language": "python",
   "name": "python3"
  },
  "language_info": {
   "codemirror_mode": {
    "name": "ipython",
    "version": 3
   },
   "file_extension": ".py",
   "mimetype": "text/x-python",
   "name": "python",
   "nbconvert_exporter": "python",
   "pygments_lexer": "ipython3",
   "version": "3.10.13"
  }
 },
 "nbformat": 4,
 "nbformat_minor": 2
}
